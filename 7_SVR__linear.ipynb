{
  "cells": [
    {
      "cell_type": "markdown",
      "metadata": {
        "id": "ryvoiRb1KooY"
      },
      "source": [
        "### Import libraries and datasets:"
      ]
    },
    {
      "cell_type": "code",
      "execution_count": 2,
      "metadata": {
        "id": "QX4fl48pKoob"
      },
      "outputs": [],
      "source": [
        "import numpy as np\n",
        "import pandas as pd\n",
        "import matplotlib.pyplot as plt\n",
        "from sklearn.metrics import mean_squared_error, mean_absolute_percentage_error, mean_squared_log_error\n",
        "\n",
        "from sklearn.preprocessing import MinMaxScaler\n",
        "from sklearn.svm import SVR\n",
        "from sklearn.multioutput import MultiOutputRegressor"
      ]
    },
    {
      "cell_type": "code",
      "execution_count": 3,
      "metadata": {
        "id": "lKF1nB1PKooe"
      },
      "outputs": [],
      "source": [
        "csv_fts = \"FTS Historical Data.csv\"\n",
        "csv_mwg = \"MWG Historical Data.csv\"\n",
        "csv_vic = \"VIC Historical Data.csv\"\n",
        "\n",
        "\n",
        "\n",
        "df_fts = pd.read_csv(csv_fts, thousands=',')\n",
        "df_mwg = pd.read_csv(csv_mwg, thousands=',')\n",
        "df_vic = pd.read_csv(csv_vic, thousands=',')"
      ]
    },
    {
      "cell_type": "markdown",
      "metadata": {
        "id": "knBeqnY1Koof"
      },
      "source": [
        "### Dataset 1: FTS"
      ]
    },
    {
      "cell_type": "markdown",
      "metadata": {
        "id": "6GF7uMilKoog"
      },
      "source": [
        "- Cast Date column to datetime type\n",
        "- Sort data ascending by Date"
      ]
    },
    {
      "cell_type": "code",
      "execution_count": 4,
      "metadata": {
        "colab": {
          "base_uri": "https://localhost:8080/",
          "height": 206
        },
        "id": "aFo7bHLPKoog",
        "outputId": "e42aceb2-dad7-48b0-fea7-0b1c9f21836e"
      },
      "outputs": [
        {
          "output_type": "execute_result",
          "data": {
            "text/plain": [
              "           Date  Price  Open  High   Low     Vol.  Change %\n",
              "1359 2018-01-02   5788  5859  5859  5788  103.55K   -0.0121\n",
              "1358 2018-01-03   5954  5765  5977  5741  245.02K    0.0286\n",
              "1357 2018-01-04   6025  5954  6143  5907  167.80K    0.0119\n",
              "1356 2018-01-05   5883  5977  6048  5883  113.88K   -0.0235\n",
              "1355 2018-01-08   6001  5859  6001  5765   63.36K    0.0201"
            ],
            "text/html": [
              "\n",
              "  <div id=\"df-2e440afc-de7d-4cfa-98ea-8df138c1d097\">\n",
              "    <div class=\"colab-df-container\">\n",
              "      <div>\n",
              "<style scoped>\n",
              "    .dataframe tbody tr th:only-of-type {\n",
              "        vertical-align: middle;\n",
              "    }\n",
              "\n",
              "    .dataframe tbody tr th {\n",
              "        vertical-align: top;\n",
              "    }\n",
              "\n",
              "    .dataframe thead th {\n",
              "        text-align: right;\n",
              "    }\n",
              "</style>\n",
              "<table border=\"1\" class=\"dataframe\">\n",
              "  <thead>\n",
              "    <tr style=\"text-align: right;\">\n",
              "      <th></th>\n",
              "      <th>Date</th>\n",
              "      <th>Price</th>\n",
              "      <th>Open</th>\n",
              "      <th>High</th>\n",
              "      <th>Low</th>\n",
              "      <th>Vol.</th>\n",
              "      <th>Change %</th>\n",
              "    </tr>\n",
              "  </thead>\n",
              "  <tbody>\n",
              "    <tr>\n",
              "      <th>1359</th>\n",
              "      <td>2018-01-02</td>\n",
              "      <td>5788</td>\n",
              "      <td>5859</td>\n",
              "      <td>5859</td>\n",
              "      <td>5788</td>\n",
              "      <td>103.55K</td>\n",
              "      <td>-0.0121</td>\n",
              "    </tr>\n",
              "    <tr>\n",
              "      <th>1358</th>\n",
              "      <td>2018-01-03</td>\n",
              "      <td>5954</td>\n",
              "      <td>5765</td>\n",
              "      <td>5977</td>\n",
              "      <td>5741</td>\n",
              "      <td>245.02K</td>\n",
              "      <td>0.0286</td>\n",
              "    </tr>\n",
              "    <tr>\n",
              "      <th>1357</th>\n",
              "      <td>2018-01-04</td>\n",
              "      <td>6025</td>\n",
              "      <td>5954</td>\n",
              "      <td>6143</td>\n",
              "      <td>5907</td>\n",
              "      <td>167.80K</td>\n",
              "      <td>0.0119</td>\n",
              "    </tr>\n",
              "    <tr>\n",
              "      <th>1356</th>\n",
              "      <td>2018-01-05</td>\n",
              "      <td>5883</td>\n",
              "      <td>5977</td>\n",
              "      <td>6048</td>\n",
              "      <td>5883</td>\n",
              "      <td>113.88K</td>\n",
              "      <td>-0.0235</td>\n",
              "    </tr>\n",
              "    <tr>\n",
              "      <th>1355</th>\n",
              "      <td>2018-01-08</td>\n",
              "      <td>6001</td>\n",
              "      <td>5859</td>\n",
              "      <td>6001</td>\n",
              "      <td>5765</td>\n",
              "      <td>63.36K</td>\n",
              "      <td>0.0201</td>\n",
              "    </tr>\n",
              "  </tbody>\n",
              "</table>\n",
              "</div>\n",
              "      <button class=\"colab-df-convert\" onclick=\"convertToInteractive('df-2e440afc-de7d-4cfa-98ea-8df138c1d097')\"\n",
              "              title=\"Convert this dataframe to an interactive table.\"\n",
              "              style=\"display:none;\">\n",
              "        \n",
              "  <svg xmlns=\"http://www.w3.org/2000/svg\" height=\"24px\"viewBox=\"0 0 24 24\"\n",
              "       width=\"24px\">\n",
              "    <path d=\"M0 0h24v24H0V0z\" fill=\"none\"/>\n",
              "    <path d=\"M18.56 5.44l.94 2.06.94-2.06 2.06-.94-2.06-.94-.94-2.06-.94 2.06-2.06.94zm-11 1L8.5 8.5l.94-2.06 2.06-.94-2.06-.94L8.5 2.5l-.94 2.06-2.06.94zm10 10l.94 2.06.94-2.06 2.06-.94-2.06-.94-.94-2.06-.94 2.06-2.06.94z\"/><path d=\"M17.41 7.96l-1.37-1.37c-.4-.4-.92-.59-1.43-.59-.52 0-1.04.2-1.43.59L10.3 9.45l-7.72 7.72c-.78.78-.78 2.05 0 2.83L4 21.41c.39.39.9.59 1.41.59.51 0 1.02-.2 1.41-.59l7.78-7.78 2.81-2.81c.8-.78.8-2.07 0-2.86zM5.41 20L4 18.59l7.72-7.72 1.47 1.35L5.41 20z\"/>\n",
              "  </svg>\n",
              "      </button>\n",
              "      \n",
              "  <style>\n",
              "    .colab-df-container {\n",
              "      display:flex;\n",
              "      flex-wrap:wrap;\n",
              "      gap: 12px;\n",
              "    }\n",
              "\n",
              "    .colab-df-convert {\n",
              "      background-color: #E8F0FE;\n",
              "      border: none;\n",
              "      border-radius: 50%;\n",
              "      cursor: pointer;\n",
              "      display: none;\n",
              "      fill: #1967D2;\n",
              "      height: 32px;\n",
              "      padding: 0 0 0 0;\n",
              "      width: 32px;\n",
              "    }\n",
              "\n",
              "    .colab-df-convert:hover {\n",
              "      background-color: #E2EBFA;\n",
              "      box-shadow: 0px 1px 2px rgba(60, 64, 67, 0.3), 0px 1px 3px 1px rgba(60, 64, 67, 0.15);\n",
              "      fill: #174EA6;\n",
              "    }\n",
              "\n",
              "    [theme=dark] .colab-df-convert {\n",
              "      background-color: #3B4455;\n",
              "      fill: #D2E3FC;\n",
              "    }\n",
              "\n",
              "    [theme=dark] .colab-df-convert:hover {\n",
              "      background-color: #434B5C;\n",
              "      box-shadow: 0px 1px 3px 1px rgba(0, 0, 0, 0.15);\n",
              "      filter: drop-shadow(0px 1px 2px rgba(0, 0, 0, 0.3));\n",
              "      fill: #FFFFFF;\n",
              "    }\n",
              "  </style>\n",
              "\n",
              "      <script>\n",
              "        const buttonEl =\n",
              "          document.querySelector('#df-2e440afc-de7d-4cfa-98ea-8df138c1d097 button.colab-df-convert');\n",
              "        buttonEl.style.display =\n",
              "          google.colab.kernel.accessAllowed ? 'block' : 'none';\n",
              "\n",
              "        async function convertToInteractive(key) {\n",
              "          const element = document.querySelector('#df-2e440afc-de7d-4cfa-98ea-8df138c1d097');\n",
              "          const dataTable =\n",
              "            await google.colab.kernel.invokeFunction('convertToInteractive',\n",
              "                                                     [key], {});\n",
              "          if (!dataTable) return;\n",
              "\n",
              "          const docLinkHtml = 'Like what you see? Visit the ' +\n",
              "            '<a target=\"_blank\" href=https://colab.research.google.com/notebooks/data_table.ipynb>data table notebook</a>'\n",
              "            + ' to learn more about interactive tables.';\n",
              "          element.innerHTML = '';\n",
              "          dataTable['output_type'] = 'display_data';\n",
              "          await google.colab.output.renderOutput(dataTable, element);\n",
              "          const docLink = document.createElement('div');\n",
              "          docLink.innerHTML = docLinkHtml;\n",
              "          element.appendChild(docLink);\n",
              "        }\n",
              "      </script>\n",
              "    </div>\n",
              "  </div>\n",
              "  "
            ]
          },
          "metadata": {},
          "execution_count": 4
        }
      ],
      "source": [
        "df_fts['Date'] = pd.to_datetime(df_fts['Date'])\n",
        "df_fts = df_fts.sort_values(by='Date', ascending=True)\n",
        "df_fts.head(5)"
      ]
    },
    {
      "cell_type": "markdown",
      "metadata": {
        "id": "wBIsGkI9Kooi"
      },
      "source": [
        "- Split Price data\n",
        "- Reset index"
      ]
    },
    {
      "cell_type": "code",
      "execution_count": 5,
      "metadata": {
        "colab": {
          "base_uri": "https://localhost:8080/",
          "height": 206
        },
        "id": "DAf9h9BlKooj",
        "outputId": "214dc381-ab02-4013-f099-9fcc83c6f2d2"
      },
      "outputs": [
        {
          "output_type": "execute_result",
          "data": {
            "text/plain": [
              "   Price\n",
              "0   5788\n",
              "1   5954\n",
              "2   6025\n",
              "3   5883\n",
              "4   6001"
            ],
            "text/html": [
              "\n",
              "  <div id=\"df-7cb16cc3-714f-474b-996e-adf3b27b9b06\">\n",
              "    <div class=\"colab-df-container\">\n",
              "      <div>\n",
              "<style scoped>\n",
              "    .dataframe tbody tr th:only-of-type {\n",
              "        vertical-align: middle;\n",
              "    }\n",
              "\n",
              "    .dataframe tbody tr th {\n",
              "        vertical-align: top;\n",
              "    }\n",
              "\n",
              "    .dataframe thead th {\n",
              "        text-align: right;\n",
              "    }\n",
              "</style>\n",
              "<table border=\"1\" class=\"dataframe\">\n",
              "  <thead>\n",
              "    <tr style=\"text-align: right;\">\n",
              "      <th></th>\n",
              "      <th>Price</th>\n",
              "    </tr>\n",
              "  </thead>\n",
              "  <tbody>\n",
              "    <tr>\n",
              "      <th>0</th>\n",
              "      <td>5788</td>\n",
              "    </tr>\n",
              "    <tr>\n",
              "      <th>1</th>\n",
              "      <td>5954</td>\n",
              "    </tr>\n",
              "    <tr>\n",
              "      <th>2</th>\n",
              "      <td>6025</td>\n",
              "    </tr>\n",
              "    <tr>\n",
              "      <th>3</th>\n",
              "      <td>5883</td>\n",
              "    </tr>\n",
              "    <tr>\n",
              "      <th>4</th>\n",
              "      <td>6001</td>\n",
              "    </tr>\n",
              "  </tbody>\n",
              "</table>\n",
              "</div>\n",
              "      <button class=\"colab-df-convert\" onclick=\"convertToInteractive('df-7cb16cc3-714f-474b-996e-adf3b27b9b06')\"\n",
              "              title=\"Convert this dataframe to an interactive table.\"\n",
              "              style=\"display:none;\">\n",
              "        \n",
              "  <svg xmlns=\"http://www.w3.org/2000/svg\" height=\"24px\"viewBox=\"0 0 24 24\"\n",
              "       width=\"24px\">\n",
              "    <path d=\"M0 0h24v24H0V0z\" fill=\"none\"/>\n",
              "    <path d=\"M18.56 5.44l.94 2.06.94-2.06 2.06-.94-2.06-.94-.94-2.06-.94 2.06-2.06.94zm-11 1L8.5 8.5l.94-2.06 2.06-.94-2.06-.94L8.5 2.5l-.94 2.06-2.06.94zm10 10l.94 2.06.94-2.06 2.06-.94-2.06-.94-.94-2.06-.94 2.06-2.06.94z\"/><path d=\"M17.41 7.96l-1.37-1.37c-.4-.4-.92-.59-1.43-.59-.52 0-1.04.2-1.43.59L10.3 9.45l-7.72 7.72c-.78.78-.78 2.05 0 2.83L4 21.41c.39.39.9.59 1.41.59.51 0 1.02-.2 1.41-.59l7.78-7.78 2.81-2.81c.8-.78.8-2.07 0-2.86zM5.41 20L4 18.59l7.72-7.72 1.47 1.35L5.41 20z\"/>\n",
              "  </svg>\n",
              "      </button>\n",
              "      \n",
              "  <style>\n",
              "    .colab-df-container {\n",
              "      display:flex;\n",
              "      flex-wrap:wrap;\n",
              "      gap: 12px;\n",
              "    }\n",
              "\n",
              "    .colab-df-convert {\n",
              "      background-color: #E8F0FE;\n",
              "      border: none;\n",
              "      border-radius: 50%;\n",
              "      cursor: pointer;\n",
              "      display: none;\n",
              "      fill: #1967D2;\n",
              "      height: 32px;\n",
              "      padding: 0 0 0 0;\n",
              "      width: 32px;\n",
              "    }\n",
              "\n",
              "    .colab-df-convert:hover {\n",
              "      background-color: #E2EBFA;\n",
              "      box-shadow: 0px 1px 2px rgba(60, 64, 67, 0.3), 0px 1px 3px 1px rgba(60, 64, 67, 0.15);\n",
              "      fill: #174EA6;\n",
              "    }\n",
              "\n",
              "    [theme=dark] .colab-df-convert {\n",
              "      background-color: #3B4455;\n",
              "      fill: #D2E3FC;\n",
              "    }\n",
              "\n",
              "    [theme=dark] .colab-df-convert:hover {\n",
              "      background-color: #434B5C;\n",
              "      box-shadow: 0px 1px 3px 1px rgba(0, 0, 0, 0.15);\n",
              "      filter: drop-shadow(0px 1px 2px rgba(0, 0, 0, 0.3));\n",
              "      fill: #FFFFFF;\n",
              "    }\n",
              "  </style>\n",
              "\n",
              "      <script>\n",
              "        const buttonEl =\n",
              "          document.querySelector('#df-7cb16cc3-714f-474b-996e-adf3b27b9b06 button.colab-df-convert');\n",
              "        buttonEl.style.display =\n",
              "          google.colab.kernel.accessAllowed ? 'block' : 'none';\n",
              "\n",
              "        async function convertToInteractive(key) {\n",
              "          const element = document.querySelector('#df-7cb16cc3-714f-474b-996e-adf3b27b9b06');\n",
              "          const dataTable =\n",
              "            await google.colab.kernel.invokeFunction('convertToInteractive',\n",
              "                                                     [key], {});\n",
              "          if (!dataTable) return;\n",
              "\n",
              "          const docLinkHtml = 'Like what you see? Visit the ' +\n",
              "            '<a target=\"_blank\" href=https://colab.research.google.com/notebooks/data_table.ipynb>data table notebook</a>'\n",
              "            + ' to learn more about interactive tables.';\n",
              "          element.innerHTML = '';\n",
              "          dataTable['output_type'] = 'display_data';\n",
              "          await google.colab.output.renderOutput(dataTable, element);\n",
              "          const docLink = document.createElement('div');\n",
              "          docLink.innerHTML = docLinkHtml;\n",
              "          element.appendChild(docLink);\n",
              "        }\n",
              "      </script>\n",
              "    </div>\n",
              "  </div>\n",
              "  "
            ]
          },
          "metadata": {},
          "execution_count": 5
        }
      ],
      "source": [
        "df_price = df_fts[['Price']]\n",
        "df_price = df_price.reset_index(drop=True)\n",
        "df_price.head(5)"
      ]
    },
    {
      "cell_type": "markdown",
      "metadata": {
        "id": "gwAAsse0Kook"
      },
      "source": [
        "- Scale data between 0 and 1:"
      ]
    },
    {
      "cell_type": "code",
      "execution_count": 6,
      "metadata": {
        "colab": {
          "base_uri": "https://localhost:8080/",
          "height": 206
        },
        "id": "umfwztkDKook",
        "outputId": "615a42e4-0f9c-4c88-c155-6823d068df7f"
      },
      "outputs": [
        {
          "output_type": "execute_result",
          "data": {
            "text/plain": [
              "      Price\n",
              "0  0.000000\n",
              "1  0.003602\n",
              "2  0.005143\n",
              "3  0.002061\n",
              "4  0.004622"
            ],
            "text/html": [
              "\n",
              "  <div id=\"df-3cde682a-2f01-4f58-b02f-8e4759b70dcb\">\n",
              "    <div class=\"colab-df-container\">\n",
              "      <div>\n",
              "<style scoped>\n",
              "    .dataframe tbody tr th:only-of-type {\n",
              "        vertical-align: middle;\n",
              "    }\n",
              "\n",
              "    .dataframe tbody tr th {\n",
              "        vertical-align: top;\n",
              "    }\n",
              "\n",
              "    .dataframe thead th {\n",
              "        text-align: right;\n",
              "    }\n",
              "</style>\n",
              "<table border=\"1\" class=\"dataframe\">\n",
              "  <thead>\n",
              "    <tr style=\"text-align: right;\">\n",
              "      <th></th>\n",
              "      <th>Price</th>\n",
              "    </tr>\n",
              "  </thead>\n",
              "  <tbody>\n",
              "    <tr>\n",
              "      <th>0</th>\n",
              "      <td>0.000000</td>\n",
              "    </tr>\n",
              "    <tr>\n",
              "      <th>1</th>\n",
              "      <td>0.003602</td>\n",
              "    </tr>\n",
              "    <tr>\n",
              "      <th>2</th>\n",
              "      <td>0.005143</td>\n",
              "    </tr>\n",
              "    <tr>\n",
              "      <th>3</th>\n",
              "      <td>0.002061</td>\n",
              "    </tr>\n",
              "    <tr>\n",
              "      <th>4</th>\n",
              "      <td>0.004622</td>\n",
              "    </tr>\n",
              "  </tbody>\n",
              "</table>\n",
              "</div>\n",
              "      <button class=\"colab-df-convert\" onclick=\"convertToInteractive('df-3cde682a-2f01-4f58-b02f-8e4759b70dcb')\"\n",
              "              title=\"Convert this dataframe to an interactive table.\"\n",
              "              style=\"display:none;\">\n",
              "        \n",
              "  <svg xmlns=\"http://www.w3.org/2000/svg\" height=\"24px\"viewBox=\"0 0 24 24\"\n",
              "       width=\"24px\">\n",
              "    <path d=\"M0 0h24v24H0V0z\" fill=\"none\"/>\n",
              "    <path d=\"M18.56 5.44l.94 2.06.94-2.06 2.06-.94-2.06-.94-.94-2.06-.94 2.06-2.06.94zm-11 1L8.5 8.5l.94-2.06 2.06-.94-2.06-.94L8.5 2.5l-.94 2.06-2.06.94zm10 10l.94 2.06.94-2.06 2.06-.94-2.06-.94-.94-2.06-.94 2.06-2.06.94z\"/><path d=\"M17.41 7.96l-1.37-1.37c-.4-.4-.92-.59-1.43-.59-.52 0-1.04.2-1.43.59L10.3 9.45l-7.72 7.72c-.78.78-.78 2.05 0 2.83L4 21.41c.39.39.9.59 1.41.59.51 0 1.02-.2 1.41-.59l7.78-7.78 2.81-2.81c.8-.78.8-2.07 0-2.86zM5.41 20L4 18.59l7.72-7.72 1.47 1.35L5.41 20z\"/>\n",
              "  </svg>\n",
              "      </button>\n",
              "      \n",
              "  <style>\n",
              "    .colab-df-container {\n",
              "      display:flex;\n",
              "      flex-wrap:wrap;\n",
              "      gap: 12px;\n",
              "    }\n",
              "\n",
              "    .colab-df-convert {\n",
              "      background-color: #E8F0FE;\n",
              "      border: none;\n",
              "      border-radius: 50%;\n",
              "      cursor: pointer;\n",
              "      display: none;\n",
              "      fill: #1967D2;\n",
              "      height: 32px;\n",
              "      padding: 0 0 0 0;\n",
              "      width: 32px;\n",
              "    }\n",
              "\n",
              "    .colab-df-convert:hover {\n",
              "      background-color: #E2EBFA;\n",
              "      box-shadow: 0px 1px 2px rgba(60, 64, 67, 0.3), 0px 1px 3px 1px rgba(60, 64, 67, 0.15);\n",
              "      fill: #174EA6;\n",
              "    }\n",
              "\n",
              "    [theme=dark] .colab-df-convert {\n",
              "      background-color: #3B4455;\n",
              "      fill: #D2E3FC;\n",
              "    }\n",
              "\n",
              "    [theme=dark] .colab-df-convert:hover {\n",
              "      background-color: #434B5C;\n",
              "      box-shadow: 0px 1px 3px 1px rgba(0, 0, 0, 0.15);\n",
              "      filter: drop-shadow(0px 1px 2px rgba(0, 0, 0, 0.3));\n",
              "      fill: #FFFFFF;\n",
              "    }\n",
              "  </style>\n",
              "\n",
              "      <script>\n",
              "        const buttonEl =\n",
              "          document.querySelector('#df-3cde682a-2f01-4f58-b02f-8e4759b70dcb button.colab-df-convert');\n",
              "        buttonEl.style.display =\n",
              "          google.colab.kernel.accessAllowed ? 'block' : 'none';\n",
              "\n",
              "        async function convertToInteractive(key) {\n",
              "          const element = document.querySelector('#df-3cde682a-2f01-4f58-b02f-8e4759b70dcb');\n",
              "          const dataTable =\n",
              "            await google.colab.kernel.invokeFunction('convertToInteractive',\n",
              "                                                     [key], {});\n",
              "          if (!dataTable) return;\n",
              "\n",
              "          const docLinkHtml = 'Like what you see? Visit the ' +\n",
              "            '<a target=\"_blank\" href=https://colab.research.google.com/notebooks/data_table.ipynb>data table notebook</a>'\n",
              "            + ' to learn more about interactive tables.';\n",
              "          element.innerHTML = '';\n",
              "          dataTable['output_type'] = 'display_data';\n",
              "          await google.colab.output.renderOutput(dataTable, element);\n",
              "          const docLink = document.createElement('div');\n",
              "          docLink.innerHTML = docLinkHtml;\n",
              "          element.appendChild(docLink);\n",
              "        }\n",
              "      </script>\n",
              "    </div>\n",
              "  </div>\n",
              "  "
            ]
          },
          "metadata": {},
          "execution_count": 6
        }
      ],
      "source": [
        "scaler = MinMaxScaler(feature_range=(0, 1))\n",
        "df_price['Price'] = scaler.fit_transform(np.array(df_price['Price']).reshape(-1,1))\n",
        "df_price.head(5)"
      ]
    },
    {
      "cell_type": "markdown",
      "metadata": {
        "id": "ONJxP652Kool"
      },
      "source": [
        "- Split data into train, test, val (7 - 2 - 1):"
      ]
    },
    {
      "cell_type": "code",
      "execution_count": 7,
      "metadata": {
        "colab": {
          "base_uri": "https://localhost:8080/"
        },
        "id": "hcOMJTTSKool",
        "outputId": "3bff97a7-c760-4eaf-e541-f061f3cb355b"
      },
      "outputs": [
        {
          "output_type": "stream",
          "name": "stdout",
          "text": [
            "(1088, 1)\n",
            "(136, 1)\n",
            "(136, 1)\n"
          ]
        }
      ],
      "source": [
        "train_size = int(0.8 * len(df_price))\n",
        "test_size = int(0.1 * len(df_price))\n",
        "val_size = len(df_price) - train_size - test_size\n",
        "\n",
        "train_data = df_price[:train_size]\n",
        "test_data = df_price[train_size:train_size+test_size]\n",
        "val_data = df_price[train_size+test_size:]\n",
        "\n",
        "print(train_data.shape)\n",
        "print(test_data.shape)\n",
        "print(val_data.shape)"
      ]
    },
    {
      "cell_type": "code",
      "execution_count": 8,
      "metadata": {
        "colab": {
          "base_uri": "https://localhost:8080/",
          "height": 468
        },
        "id": "Harks27_Koom",
        "outputId": "b7e98a91-f4b2-4f4b-d759-68962a066052"
      },
      "outputs": [
        {
          "output_type": "display_data",
          "data": {
            "text/plain": [
              "<Figure size 1500x500 with 1 Axes>"
            ],
            "image/png": "[encoded data removed]"
          },
          "metadata": {}
        }
      ],
      "source": [
        "plt.figure(figsize=(15,5))\n",
        "plt.plot(train_data.index, train_data['Price'], 'b')\n",
        "plt.plot(test_data.index, test_data['Price'], 'orange')\n",
        "plt.plot(val_data.index, val_data['Price'], 'gray')\n",
        "plt.legend(['Train data', 'Test data', 'Val data'], loc='upper left')\n",
        "plt.title('FTS - Data after split into train, test, val')\n",
        "plt.show()"
      ]
    },
    {
      "cell_type": "markdown",
      "metadata": {
        "id": "aYU_453LKoon"
      },
      "source": [
        "- Prepare x, y data:"
      ]
    },
    {
      "cell_type": "code",
      "execution_count": 9,
      "metadata": {
        "id": "giPRDjj9Koon"
      },
      "outputs": [],
      "source": [
        "def make_lags_data(dataset, lags=1):\n",
        "\tdataX, dataY = [], []\n",
        "\tfor i in range(len(dataset) - lags - 1):\n",
        "\t\ta = dataset[i:(i + lags)]\n",
        "\t\tdataX.append(a)\n",
        "\t\tdataY.append(dataset[i + lags])\n",
        "\treturn np.array(dataX), np.array(dataY)"
      ]
    },
    {
      "cell_type": "code",
      "execution_count": 10,
      "metadata": {
        "id": "6liP60j4Kooo"
      },
      "outputs": [],
      "source": [
        "lags = 30\n",
        "\n",
        "x_train, y_train = make_lags_data(train_data['Price'].values, lags=lags)\n",
        "\n",
        "x_test, y_test = make_lags_data(test_data['Price'].values, lags=lags)\n",
        "\n",
        "x_val, y_val = make_lags_data(val_data['Price'].values, lags=lags)"
      ]
    },
    {
      "cell_type": "markdown",
      "metadata": {
        "id": "BE4rfd_MKooo"
      },
      "source": [
        "- Model training:"
      ]
    },
    {
      "cell_type": "markdown",
      "metadata": {
        "id": "UYWyxZOXKoop"
      },
      "source": [
        "Kernel: linear, poly, rbf, sigmoid, precomputed"
      ]
    },
    {
      "cell_type": "code",
      "execution_count": 12,
      "metadata": {
        "colab": {
          "base_uri": "https://localhost:8080/",
          "height": 75
        },
        "id": "foBeqHDMKoop",
        "outputId": "ddb4bae5-1768-4dc6-c564-1bb51e03413c"
      },
      "outputs": [
        {
          "output_type": "execute_result",
          "data": {
            "text/plain": [
              "SVR(kernel='linear')"
            ],
            "text/html": [
              "<style>#sk-container-id-1 {color: black;background-color: white;}#sk-container-id-1 pre{padding: 0;}#sk-container-id-1 div.sk-toggleable {background-color: white;}#sk-container-id-1 label.sk-toggleable__label {cursor: pointer;display: block;width: 100%;margin-bottom: 0;padding: 0.3em;box-sizing: border-box;text-align: center;}#sk-container-id-1 label.sk-toggleable__label-arrow:before {content: \"▸\";float: left;margin-right: 0.25em;color: #696969;}#sk-container-id-1 label.sk-toggleable__label-arrow:hover:before {color: black;}#sk-container-id-1 div.sk-estimator:hover label.sk-toggleable__label-arrow:before {color: black;}#sk-container-id-1 div.sk-toggleable__content {max-height: 0;max-width: 0;overflow: hidden;text-align: left;background-color: #f0f8ff;}#sk-container-id-1 div.sk-toggleable__content pre {margin: 0.2em;color: black;border-radius: 0.25em;background-color: #f0f8ff;}#sk-container-id-1 input.sk-toggleable__control:checked~div.sk-toggleable__content {max-height: 200px;max-width: 100%;overflow: auto;}#sk-container-id-1 input.sk-toggleable__control:checked~label.sk-toggleable__label-arrow:before {content: \"▾\";}#sk-container-id-1 div.sk-estimator input.sk-toggleable__control:checked~label.sk-toggleable__label {background-color: #d4ebff;}#sk-container-id-1 div.sk-label input.sk-toggleable__control:checked~label.sk-toggleable__label {background-color: #d4ebff;}#sk-container-id-1 input.sk-hidden--visually {border: 0;clip: rect(1px 1px 1px 1px);clip: rect(1px, 1px, 1px, 1px);height: 1px;margin: -1px;overflow: hidden;padding: 0;position: absolute;width: 1px;}#sk-container-id-1 div.sk-estimator {font-family: monospace;background-color: #f0f8ff;border: 1px dotted black;border-radius: 0.25em;box-sizing: border-box;margin-bottom: 0.5em;}#sk-container-id-1 div.sk-estimator:hover {background-color: #d4ebff;}#sk-container-id-1 div.sk-parallel-item::after {content: \"\";width: 100%;border-bottom: 1px solid gray;flex-grow: 1;}#sk-container-id-1 div.sk-label:hover label.sk-toggleable__label {background-color: #d4ebff;}#sk-container-id-1 div.sk-serial::before {content: \"\";position: absolute;border-left: 1px solid gray;box-sizing: border-box;top: 0;bottom: 0;left: 50%;z-index: 0;}#sk-container-id-1 div.sk-serial {display: flex;flex-direction: column;align-items: center;background-color: white;padding-right: 0.2em;padding-left: 0.2em;position: relative;}#sk-container-id-1 div.sk-item {position: relative;z-index: 1;}#sk-container-id-1 div.sk-parallel {display: flex;align-items: stretch;justify-content: center;background-color: white;position: relative;}#sk-container-id-1 div.sk-item::before, #sk-container-id-1 div.sk-parallel-item::before {content: \"\";position: absolute;border-left: 1px solid gray;box-sizing: border-box;top: 0;bottom: 0;left: 50%;z-index: -1;}#sk-container-id-1 div.sk-parallel-item {display: flex;flex-direction: column;z-index: 1;position: relative;background-color: white;}#sk-container-id-1 div.sk-parallel-item:first-child::after {align-self: flex-end;width: 50%;}#sk-container-id-1 div.sk-parallel-item:last-child::after {align-self: flex-start;width: 50%;}#sk-container-id-1 div.sk-parallel-item:only-child::after {width: 0;}#sk-container-id-1 div.sk-dashed-wrapped {border: 1px dashed gray;margin: 0 0.4em 0.5em 0.4em;box-sizing: border-box;padding-bottom: 0.4em;background-color: white;}#sk-container-id-1 div.sk-label label {font-family: monospace;font-weight: bold;display: inline-block;line-height: 1.2em;}#sk-container-id-1 div.sk-label-container {text-align: center;}#sk-container-id-1 div.sk-container {/* jupyter's `normalize.less` sets `[hidden] { display: none; }` but bootstrap.min.css set `[hidden] { display: none !important; }` so we also need the `!important` here to be able to override the default hidden behavior on the sphinx rendered scikit-learn.org. See: https://github.com/scikit-learn/scikit-learn/issues/21755 */display: inline-block !important;position: relative;}#sk-container-id-1 div.sk-text-repr-fallback {display: none;}</style><div id=\"sk-container-id-1\" class=\"sk-top-container\"><div class=\"sk-text-repr-fallback\"><pre>SVR(kernel=&#x27;linear&#x27;)</pre><b>In a Jupyter environment, please rerun this cell to show the HTML representation or trust the notebook. <br />On GitHub, the HTML representation is unable to render, please try loading this page with nbviewer.org.</b></div><div class=\"sk-container\" hidden><div class=\"sk-item\"><div class=\"sk-estimator sk-toggleable\"><input class=\"sk-toggleable__control sk-hidden--visually\" id=\"sk-estimator-id-1\" type=\"checkbox\" checked><label for=\"sk-estimator-id-1\" class=\"sk-toggleable__label sk-toggleable__label-arrow\">SVR</label><div class=\"sk-toggleable__content\"><pre>SVR(kernel=&#x27;linear&#x27;)</pre></div></div></div></div></div>"
            ]
          },
          "metadata": {},
          "execution_count": 12
        }
      ],
      "source": [
        "model_svr = SVR(kernel='linear')\n",
        "model_svr.fit(x_train, y_train)"
      ]
    },
    {
      "cell_type": "markdown",
      "metadata": {
        "id": "PKltiKtLKooq"
      },
      "source": [
        "- Model Prediction on test, val (one-step prediction):"
      ]
    },
    {
      "cell_type": "code",
      "execution_count": 13,
      "metadata": {
        "id": "K1zA7Vb-Kooq"
      },
      "outputs": [],
      "source": [
        "y_pred_test = model_svr.predict(x_test)\n",
        "y_pred_val = model_svr.predict(x_val)\n",
        "\n",
        "y_pred_test = scaler.inverse_transform(y_pred_test.reshape(-1, 1))\n",
        "y_pred_val = scaler.inverse_transform(y_pred_val.reshape(-1, 1))"
      ]
    },
    {
      "cell_type": "markdown",
      "metadata": {
        "id": "nENDaRwAKoor"
      },
      "source": [
        "- 30 days prediction:"
      ]
    },
    {
      "cell_type": "code",
      "execution_count": 14,
      "metadata": {
        "id": "Xu7mmOlSKoor"
      },
      "outputs": [],
      "source": [
        "number_of_days_to_predict = 30\n",
        "n_steps = lags\n",
        "\n",
        "x_input = df_price[-number_of_days_to_predict-lags:-number_of_days_to_predict]['Price'].values\n",
        "temp_input = x_input.tolist()\n",
        "\n",
        "ndays_pred = []\n",
        "\n",
        "i = 0\n",
        "while(i < number_of_days_to_predict):\n",
        "    x_input = np.array(temp_input)\n",
        "    x_input = x_input.reshape(1, lags)\n",
        "    y_hat = model_svr.predict(x_input)\n",
        "    temp_input.append(y_hat[0])\n",
        "    temp_input = temp_input[1:]\n",
        "    ndays_pred.append(y_hat[0])\n",
        "    i += 1\n"
      ]
    },
    {
      "cell_type": "code",
      "execution_count": 15,
      "metadata": {
        "colab": {
          "base_uri": "https://localhost:8080/"
        },
        "id": "a8kXuNZqKoos",
        "outputId": "bedee68c-877b-4b8a-a98e-bd2d76a5361a"
      },
      "outputs": [
        {
          "output_type": "execute_result",
          "data": {
            "text/plain": [
              "array([[26077.49121262],\n",
              "       [26546.45854523],\n",
              "       [26842.59788986],\n",
              "       [27085.15255827],\n",
              "       [27294.54159854],\n",
              "       [27431.32219029],\n",
              "       [27613.06181282],\n",
              "       [27821.46346349],\n",
              "       [28104.73030419],\n",
              "       [28412.90389052],\n",
              "       [28535.01405138],\n",
              "       [28658.08455982],\n",
              "       [28886.59467312],\n",
              "       [29138.55510879],\n",
              "       [29395.66628699],\n",
              "       [29493.98062299],\n",
              "       [29612.04721715],\n",
              "       [29869.07860996],\n",
              "       [30154.19552615],\n",
              "       [30556.19572782],\n",
              "       [30844.23897314],\n",
              "       [31128.5504193 ],\n",
              "       [31394.9281254 ],\n",
              "       [31488.56504541],\n",
              "       [31598.90075185],\n",
              "       [31741.72198842],\n",
              "       [31881.43949913],\n",
              "       [32040.94134627],\n",
              "       [32133.16169824],\n",
              "       [32232.14411828]])"
            ]
          },
          "metadata": {},
          "execution_count": 15
        }
      ],
      "source": [
        "ndays_pred = scaler.inverse_transform(np.array(ndays_pred).reshape(-1, 1))\n",
        "ndays_pred"
      ]
    },
    {
      "cell_type": "markdown",
      "metadata": {
        "id": "eW712rMgKoot"
      },
      "source": [
        "- Model evaluating (RMSE - MAPE - MSLE):"
      ]
    },
    {
      "cell_type": "code",
      "execution_count": 16,
      "metadata": {
        "colab": {
          "base_uri": "https://localhost:8080/"
        },
        "id": "UK7nqSISKoot",
        "outputId": "d8cd7401-b2a4-4bea-aaa0-c641471dd8f4"
      },
      "outputs": [
        {
          "output_type": "stream",
          "name": "stdout",
          "text": [
            "Testing RMSE: 28060.3082\n",
            "Validating RMSE: 23384.9304\n",
            "Predicting 30 days RMSE: 29525.2725\n",
            "\n",
            "Testing MAPE: 1.0\n",
            "Validating MAPE: 1.0\n",
            "Predicting 30 days MAPE: 1.0\n",
            "\n",
            "Testing MSLE: 96.8586\n",
            "Validating MSLE: 94.6704\n",
            "Predicting 30 days MSLE: 97.9781\n"
          ]
        }
      ],
      "source": [
        "last_ndays_data = df_price[-number_of_days_to_predict:]['Price'].values\n",
        "\n",
        "# RMSE\n",
        "test_rmse = mean_squared_error(y_pred_test, y_test, squared=False)\n",
        "val_rmse = mean_squared_error(y_pred_val, y_val, squared=False)\n",
        "ndays_rmse = mean_squared_error(ndays_pred, last_ndays_data, squared=False)\n",
        "print('Testing RMSE:', np.round(test_rmse, 4))\n",
        "print('Validating RMSE:', np.round(val_rmse, 4))\n",
        "print('Predicting {0} days RMSE:'.format(number_of_days_to_predict), np.round(ndays_rmse, 4))\n",
        "\n",
        "# MAPE\n",
        "test_mape = mean_absolute_percentage_error(y_pred_test, y_test)\n",
        "val_mape = mean_absolute_percentage_error(y_pred_val, y_val)\n",
        "ndays_mape = mean_absolute_percentage_error(ndays_pred, last_ndays_data)\n",
        "print('\\nTesting MAPE:', np.round(test_mape, 4))\n",
        "print('Validating MAPE:', np.round(val_mape, 4))\n",
        "print('Predicting {0} days MAPE:'.format(number_of_days_to_predict), np.round(ndays_mape, 4))\n",
        "\n",
        "# MSLE\n",
        "test_msle = mean_squared_log_error(y_pred_test, y_test)\n",
        "val_msle = mean_squared_log_error(y_pred_val, y_val)\n",
        "ndays_msle = mean_squared_log_error(ndays_pred, last_ndays_data)\n",
        "print('\\nTesting MSLE:', np.round(test_msle, 4))\n",
        "print('Validating MSLE:', np.round(val_msle, 4))\n",
        "print('Predicting {0} days MSLE:'.format(number_of_days_to_predict), np.round(ndays_msle, 4))\n"
      ]
    },
    {
      "cell_type": "markdown",
      "metadata": {
        "id": "U8FC8r0kKoou"
      },
      "source": [
        "- Prediction plotting:"
      ]
    },
    {
      "cell_type": "code",
      "execution_count": 17,
      "metadata": {
        "colab": {
          "base_uri": "https://localhost:8080/",
          "height": 468
        },
        "id": "-V2IBJuPKoou",
        "outputId": "23ac7d3c-77ce-4d09-e043-7b331c714b6b"
      },
      "outputs": [
        {
          "output_type": "display_data",
          "data": {
            "text/plain": [
              "<Figure size 1500x500 with 1 Axes>"
            ],
            "image/png": "[encoded data removed]"
          },
          "metadata": {}
        }
      ],
      "source": [
        "plt.figure(figsize=(15,5))\n",
        "\n",
        "train_data_index = pd.RangeIndex(start=0, stop=train_size, step=1)\n",
        "plt.plot(scaler.inverse_transform(train_data), c='b')\n",
        "\n",
        "test_data_index = pd.RangeIndex(start=train_size, stop=train_size+test_size, step=1)\n",
        "plt.plot(test_data_index, scaler.inverse_transform(test_data), 'orange')\n",
        "\n",
        "test_data_index = pd.RangeIndex(start=train_size + lags + 1, stop=train_size+test_size, step=1)\n",
        "plt.plot(test_data_index, (y_pred_test), 'green')\n",
        "\n",
        "val_data_index = pd.RangeIndex(start=train_size+test_size, stop=train_size+test_size+val_size, step=1)\n",
        "plt.plot(val_data_index, scaler.inverse_transform(val_data), 'gray')\n",
        "\n",
        "val_data_index = pd.RangeIndex(start=train_size+test_size + lags + 1, stop=train_size+test_size+val_size, step=1)\n",
        "plt.plot(val_data_index, y_pred_val, 'purple')\n",
        "\n",
        "prediect_data_index = pd.RangeIndex(start=len(df_price)-number_of_days_to_predict, stop=len(df_price), step=1)\n",
        "plt.plot(prediect_data_index, ndays_pred, 'red')\n",
        "\n",
        "plt.legend(['Train data', 'Test data', 'Test prediction', 'Val data', 'Val prediction', '{0} days prediction'.format(number_of_days_to_predict)], loc='upper left')\n",
        "plt.title('FTS - Prediction plotting')\n",
        "plt.show()"
      ]
    },
    {
      "cell_type": "markdown",
      "metadata": {
        "id": "xx5DTVmVKoov"
      },
      "source": [
        "### Dataset 2: MWG"
      ]
    },
    {
      "cell_type": "code",
      "execution_count": 18,
      "metadata": {
        "colab": {
          "base_uri": "https://localhost:8080/",
          "height": 206
        },
        "id": "gdsxUEDBKoov",
        "outputId": "b31539c5-2a98-41f8-9d08-fed5d8f8ef3d"
      },
      "outputs": [
        {
          "output_type": "execute_result",
          "data": {
            "text/plain": [
              "           Date  Price   Open   High    Low   Vol.  Change %\n",
              "1359 2018-01-02  31276  31039  31394  31039  2.27M      0.01\n",
              "1358 2018-01-03  31892  31323  32034  31276  4.53M      0.02\n",
              "1357 2018-01-04  31963  31773  32081  31750  2.71M      0.00\n",
              "1356 2018-01-05  31608  31987  31987  31465  2.93M     -0.01\n",
              "1355 2018-01-08  31110  31394  31513  31039  3.01M     -0.02"
            ],
            "text/html": [
              "\n",
              "  <div id=\"df-60578754-e0d9-4b06-b524-4e076cb7d072\">\n",
              "    <div class=\"colab-df-container\">\n",
              "      <div>\n",
              "<style scoped>\n",
              "    .dataframe tbody tr th:only-of-type {\n",
              "        vertical-align: middle;\n",
              "    }\n",
              "\n",
              "    .dataframe tbody tr th {\n",
              "        vertical-align: top;\n",
              "    }\n",
              "\n",
              "    .dataframe thead th {\n",
              "        text-align: right;\n",
              "    }\n",
              "</style>\n",
              "<table border=\"1\" class=\"dataframe\">\n",
              "  <thead>\n",
              "    <tr style=\"text-align: right;\">\n",
              "      <th></th>\n",
              "      <th>Date</th>\n",
              "      <th>Price</th>\n",
              "      <th>Open</th>\n",
              "      <th>High</th>\n",
              "      <th>Low</th>\n",
              "      <th>Vol.</th>\n",
              "      <th>Change %</th>\n",
              "    </tr>\n",
              "  </thead>\n",
              "  <tbody>\n",
              "    <tr>\n",
              "      <th>1359</th>\n",
              "      <td>2018-01-02</td>\n",
              "      <td>31276</td>\n",
              "      <td>31039</td>\n",
              "      <td>31394</td>\n",
              "      <td>31039</td>\n",
              "      <td>2.27M</td>\n",
              "      <td>0.01</td>\n",
              "    </tr>\n",
              "    <tr>\n",
              "      <th>1358</th>\n",
              "      <td>2018-01-03</td>\n",
              "      <td>31892</td>\n",
              "      <td>31323</td>\n",
              "      <td>32034</td>\n",
              "      <td>31276</td>\n",
              "      <td>4.53M</td>\n",
              "      <td>0.02</td>\n",
              "    </tr>\n",
              "    <tr>\n",
              "      <th>1357</th>\n",
              "      <td>2018-01-04</td>\n",
              "      <td>31963</td>\n",
              "      <td>31773</td>\n",
              "      <td>32081</td>\n",
              "      <td>31750</td>\n",
              "      <td>2.71M</td>\n",
              "      <td>0.00</td>\n",
              "    </tr>\n",
              "    <tr>\n",
              "      <th>1356</th>\n",
              "      <td>2018-01-05</td>\n",
              "      <td>31608</td>\n",
              "      <td>31987</td>\n",
              "      <td>31987</td>\n",
              "      <td>31465</td>\n",
              "      <td>2.93M</td>\n",
              "      <td>-0.01</td>\n",
              "    </tr>\n",
              "    <tr>\n",
              "      <th>1355</th>\n",
              "      <td>2018-01-08</td>\n",
              "      <td>31110</td>\n",
              "      <td>31394</td>\n",
              "      <td>31513</td>\n",
              "      <td>31039</td>\n",
              "      <td>3.01M</td>\n",
              "      <td>-0.02</td>\n",
              "    </tr>\n",
              "  </tbody>\n",
              "</table>\n",
              "</div>\n",
              "      <button class=\"colab-df-convert\" onclick=\"convertToInteractive('df-60578754-e0d9-4b06-b524-4e076cb7d072')\"\n",
              "              title=\"Convert this dataframe to an interactive table.\"\n",
              "              style=\"display:none;\">\n",
              "        \n",
              "  <svg xmlns=\"http://www.w3.org/2000/svg\" height=\"24px\"viewBox=\"0 0 24 24\"\n",
              "       width=\"24px\">\n",
              "    <path d=\"M0 0h24v24H0V0z\" fill=\"none\"/>\n",
              "    <path d=\"M18.56 5.44l.94 2.06.94-2.06 2.06-.94-2.06-.94-.94-2.06-.94 2.06-2.06.94zm-11 1L8.5 8.5l.94-2.06 2.06-.94-2.06-.94L8.5 2.5l-.94 2.06-2.06.94zm10 10l.94 2.06.94-2.06 2.06-.94-2.06-.94-.94-2.06-.94 2.06-2.06.94z\"/><path d=\"M17.41 7.96l-1.37-1.37c-.4-.4-.92-.59-1.43-.59-.52 0-1.04.2-1.43.59L10.3 9.45l-7.72 7.72c-.78.78-.78 2.05 0 2.83L4 21.41c.39.39.9.59 1.41.59.51 0 1.02-.2 1.41-.59l7.78-7.78 2.81-2.81c.8-.78.8-2.07 0-2.86zM5.41 20L4 18.59l7.72-7.72 1.47 1.35L5.41 20z\"/>\n",
              "  </svg>\n",
              "      </button>\n",
              "      \n",
              "  <style>\n",
              "    .colab-df-container {\n",
              "      display:flex;\n",
              "      flex-wrap:wrap;\n",
              "      gap: 12px;\n",
              "    }\n",
              "\n",
              "    .colab-df-convert {\n",
              "      background-color: #E8F0FE;\n",
              "      border: none;\n",
              "      border-radius: 50%;\n",
              "      cursor: pointer;\n",
              "      display: none;\n",
              "      fill: #1967D2;\n",
              "      height: 32px;\n",
              "      padding: 0 0 0 0;\n",
              "      width: 32px;\n",
              "    }\n",
              "\n",
              "    .colab-df-convert:hover {\n",
              "      background-color: #E2EBFA;\n",
              "      box-shadow: 0px 1px 2px rgba(60, 64, 67, 0.3), 0px 1px 3px 1px rgba(60, 64, 67, 0.15);\n",
              "      fill: #174EA6;\n",
              "    }\n",
              "\n",
              "    [theme=dark] .colab-df-convert {\n",
              "      background-color: #3B4455;\n",
              "      fill: #D2E3FC;\n",
              "    }\n",
              "\n",
              "    [theme=dark] .colab-df-convert:hover {\n",
              "      background-color: #434B5C;\n",
              "      box-shadow: 0px 1px 3px 1px rgba(0, 0, 0, 0.15);\n",
              "      filter: drop-shadow(0px 1px 2px rgba(0, 0, 0, 0.3));\n",
              "      fill: #FFFFFF;\n",
              "    }\n",
              "  </style>\n",
              "\n",
              "      <script>\n",
              "        const buttonEl =\n",
              "          document.querySelector('#df-60578754-e0d9-4b06-b524-4e076cb7d072 button.colab-df-convert');\n",
              "        buttonEl.style.display =\n",
              "          google.colab.kernel.accessAllowed ? 'block' : 'none';\n",
              "\n",
              "        async function convertToInteractive(key) {\n",
              "          const element = document.querySelector('#df-60578754-e0d9-4b06-b524-4e076cb7d072');\n",
              "          const dataTable =\n",
              "            await google.colab.kernel.invokeFunction('convertToInteractive',\n",
              "                                                     [key], {});\n",
              "          if (!dataTable) return;\n",
              "\n",
              "          const docLinkHtml = 'Like what you see? Visit the ' +\n",
              "            '<a target=\"_blank\" href=https://colab.research.google.com/notebooks/data_table.ipynb>data table notebook</a>'\n",
              "            + ' to learn more about interactive tables.';\n",
              "          element.innerHTML = '';\n",
              "          dataTable['output_type'] = 'display_data';\n",
              "          await google.colab.output.renderOutput(dataTable, element);\n",
              "          const docLink = document.createElement('div');\n",
              "          docLink.innerHTML = docLinkHtml;\n",
              "          element.appendChild(docLink);\n",
              "        }\n",
              "      </script>\n",
              "    </div>\n",
              "  </div>\n",
              "  "
            ]
          },
          "metadata": {},
          "execution_count": 18
        }
      ],
      "source": [
        "df_mwg['Date'] = pd.to_datetime(df_mwg['Date'])\n",
        "df_mwg = df_mwg.sort_values(by='Date', ascending=True)\n",
        "df_mwg.head(5)"
      ]
    },
    {
      "cell_type": "markdown",
      "metadata": {
        "id": "AV2XUsf4Koow"
      },
      "source": [
        "- Split Price data\n",
        "- Reset index"
      ]
    },
    {
      "cell_type": "code",
      "execution_count": 19,
      "metadata": {
        "colab": {
          "base_uri": "https://localhost:8080/",
          "height": 206
        },
        "id": "vSnJHeUWKoow",
        "outputId": "8ae3e812-a247-480e-8ee4-7059a8390004"
      },
      "outputs": [
        {
          "output_type": "execute_result",
          "data": {
            "text/plain": [
              "   Price\n",
              "0  31276\n",
              "1  31892\n",
              "2  31963\n",
              "3  31608\n",
              "4  31110"
            ],
            "text/html": [
              "\n",
              "  <div id=\"df-cf00ac58-a416-4cfa-aa23-580646d47667\">\n",
              "    <div class=\"colab-df-container\">\n",
              "      <div>\n",
              "<style scoped>\n",
              "    .dataframe tbody tr th:only-of-type {\n",
              "        vertical-align: middle;\n",
              "    }\n",
              "\n",
              "    .dataframe tbody tr th {\n",
              "        vertical-align: top;\n",
              "    }\n",
              "\n",
              "    .dataframe thead th {\n",
              "        text-align: right;\n",
              "    }\n",
              "</style>\n",
              "<table border=\"1\" class=\"dataframe\">\n",
              "  <thead>\n",
              "    <tr style=\"text-align: right;\">\n",
              "      <th></th>\n",
              "      <th>Price</th>\n",
              "    </tr>\n",
              "  </thead>\n",
              "  <tbody>\n",
              "    <tr>\n",
              "      <th>0</th>\n",
              "      <td>31276</td>\n",
              "    </tr>\n",
              "    <tr>\n",
              "      <th>1</th>\n",
              "      <td>31892</td>\n",
              "    </tr>\n",
              "    <tr>\n",
              "      <th>2</th>\n",
              "      <td>31963</td>\n",
              "    </tr>\n",
              "    <tr>\n",
              "      <th>3</th>\n",
              "      <td>31608</td>\n",
              "    </tr>\n",
              "    <tr>\n",
              "      <th>4</th>\n",
              "      <td>31110</td>\n",
              "    </tr>\n",
              "  </tbody>\n",
              "</table>\n",
              "</div>\n",
              "      <button class=\"colab-df-convert\" onclick=\"convertToInteractive('df-cf00ac58-a416-4cfa-aa23-580646d47667')\"\n",
              "              title=\"Convert this dataframe to an interactive table.\"\n",
              "              style=\"display:none;\">\n",
              "        \n",
              "  <svg xmlns=\"http://www.w3.org/2000/svg\" height=\"24px\"viewBox=\"0 0 24 24\"\n",
              "       width=\"24px\">\n",
              "    <path d=\"M0 0h24v24H0V0z\" fill=\"none\"/>\n",
              "    <path d=\"M18.56 5.44l.94 2.06.94-2.06 2.06-.94-2.06-.94-.94-2.06-.94 2.06-2.06.94zm-11 1L8.5 8.5l.94-2.06 2.06-.94-2.06-.94L8.5 2.5l-.94 2.06-2.06.94zm10 10l.94 2.06.94-2.06 2.06-.94-2.06-.94-.94-2.06-.94 2.06-2.06.94z\"/><path d=\"M17.41 7.96l-1.37-1.37c-.4-.4-.92-.59-1.43-.59-.52 0-1.04.2-1.43.59L10.3 9.45l-7.72 7.72c-.78.78-.78 2.05 0 2.83L4 21.41c.39.39.9.59 1.41.59.51 0 1.02-.2 1.41-.59l7.78-7.78 2.81-2.81c.8-.78.8-2.07 0-2.86zM5.41 20L4 18.59l7.72-7.72 1.47 1.35L5.41 20z\"/>\n",
              "  </svg>\n",
              "      </button>\n",
              "      \n",
              "  <style>\n",
              "    .colab-df-container {\n",
              "      display:flex;\n",
              "      flex-wrap:wrap;\n",
              "      gap: 12px;\n",
              "    }\n",
              "\n",
              "    .colab-df-convert {\n",
              "      background-color: #E8F0FE;\n",
              "      border: none;\n",
              "      border-radius: 50%;\n",
              "      cursor: pointer;\n",
              "      display: none;\n",
              "      fill: #1967D2;\n",
              "      height: 32px;\n",
              "      padding: 0 0 0 0;\n",
              "      width: 32px;\n",
              "    }\n",
              "\n",
              "    .colab-df-convert:hover {\n",
              "      background-color: #E2EBFA;\n",
              "      box-shadow: 0px 1px 2px rgba(60, 64, 67, 0.3), 0px 1px 3px 1px rgba(60, 64, 67, 0.15);\n",
              "      fill: #174EA6;\n",
              "    }\n",
              "\n",
              "    [theme=dark] .colab-df-convert {\n",
              "      background-color: #3B4455;\n",
              "      fill: #D2E3FC;\n",
              "    }\n",
              "\n",
              "    [theme=dark] .colab-df-convert:hover {\n",
              "      background-color: #434B5C;\n",
              "      box-shadow: 0px 1px 3px 1px rgba(0, 0, 0, 0.15);\n",
              "      filter: drop-shadow(0px 1px 2px rgba(0, 0, 0, 0.3));\n",
              "      fill: #FFFFFF;\n",
              "    }\n",
              "  </style>\n",
              "\n",
              "      <script>\n",
              "        const buttonEl =\n",
              "          document.querySelector('#df-cf00ac58-a416-4cfa-aa23-580646d47667 button.colab-df-convert');\n",
              "        buttonEl.style.display =\n",
              "          google.colab.kernel.accessAllowed ? 'block' : 'none';\n",
              "\n",
              "        async function convertToInteractive(key) {\n",
              "          const element = document.querySelector('#df-cf00ac58-a416-4cfa-aa23-580646d47667');\n",
              "          const dataTable =\n",
              "            await google.colab.kernel.invokeFunction('convertToInteractive',\n",
              "                                                     [key], {});\n",
              "          if (!dataTable) return;\n",
              "\n",
              "          const docLinkHtml = 'Like what you see? Visit the ' +\n",
              "            '<a target=\"_blank\" href=https://colab.research.google.com/notebooks/data_table.ipynb>data table notebook</a>'\n",
              "            + ' to learn more about interactive tables.';\n",
              "          element.innerHTML = '';\n",
              "          dataTable['output_type'] = 'display_data';\n",
              "          await google.colab.output.renderOutput(dataTable, element);\n",
              "          const docLink = document.createElement('div');\n",
              "          docLink.innerHTML = docLinkHtml;\n",
              "          element.appendChild(docLink);\n",
              "        }\n",
              "      </script>\n",
              "    </div>\n",
              "  </div>\n",
              "  "
            ]
          },
          "metadata": {},
          "execution_count": 19
        }
      ],
      "source": [
        "df_price = df_mwg[['Price']]\n",
        "df_price = df_price.reset_index(drop=True)\n",
        "df_price.head(5)"
      ]
    },
    {
      "cell_type": "markdown",
      "metadata": {
        "id": "J3XkCw0iKoow"
      },
      "source": [
        "- Scale data between 0 and 1:"
      ]
    },
    {
      "cell_type": "code",
      "execution_count": 20,
      "metadata": {
        "colab": {
          "base_uri": "https://localhost:8080/",
          "height": 206
        },
        "id": "C11xoL2OKoow",
        "outputId": "dedd87bb-e947-4c17-d512-34e48c5d6cbc"
      },
      "outputs": [
        {
          "output_type": "execute_result",
          "data": {
            "text/plain": [
              "      Price\n",
              "0  0.200020\n",
              "1  0.210221\n",
              "2  0.211397\n",
              "3  0.205518\n",
              "4  0.197271"
            ],
            "text/html": [
              "\n",
              "  <div id=\"df-378a9014-f740-413b-be13-b4a8ae91beef\">\n",
              "    <div class=\"colab-df-container\">\n",
              "      <div>\n",
              "<style scoped>\n",
              "    .dataframe tbody tr th:only-of-type {\n",
              "        vertical-align: middle;\n",
              "    }\n",
              "\n",
              "    .dataframe tbody tr th {\n",
              "        vertical-align: top;\n",
              "    }\n",
              "\n",
              "    .dataframe thead th {\n",
              "        text-align: right;\n",
              "    }\n",
              "</style>\n",
              "<table border=\"1\" class=\"dataframe\">\n",
              "  <thead>\n",
              "    <tr style=\"text-align: right;\">\n",
              "      <th></th>\n",
              "      <th>Price</th>\n",
              "    </tr>\n",
              "  </thead>\n",
              "  <tbody>\n",
              "    <tr>\n",
              "      <th>0</th>\n",
              "      <td>0.200020</td>\n",
              "    </tr>\n",
              "    <tr>\n",
              "      <th>1</th>\n",
              "      <td>0.210221</td>\n",
              "    </tr>\n",
              "    <tr>\n",
              "      <th>2</th>\n",
              "      <td>0.211397</td>\n",
              "    </tr>\n",
              "    <tr>\n",
              "      <th>3</th>\n",
              "      <td>0.205518</td>\n",
              "    </tr>\n",
              "    <tr>\n",
              "      <th>4</th>\n",
              "      <td>0.197271</td>\n",
              "    </tr>\n",
              "  </tbody>\n",
              "</table>\n",
              "</div>\n",
              "      <button class=\"colab-df-convert\" onclick=\"convertToInteractive('df-378a9014-f740-413b-be13-b4a8ae91beef')\"\n",
              "              title=\"Convert this dataframe to an interactive table.\"\n",
              "              style=\"display:none;\">\n",
              "        \n",
              "  <svg xmlns=\"http://www.w3.org/2000/svg\" height=\"24px\"viewBox=\"0 0 24 24\"\n",
              "       width=\"24px\">\n",
              "    <path d=\"M0 0h24v24H0V0z\" fill=\"none\"/>\n",
              "    <path d=\"M18.56 5.44l.94 2.06.94-2.06 2.06-.94-2.06-.94-.94-2.06-.94 2.06-2.06.94zm-11 1L8.5 8.5l.94-2.06 2.06-.94-2.06-.94L8.5 2.5l-.94 2.06-2.06.94zm10 10l.94 2.06.94-2.06 2.06-.94-2.06-.94-.94-2.06-.94 2.06-2.06.94z\"/><path d=\"M17.41 7.96l-1.37-1.37c-.4-.4-.92-.59-1.43-.59-.52 0-1.04.2-1.43.59L10.3 9.45l-7.72 7.72c-.78.78-.78 2.05 0 2.83L4 21.41c.39.39.9.59 1.41.59.51 0 1.02-.2 1.41-.59l7.78-7.78 2.81-2.81c.8-.78.8-2.07 0-2.86zM5.41 20L4 18.59l7.72-7.72 1.47 1.35L5.41 20z\"/>\n",
              "  </svg>\n",
              "      </button>\n",
              "      \n",
              "  <style>\n",
              "    .colab-df-container {\n",
              "      display:flex;\n",
              "      flex-wrap:wrap;\n",
              "      gap: 12px;\n",
              "    }\n",
              "\n",
              "    .colab-df-convert {\n",
              "      background-color: #E8F0FE;\n",
              "      border: none;\n",
              "      border-radius: 50%;\n",
              "      cursor: pointer;\n",
              "      display: none;\n",
              "      fill: #1967D2;\n",
              "      height: 32px;\n",
              "      padding: 0 0 0 0;\n",
              "      width: 32px;\n",
              "    }\n",
              "\n",
              "    .colab-df-convert:hover {\n",
              "      background-color: #E2EBFA;\n",
              "      box-shadow: 0px 1px 2px rgba(60, 64, 67, 0.3), 0px 1px 3px 1px rgba(60, 64, 67, 0.15);\n",
              "      fill: #174EA6;\n",
              "    }\n",
              "\n",
              "    [theme=dark] .colab-df-convert {\n",
              "      background-color: #3B4455;\n",
              "      fill: #D2E3FC;\n",
              "    }\n",
              "\n",
              "    [theme=dark] .colab-df-convert:hover {\n",
              "      background-color: #434B5C;\n",
              "      box-shadow: 0px 1px 3px 1px rgba(0, 0, 0, 0.15);\n",
              "      filter: drop-shadow(0px 1px 2px rgba(0, 0, 0, 0.3));\n",
              "      fill: #FFFFFF;\n",
              "    }\n",
              "  </style>\n",
              "\n",
              "      <script>\n",
              "        const buttonEl =\n",
              "          document.querySelector('#df-378a9014-f740-413b-be13-b4a8ae91beef button.colab-df-convert');\n",
              "        buttonEl.style.display =\n",
              "          google.colab.kernel.accessAllowed ? 'block' : 'none';\n",
              "\n",
              "        async function convertToInteractive(key) {\n",
              "          const element = document.querySelector('#df-378a9014-f740-413b-be13-b4a8ae91beef');\n",
              "          const dataTable =\n",
              "            await google.colab.kernel.invokeFunction('convertToInteractive',\n",
              "                                                     [key], {});\n",
              "          if (!dataTable) return;\n",
              "\n",
              "          const docLinkHtml = 'Like what you see? Visit the ' +\n",
              "            '<a target=\"_blank\" href=https://colab.research.google.com/notebooks/data_table.ipynb>data table notebook</a>'\n",
              "            + ' to learn more about interactive tables.';\n",
              "          element.innerHTML = '';\n",
              "          dataTable['output_type'] = 'display_data';\n",
              "          await google.colab.output.renderOutput(dataTable, element);\n",
              "          const docLink = document.createElement('div');\n",
              "          docLink.innerHTML = docLinkHtml;\n",
              "          element.appendChild(docLink);\n",
              "        }\n",
              "      </script>\n",
              "    </div>\n",
              "  </div>\n",
              "  "
            ]
          },
          "metadata": {},
          "execution_count": 20
        }
      ],
      "source": [
        "scaler = MinMaxScaler(feature_range=(0, 1))\n",
        "df_price['Price'] = scaler.fit_transform(np.array(df_price['Price']).reshape(-1,1))\n",
        "df_price.head(5)"
      ]
    },
    {
      "cell_type": "markdown",
      "metadata": {
        "id": "54MpFmm5Koox"
      },
      "source": [
        "- Split data into train, test, val (7 - 2 - 1):"
      ]
    },
    {
      "cell_type": "code",
      "execution_count": 21,
      "metadata": {
        "colab": {
          "base_uri": "https://localhost:8080/"
        },
        "id": "RIqqGiCPKoox",
        "outputId": "45399eab-e32c-4708-b460-f9c05ab31cc1"
      },
      "outputs": [
        {
          "output_type": "stream",
          "name": "stdout",
          "text": [
            "(1088, 1)\n",
            "(136, 1)\n",
            "(136, 1)\n"
          ]
        }
      ],
      "source": [
        "train_size = int(0.8 * len(df_price))\n",
        "test_size = int(0.1 * len(df_price))\n",
        "val_size = len(df_price) - train_size - test_size\n",
        "\n",
        "train_data = df_price[:train_size]\n",
        "test_data = df_price[train_size:train_size+test_size]\n",
        "val_data = df_price[train_size+test_size:]\n",
        "\n",
        "print(train_data.shape)\n",
        "print(test_data.shape)\n",
        "print(val_data.shape)"
      ]
    },
    {
      "cell_type": "code",
      "execution_count": 22,
      "metadata": {
        "colab": {
          "base_uri": "https://localhost:8080/",
          "height": 468
        },
        "id": "ZZOSmzUEKoox",
        "outputId": "66f6006f-6652-44d8-8c51-4a43d441b500"
      },
      "outputs": [
        {
          "output_type": "display_data",
          "data": {
            "text/plain": [
              "<Figure size 1500x500 with 1 Axes>"
            ],
            "image/png": "[encoded data removed]"
          },
          "metadata": {}
        }
      ],
      "source": [
        "plt.figure(figsize=(15,5))\n",
        "plt.plot(train_data.index, train_data['Price'], 'b')\n",
        "plt.plot(test_data.index, test_data['Price'], 'orange')\n",
        "plt.plot(val_data.index, val_data['Price'], 'gray')\n",
        "plt.legend(['Train data', 'Test data', 'Val data'], loc='upper left')\n",
        "plt.title('MWG - Data after split into train, test, val')\n",
        "plt.show()"
      ]
    },
    {
      "cell_type": "markdown",
      "metadata": {
        "id": "ldsi_EGnKoox"
      },
      "source": [
        "- Prepare x, y data:"
      ]
    },
    {
      "cell_type": "code",
      "execution_count": 23,
      "metadata": {
        "id": "RfVIpyKbKooy"
      },
      "outputs": [],
      "source": [
        "def make_lags_data(dataset, lags=1):\n",
        "\tdataX, dataY = [], []\n",
        "\tfor i in range(len(dataset) - lags - 1):\n",
        "\t\ta = dataset[i:(i + lags)]\n",
        "\t\tdataX.append(a)\n",
        "\t\tdataY.append(dataset[i + lags])\n",
        "\treturn np.array(dataX), np.array(dataY)"
      ]
    },
    {
      "cell_type": "code",
      "execution_count": 24,
      "metadata": {
        "id": "EpwCw39kKoo3"
      },
      "outputs": [],
      "source": [
        "lags = 30\n",
        "\n",
        "x_train, y_train = make_lags_data(train_data['Price'].values, lags=lags)\n",
        "\n",
        "x_test, y_test = make_lags_data(test_data['Price'].values, lags=lags)\n",
        "\n",
        "x_val, y_val = make_lags_data(val_data['Price'].values, lags=lags)"
      ]
    },
    {
      "cell_type": "markdown",
      "metadata": {
        "id": "YuStxrXDKoo3"
      },
      "source": [
        "- Model training:"
      ]
    },
    {
      "cell_type": "code",
      "execution_count": 25,
      "metadata": {
        "colab": {
          "base_uri": "https://localhost:8080/",
          "height": 75
        },
        "id": "6XlGiuk6Koo4",
        "outputId": "1f86d9ea-04da-45bb-ac10-b0e51e6ce1cc"
      },
      "outputs": [
        {
          "output_type": "execute_result",
          "data": {
            "text/plain": [
              "SVR(kernel='linear')"
            ],
            "text/html": [
              "<style>#sk-container-id-2 {color: black;background-color: white;}#sk-container-id-2 pre{padding: 0;}#sk-container-id-2 div.sk-toggleable {background-color: white;}#sk-container-id-2 label.sk-toggleable__label {cursor: pointer;display: block;width: 100%;margin-bottom: 0;padding: 0.3em;box-sizing: border-box;text-align: center;}#sk-container-id-2 label.sk-toggleable__label-arrow:before {content: \"▸\";float: left;margin-right: 0.25em;color: #696969;}#sk-container-id-2 label.sk-toggleable__label-arrow:hover:before {color: black;}#sk-container-id-2 div.sk-estimator:hover label.sk-toggleable__label-arrow:before {color: black;}#sk-container-id-2 div.sk-toggleable__content {max-height: 0;max-width: 0;overflow: hidden;text-align: left;background-color: #f0f8ff;}#sk-container-id-2 div.sk-toggleable__content pre {margin: 0.2em;color: black;border-radius: 0.25em;background-color: #f0f8ff;}#sk-container-id-2 input.sk-toggleable__control:checked~div.sk-toggleable__content {max-height: 200px;max-width: 100%;overflow: auto;}#sk-container-id-2 input.sk-toggleable__control:checked~label.sk-toggleable__label-arrow:before {content: \"▾\";}#sk-container-id-2 div.sk-estimator input.sk-toggleable__control:checked~label.sk-toggleable__label {background-color: #d4ebff;}#sk-container-id-2 div.sk-label input.sk-toggleable__control:checked~label.sk-toggleable__label {background-color: #d4ebff;}#sk-container-id-2 input.sk-hidden--visually {border: 0;clip: rect(1px 1px 1px 1px);clip: rect(1px, 1px, 1px, 1px);height: 1px;margin: -1px;overflow: hidden;padding: 0;position: absolute;width: 1px;}#sk-container-id-2 div.sk-estimator {font-family: monospace;background-color: #f0f8ff;border: 1px dotted black;border-radius: 0.25em;box-sizing: border-box;margin-bottom: 0.5em;}#sk-container-id-2 div.sk-estimator:hover {background-color: #d4ebff;}#sk-container-id-2 div.sk-parallel-item::after {content: \"\";width: 100%;border-bottom: 1px solid gray;flex-grow: 1;}#sk-container-id-2 div.sk-label:hover label.sk-toggleable__label {background-color: #d4ebff;}#sk-container-id-2 div.sk-serial::before {content: \"\";position: absolute;border-left: 1px solid gray;box-sizing: border-box;top: 0;bottom: 0;left: 50%;z-index: 0;}#sk-container-id-2 div.sk-serial {display: flex;flex-direction: column;align-items: center;background-color: white;padding-right: 0.2em;padding-left: 0.2em;position: relative;}#sk-container-id-2 div.sk-item {position: relative;z-index: 1;}#sk-container-id-2 div.sk-parallel {display: flex;align-items: stretch;justify-content: center;background-color: white;position: relative;}#sk-container-id-2 div.sk-item::before, #sk-container-id-2 div.sk-parallel-item::before {content: \"\";position: absolute;border-left: 1px solid gray;box-sizing: border-box;top: 0;bottom: 0;left: 50%;z-index: -1;}#sk-container-id-2 div.sk-parallel-item {display: flex;flex-direction: column;z-index: 1;position: relative;background-color: white;}#sk-container-id-2 div.sk-parallel-item:first-child::after {align-self: flex-end;width: 50%;}#sk-container-id-2 div.sk-parallel-item:last-child::after {align-self: flex-start;width: 50%;}#sk-container-id-2 div.sk-parallel-item:only-child::after {width: 0;}#sk-container-id-2 div.sk-dashed-wrapped {border: 1px dashed gray;margin: 0 0.4em 0.5em 0.4em;box-sizing: border-box;padding-bottom: 0.4em;background-color: white;}#sk-container-id-2 div.sk-label label {font-family: monospace;font-weight: bold;display: inline-block;line-height: 1.2em;}#sk-container-id-2 div.sk-label-container {text-align: center;}#sk-container-id-2 div.sk-container {/* jupyter's `normalize.less` sets `[hidden] { display: none; }` but bootstrap.min.css set `[hidden] { display: none !important; }` so we also need the `!important` here to be able to override the default hidden behavior on the sphinx rendered scikit-learn.org. See: https://github.com/scikit-learn/scikit-learn/issues/21755 */display: inline-block !important;position: relative;}#sk-container-id-2 div.sk-text-repr-fallback {display: none;}</style><div id=\"sk-container-id-2\" class=\"sk-top-container\"><div class=\"sk-text-repr-fallback\"><pre>SVR(kernel=&#x27;linear&#x27;)</pre><b>In a Jupyter environment, please rerun this cell to show the HTML representation or trust the notebook. <br />On GitHub, the HTML representation is unable to render, please try loading this page with nbviewer.org.</b></div><div class=\"sk-container\" hidden><div class=\"sk-item\"><div class=\"sk-estimator sk-toggleable\"><input class=\"sk-toggleable__control sk-hidden--visually\" id=\"sk-estimator-id-2\" type=\"checkbox\" checked><label for=\"sk-estimator-id-2\" class=\"sk-toggleable__label sk-toggleable__label-arrow\">SVR</label><div class=\"sk-toggleable__content\"><pre>SVR(kernel=&#x27;linear&#x27;)</pre></div></div></div></div></div>"
            ]
          },
          "metadata": {},
          "execution_count": 25
        }
      ],
      "source": [
        "model_svr = SVR(kernel='linear')\n",
        "model_svr.fit(x_train, y_train)"
      ]
    },
    {
      "cell_type": "markdown",
      "metadata": {
        "id": "jtyk-HraKoo4"
      },
      "source": [
        "- Model Prediction on test, val (one-step prediction):"
      ]
    },
    {
      "cell_type": "code",
      "execution_count": 26,
      "metadata": {
        "id": "dzDfIPU6Koo4"
      },
      "outputs": [],
      "source": [
        "y_pred_test = model_svr.predict(x_test)\n",
        "y_pred_val = model_svr.predict(x_val)\n",
        "\n",
        "y_pred_test = scaler.inverse_transform(y_pred_test.reshape(-1, 1))\n",
        "y_pred_val = scaler.inverse_transform(y_pred_val.reshape(-1, 1))"
      ]
    },
    {
      "cell_type": "markdown",
      "metadata": {
        "id": "U8mXthjnKoo4"
      },
      "source": [
        "- 30 days prediction:"
      ]
    },
    {
      "cell_type": "code",
      "execution_count": 27,
      "metadata": {
        "id": "zAp4PGcEKoo5"
      },
      "outputs": [],
      "source": [
        "number_of_days_to_predict = 30\n",
        "n_steps = lags\n",
        "\n",
        "x_input = df_price[-number_of_days_to_predict-lags:-number_of_days_to_predict]['Price'].values\n",
        "temp_input = x_input.tolist()\n",
        "\n",
        "ndays_pred = []\n",
        "\n",
        "i = 0\n",
        "while(i < number_of_days_to_predict):\n",
        "    x_input = np.array(temp_input)\n",
        "    x_input = x_input.reshape(1, lags)\n",
        "    y_hat = model_svr.predict(x_input)\n",
        "    temp_input.append(y_hat[0])\n",
        "    temp_input = temp_input[1:]\n",
        "    ndays_pred.append(y_hat[0])\n",
        "    i += 1\n"
      ]
    },
    {
      "cell_type": "code",
      "execution_count": 28,
      "metadata": {
        "colab": {
          "base_uri": "https://localhost:8080/"
        },
        "id": "bBr5CBa_Koo5",
        "outputId": "c3b17095-78f6-485d-d077-350aebdaae19"
      },
      "outputs": [
        {
          "output_type": "execute_result",
          "data": {
            "text/plain": [
              "array([[38824.27828595],\n",
              "       [38850.81960413],\n",
              "       [38805.77762925],\n",
              "       [38835.46943791],\n",
              "       [39051.3255785 ],\n",
              "       [39255.4653029 ],\n",
              "       [39470.21720358],\n",
              "       [39684.61279626],\n",
              "       [39955.4129753 ],\n",
              "       [40228.24474695],\n",
              "       [40450.43566502],\n",
              "       [40876.16116583],\n",
              "       [41321.49312224],\n",
              "       [41674.73015031],\n",
              "       [41905.6888654 ],\n",
              "       [42142.08280958],\n",
              "       [42434.61494285],\n",
              "       [42722.26367327],\n",
              "       [43016.08497296],\n",
              "       [43229.01573441],\n",
              "       [43396.87922868],\n",
              "       [43515.79717015],\n",
              "       [43634.94799007],\n",
              "       [43764.8765724 ],\n",
              "       [43877.70266268],\n",
              "       [44025.75219551],\n",
              "       [44078.25241717],\n",
              "       [44111.15595863],\n",
              "       [44164.29700514],\n",
              "       [44231.5251654 ]])"
            ]
          },
          "metadata": {},
          "execution_count": 28
        }
      ],
      "source": [
        "ndays_pred = scaler.inverse_transform(np.array(ndays_pred).reshape(-1, 1))\n",
        "ndays_pred"
      ]
    },
    {
      "cell_type": "markdown",
      "metadata": {
        "id": "2yBVqe4FKoo5"
      },
      "source": [
        "- Model evaluating (RMSE - MAPE - MSLE):"
      ]
    },
    {
      "cell_type": "code",
      "execution_count": 29,
      "metadata": {
        "colab": {
          "base_uri": "https://localhost:8080/"
        },
        "id": "zGmC0KNzKoo6",
        "outputId": "fbef72fa-b32d-4d29-d787-f69cbdd6d18e"
      },
      "outputs": [
        {
          "output_type": "stream",
          "name": "stdout",
          "text": [
            "Testing RMSE: 62619.7306\n",
            "Validating RMSE: 41663.5138\n",
            "Predicting 30 days RMSE: 41764.1259\n",
            "\n",
            "Testing MAPE: 1.0\n",
            "Validating MAPE: 1.0\n",
            "Predicting 30 days MAPE: 1.0\n",
            "\n",
            "Testing MSLE: 110.4436\n",
            "Validating MSLE: 106.6935\n",
            "Predicting 30 days MSLE: 107.0324\n"
          ]
        }
      ],
      "source": [
        "last_ndays_data = df_price[-number_of_days_to_predict:]['Price'].values\n",
        "\n",
        "# RMSE\n",
        "test_rmse = mean_squared_error(y_pred_test, y_test, squared=False)\n",
        "val_rmse = mean_squared_error(y_pred_val, y_val, squared=False)\n",
        "ndays_rmse = mean_squared_error(ndays_pred, last_ndays_data, squared=False)\n",
        "print('Testing RMSE:', np.round(test_rmse, 4))\n",
        "print('Validating RMSE:', np.round(val_rmse, 4))\n",
        "print('Predicting {0} days RMSE:'.format(number_of_days_to_predict), np.round(ndays_rmse, 4))\n",
        "\n",
        "# MAPE\n",
        "test_mape = mean_absolute_percentage_error(y_pred_test, y_test)\n",
        "val_mape = mean_absolute_percentage_error(y_pred_val, y_val)\n",
        "ndays_mape = mean_absolute_percentage_error(ndays_pred, last_ndays_data)\n",
        "print('\\nTesting MAPE:', np.round(test_mape, 4))\n",
        "print('Validating MAPE:', np.round(val_mape, 4))\n",
        "print('Predicting {0} days MAPE:'.format(number_of_days_to_predict), np.round(ndays_mape, 4))\n",
        "\n",
        "# MSLE\n",
        "test_msle = mean_squared_log_error(y_pred_test, y_test)\n",
        "val_msle = mean_squared_log_error(y_pred_val, y_val)\n",
        "ndays_msle = mean_squared_log_error(ndays_pred, last_ndays_data)\n",
        "print('\\nTesting MSLE:', np.round(test_msle, 4))\n",
        "print('Validating MSLE:', np.round(val_msle, 4))\n",
        "print('Predicting {0} days MSLE:'.format(number_of_days_to_predict), np.round(ndays_msle, 4))\n"
      ]
    },
    {
      "cell_type": "markdown",
      "metadata": {
        "id": "z1tJIM_HKoo6"
      },
      "source": [
        "- Prediction plotting:"
      ]
    },
    {
      "cell_type": "code",
      "execution_count": 30,
      "metadata": {
        "colab": {
          "base_uri": "https://localhost:8080/",
          "height": 468
        },
        "id": "Z9PVyGqPKoo7",
        "outputId": "320c64f3-09fe-480c-b2a8-f90ef7e5d4f8"
      },
      "outputs": [
        {
          "output_type": "display_data",
          "data": {
            "text/plain": [
              "<Figure size 1500x500 with 1 Axes>"
            ],
            "image/png": "[encoded data removed]"
          },
          "metadata": {}
        }
      ],
      "source": [
        "plt.figure(figsize=(15,5))\n",
        "\n",
        "train_data_index = pd.RangeIndex(start=0, stop=train_size, step=1)\n",
        "plt.plot(scaler.inverse_transform(train_data), c='b')\n",
        "\n",
        "test_data_index = pd.RangeIndex(start=train_size, stop=train_size+test_size, step=1)\n",
        "plt.plot(test_data_index, scaler.inverse_transform(test_data), 'orange')\n",
        "\n",
        "test_data_index = pd.RangeIndex(start=train_size + lags + 1, stop=train_size+test_size, step=1)\n",
        "plt.plot(test_data_index, (y_pred_test), 'green')\n",
        "\n",
        "val_data_index = pd.RangeIndex(start=train_size+test_size, stop=train_size+test_size+val_size, step=1)\n",
        "plt.plot(val_data_index, scaler.inverse_transform(val_data), 'gray')\n",
        "\n",
        "val_data_index = pd.RangeIndex(start=train_size+test_size + lags + 1, stop=train_size+test_size+val_size, step=1)\n",
        "plt.plot(val_data_index, y_pred_val, 'purple')\n",
        "\n",
        "prediect_data_index = pd.RangeIndex(start=len(df_price)-number_of_days_to_predict, stop=len(df_price), step=1)\n",
        "plt.plot(prediect_data_index, ndays_pred, 'red')\n",
        "\n",
        "plt.legend(['Train data', 'Test data', 'Test prediction', 'Val data', 'Val prediction', '{0} days prediction'.format(number_of_days_to_predict)], loc='upper left')\n",
        "plt.title('MWG - Prediction plotting')\n",
        "plt.show()"
      ]
    },
    {
      "cell_type": "markdown",
      "metadata": {
        "id": "_i2zfnydKoo7"
      },
      "source": [
        "- Prediction plotting:"
      ]
    },
    {
      "cell_type": "markdown",
      "metadata": {
        "id": "x0kC3pTAKoo8"
      },
      "source": [
        "### Dataset 3: VIC"
      ]
    },
    {
      "cell_type": "code",
      "execution_count": 31,
      "metadata": {
        "colab": {
          "base_uri": "https://localhost:8080/",
          "height": 206
        },
        "id": "AeQGWYjbKoo8",
        "outputId": "b0ce5556-5f9e-4a49-e7fc-9c25ca07c3e0"
      },
      "outputs": [
        {
          "output_type": "execute_result",
          "data": {
            "text/plain": [
              "           Date  Price   Open   High    Low   Vol. Change %\n",
              "1359 2018-01-02  64628  64132  64876  63967  1.74M    1.16%\n",
              "1358 2018-01-03  66529  65702  68760  64959  6.07M    2.94%\n",
              "1357 2018-01-04  66942  67355  68678  66529  3.55M    0.62%\n",
              "1356 2018-01-05  66116  66942  66942  65289  3.42M   -1.23%\n",
              "1355 2018-01-08  66364  66116  67686  65372  4.81M    0.38%"
            ],
            "text/html": [
              "\n",
              "  <div id=\"df-7af2002e-044c-445f-ab43-e60f098b5147\">\n",
              "    <div class=\"colab-df-container\">\n",
              "      <div>\n",
              "<style scoped>\n",
              "    .dataframe tbody tr th:only-of-type {\n",
              "        vertical-align: middle;\n",
              "    }\n",
              "\n",
              "    .dataframe tbody tr th {\n",
              "        vertical-align: top;\n",
              "    }\n",
              "\n",
              "    .dataframe thead th {\n",
              "        text-align: right;\n",
              "    }\n",
              "</style>\n",
              "<table border=\"1\" class=\"dataframe\">\n",
              "  <thead>\n",
              "    <tr style=\"text-align: right;\">\n",
              "      <th></th>\n",
              "      <th>Date</th>\n",
              "      <th>Price</th>\n",
              "      <th>Open</th>\n",
              "      <th>High</th>\n",
              "      <th>Low</th>\n",
              "      <th>Vol.</th>\n",
              "      <th>Change %</th>\n",
              "    </tr>\n",
              "  </thead>\n",
              "  <tbody>\n",
              "    <tr>\n",
              "      <th>1359</th>\n",
              "      <td>2018-01-02</td>\n",
              "      <td>64628</td>\n",
              "      <td>64132</td>\n",
              "      <td>64876</td>\n",
              "      <td>63967</td>\n",
              "      <td>1.74M</td>\n",
              "      <td>1.16%</td>\n",
              "    </tr>\n",
              "    <tr>\n",
              "      <th>1358</th>\n",
              "      <td>2018-01-03</td>\n",
              "      <td>66529</td>\n",
              "      <td>65702</td>\n",
              "      <td>68760</td>\n",
              "      <td>64959</td>\n",
              "      <td>6.07M</td>\n",
              "      <td>2.94%</td>\n",
              "    </tr>\n",
              "    <tr>\n",
              "      <th>1357</th>\n",
              "      <td>2018-01-04</td>\n",
              "      <td>66942</td>\n",
              "      <td>67355</td>\n",
              "      <td>68678</td>\n",
              "      <td>66529</td>\n",
              "      <td>3.55M</td>\n",
              "      <td>0.62%</td>\n",
              "    </tr>\n",
              "    <tr>\n",
              "      <th>1356</th>\n",
              "      <td>2018-01-05</td>\n",
              "      <td>66116</td>\n",
              "      <td>66942</td>\n",
              "      <td>66942</td>\n",
              "      <td>65289</td>\n",
              "      <td>3.42M</td>\n",
              "      <td>-1.23%</td>\n",
              "    </tr>\n",
              "    <tr>\n",
              "      <th>1355</th>\n",
              "      <td>2018-01-08</td>\n",
              "      <td>66364</td>\n",
              "      <td>66116</td>\n",
              "      <td>67686</td>\n",
              "      <td>65372</td>\n",
              "      <td>4.81M</td>\n",
              "      <td>0.38%</td>\n",
              "    </tr>\n",
              "  </tbody>\n",
              "</table>\n",
              "</div>\n",
              "      <button class=\"colab-df-convert\" onclick=\"convertToInteractive('df-7af2002e-044c-445f-ab43-e60f098b5147')\"\n",
              "              title=\"Convert this dataframe to an interactive table.\"\n",
              "              style=\"display:none;\">\n",
              "        \n",
              "  <svg xmlns=\"http://www.w3.org/2000/svg\" height=\"24px\"viewBox=\"0 0 24 24\"\n",
              "       width=\"24px\">\n",
              "    <path d=\"M0 0h24v24H0V0z\" fill=\"none\"/>\n",
              "    <path d=\"M18.56 5.44l.94 2.06.94-2.06 2.06-.94-2.06-.94-.94-2.06-.94 2.06-2.06.94zm-11 1L8.5 8.5l.94-2.06 2.06-.94-2.06-.94L8.5 2.5l-.94 2.06-2.06.94zm10 10l.94 2.06.94-2.06 2.06-.94-2.06-.94-.94-2.06-.94 2.06-2.06.94z\"/><path d=\"M17.41 7.96l-1.37-1.37c-.4-.4-.92-.59-1.43-.59-.52 0-1.04.2-1.43.59L10.3 9.45l-7.72 7.72c-.78.78-.78 2.05 0 2.83L4 21.41c.39.39.9.59 1.41.59.51 0 1.02-.2 1.41-.59l7.78-7.78 2.81-2.81c.8-.78.8-2.07 0-2.86zM5.41 20L4 18.59l7.72-7.72 1.47 1.35L5.41 20z\"/>\n",
              "  </svg>\n",
              "      </button>\n",
              "      \n",
              "  <style>\n",
              "    .colab-df-container {\n",
              "      display:flex;\n",
              "      flex-wrap:wrap;\n",
              "      gap: 12px;\n",
              "    }\n",
              "\n",
              "    .colab-df-convert {\n",
              "      background-color: #E8F0FE;\n",
              "      border: none;\n",
              "      border-radius: 50%;\n",
              "      cursor: pointer;\n",
              "      display: none;\n",
              "      fill: #1967D2;\n",
              "      height: 32px;\n",
              "      padding: 0 0 0 0;\n",
              "      width: 32px;\n",
              "    }\n",
              "\n",
              "    .colab-df-convert:hover {\n",
              "      background-color: #E2EBFA;\n",
              "      box-shadow: 0px 1px 2px rgba(60, 64, 67, 0.3), 0px 1px 3px 1px rgba(60, 64, 67, 0.15);\n",
              "      fill: #174EA6;\n",
              "    }\n",
              "\n",
              "    [theme=dark] .colab-df-convert {\n",
              "      background-color: #3B4455;\n",
              "      fill: #D2E3FC;\n",
              "    }\n",
              "\n",
              "    [theme=dark] .colab-df-convert:hover {\n",
              "      background-color: #434B5C;\n",
              "      box-shadow: 0px 1px 3px 1px rgba(0, 0, 0, 0.15);\n",
              "      filter: drop-shadow(0px 1px 2px rgba(0, 0, 0, 0.3));\n",
              "      fill: #FFFFFF;\n",
              "    }\n",
              "  </style>\n",
              "\n",
              "      <script>\n",
              "        const buttonEl =\n",
              "          document.querySelector('#df-7af2002e-044c-445f-ab43-e60f098b5147 button.colab-df-convert');\n",
              "        buttonEl.style.display =\n",
              "          google.colab.kernel.accessAllowed ? 'block' : 'none';\n",
              "\n",
              "        async function convertToInteractive(key) {\n",
              "          const element = document.querySelector('#df-7af2002e-044c-445f-ab43-e60f098b5147');\n",
              "          const dataTable =\n",
              "            await google.colab.kernel.invokeFunction('convertToInteractive',\n",
              "                                                     [key], {});\n",
              "          if (!dataTable) return;\n",
              "\n",
              "          const docLinkHtml = 'Like what you see? Visit the ' +\n",
              "            '<a target=\"_blank\" href=https://colab.research.google.com/notebooks/data_table.ipynb>data table notebook</a>'\n",
              "            + ' to learn more about interactive tables.';\n",
              "          element.innerHTML = '';\n",
              "          dataTable['output_type'] = 'display_data';\n",
              "          await google.colab.output.renderOutput(dataTable, element);\n",
              "          const docLink = document.createElement('div');\n",
              "          docLink.innerHTML = docLinkHtml;\n",
              "          element.appendChild(docLink);\n",
              "        }\n",
              "      </script>\n",
              "    </div>\n",
              "  </div>\n",
              "  "
            ]
          },
          "metadata": {},
          "execution_count": 31
        }
      ],
      "source": [
        "df_vic['Date'] = pd.to_datetime(df_vic['Date'])\n",
        "df_vic = df_vic.sort_values(by='Date', ascending=True)\n",
        "df_vic.head(5)"
      ]
    },
    {
      "cell_type": "markdown",
      "metadata": {
        "id": "HATv0T9TKoo9"
      },
      "source": [
        "- Split Price data\n",
        "- Reset index"
      ]
    },
    {
      "cell_type": "code",
      "execution_count": 32,
      "metadata": {
        "colab": {
          "base_uri": "https://localhost:8080/",
          "height": 206
        },
        "id": "wKii_fOtKoo-",
        "outputId": "fd916962-06eb-4f27-fd64-9d8e779b871c"
      },
      "outputs": [
        {
          "output_type": "execute_result",
          "data": {
            "text/plain": [
              "   Price\n",
              "0  64628\n",
              "1  66529\n",
              "2  66942\n",
              "3  66116\n",
              "4  66364"
            ],
            "text/html": [
              "\n",
              "  <div id=\"df-ddc4e7b6-d3c7-440c-a5bf-4d687f5a71dc\">\n",
              "    <div class=\"colab-df-container\">\n",
              "      <div>\n",
              "<style scoped>\n",
              "    .dataframe tbody tr th:only-of-type {\n",
              "        vertical-align: middle;\n",
              "    }\n",
              "\n",
              "    .dataframe tbody tr th {\n",
              "        vertical-align: top;\n",
              "    }\n",
              "\n",
              "    .dataframe thead th {\n",
              "        text-align: right;\n",
              "    }\n",
              "</style>\n",
              "<table border=\"1\" class=\"dataframe\">\n",
              "  <thead>\n",
              "    <tr style=\"text-align: right;\">\n",
              "      <th></th>\n",
              "      <th>Price</th>\n",
              "    </tr>\n",
              "  </thead>\n",
              "  <tbody>\n",
              "    <tr>\n",
              "      <th>0</th>\n",
              "      <td>64628</td>\n",
              "    </tr>\n",
              "    <tr>\n",
              "      <th>1</th>\n",
              "      <td>66529</td>\n",
              "    </tr>\n",
              "    <tr>\n",
              "      <th>2</th>\n",
              "      <td>66942</td>\n",
              "    </tr>\n",
              "    <tr>\n",
              "      <th>3</th>\n",
              "      <td>66116</td>\n",
              "    </tr>\n",
              "    <tr>\n",
              "      <th>4</th>\n",
              "      <td>66364</td>\n",
              "    </tr>\n",
              "  </tbody>\n",
              "</table>\n",
              "</div>\n",
              "      <button class=\"colab-df-convert\" onclick=\"convertToInteractive('df-ddc4e7b6-d3c7-440c-a5bf-4d687f5a71dc')\"\n",
              "              title=\"Convert this dataframe to an interactive table.\"\n",
              "              style=\"display:none;\">\n",
              "        \n",
              "  <svg xmlns=\"http://www.w3.org/2000/svg\" height=\"24px\"viewBox=\"0 0 24 24\"\n",
              "       width=\"24px\">\n",
              "    <path d=\"M0 0h24v24H0V0z\" fill=\"none\"/>\n",
              "    <path d=\"M18.56 5.44l.94 2.06.94-2.06 2.06-.94-2.06-.94-.94-2.06-.94 2.06-2.06.94zm-11 1L8.5 8.5l.94-2.06 2.06-.94-2.06-.94L8.5 2.5l-.94 2.06-2.06.94zm10 10l.94 2.06.94-2.06 2.06-.94-2.06-.94-.94-2.06-.94 2.06-2.06.94z\"/><path d=\"M17.41 7.96l-1.37-1.37c-.4-.4-.92-.59-1.43-.59-.52 0-1.04.2-1.43.59L10.3 9.45l-7.72 7.72c-.78.78-.78 2.05 0 2.83L4 21.41c.39.39.9.59 1.41.59.51 0 1.02-.2 1.41-.59l7.78-7.78 2.81-2.81c.8-.78.8-2.07 0-2.86zM5.41 20L4 18.59l7.72-7.72 1.47 1.35L5.41 20z\"/>\n",
              "  </svg>\n",
              "      </button>\n",
              "      \n",
              "  <style>\n",
              "    .colab-df-container {\n",
              "      display:flex;\n",
              "      flex-wrap:wrap;\n",
              "      gap: 12px;\n",
              "    }\n",
              "\n",
              "    .colab-df-convert {\n",
              "      background-color: #E8F0FE;\n",
              "      border: none;\n",
              "      border-radius: 50%;\n",
              "      cursor: pointer;\n",
              "      display: none;\n",
              "      fill: #1967D2;\n",
              "      height: 32px;\n",
              "      padding: 0 0 0 0;\n",
              "      width: 32px;\n",
              "    }\n",
              "\n",
              "    .colab-df-convert:hover {\n",
              "      background-color: #E2EBFA;\n",
              "      box-shadow: 0px 1px 2px rgba(60, 64, 67, 0.3), 0px 1px 3px 1px rgba(60, 64, 67, 0.15);\n",
              "      fill: #174EA6;\n",
              "    }\n",
              "\n",
              "    [theme=dark] .colab-df-convert {\n",
              "      background-color: #3B4455;\n",
              "      fill: #D2E3FC;\n",
              "    }\n",
              "\n",
              "    [theme=dark] .colab-df-convert:hover {\n",
              "      background-color: #434B5C;\n",
              "      box-shadow: 0px 1px 3px 1px rgba(0, 0, 0, 0.15);\n",
              "      filter: drop-shadow(0px 1px 2px rgba(0, 0, 0, 0.3));\n",
              "      fill: #FFFFFF;\n",
              "    }\n",
              "  </style>\n",
              "\n",
              "      <script>\n",
              "        const buttonEl =\n",
              "          document.querySelector('#df-ddc4e7b6-d3c7-440c-a5bf-4d687f5a71dc button.colab-df-convert');\n",
              "        buttonEl.style.display =\n",
              "          google.colab.kernel.accessAllowed ? 'block' : 'none';\n",
              "\n",
              "        async function convertToInteractive(key) {\n",
              "          const element = document.querySelector('#df-ddc4e7b6-d3c7-440c-a5bf-4d687f5a71dc');\n",
              "          const dataTable =\n",
              "            await google.colab.kernel.invokeFunction('convertToInteractive',\n",
              "                                                     [key], {});\n",
              "          if (!dataTable) return;\n",
              "\n",
              "          const docLinkHtml = 'Like what you see? Visit the ' +\n",
              "            '<a target=\"_blank\" href=https://colab.research.google.com/notebooks/data_table.ipynb>data table notebook</a>'\n",
              "            + ' to learn more about interactive tables.';\n",
              "          element.innerHTML = '';\n",
              "          dataTable['output_type'] = 'display_data';\n",
              "          await google.colab.output.renderOutput(dataTable, element);\n",
              "          const docLink = document.createElement('div');\n",
              "          docLink.innerHTML = docLinkHtml;\n",
              "          element.appendChild(docLink);\n",
              "        }\n",
              "      </script>\n",
              "    </div>\n",
              "  </div>\n",
              "  "
            ]
          },
          "metadata": {},
          "execution_count": 32
        }
      ],
      "source": [
        "df_price = df_vic[['Price']]\n",
        "df_price = df_price.reset_index(drop=True)\n",
        "df_price.head(5)"
      ]
    },
    {
      "cell_type": "markdown",
      "metadata": {
        "id": "GBVbVGIQKoo-"
      },
      "source": [
        "- Scale data between 0 and 1:"
      ]
    },
    {
      "cell_type": "code",
      "execution_count": 33,
      "metadata": {
        "colab": {
          "base_uri": "https://localhost:8080/",
          "height": 206
        },
        "id": "snMD325iKoo_",
        "outputId": "ba418bc8-e44c-4dfe-cba6-b1181d39acac"
      },
      "outputs": [
        {
          "output_type": "execute_result",
          "data": {
            "text/plain": [
              "      Price\n",
              "0  0.182297\n",
              "1  0.206826\n",
              "2  0.212155\n",
              "3  0.201497\n",
              "4  0.204697"
            ],
            "text/html": [
              "\n",
              "  <div id=\"df-562e72ce-0f91-4ab1-994e-ab5ec7f74b21\">\n",
              "    <div class=\"colab-df-container\">\n",
              "      <div>\n",
              "<style scoped>\n",
              "    .dataframe tbody tr th:only-of-type {\n",
              "        vertical-align: middle;\n",
              "    }\n",
              "\n",
              "    .dataframe tbody tr th {\n",
              "        vertical-align: top;\n",
              "    }\n",
              "\n",
              "    .dataframe thead th {\n",
              "        text-align: right;\n",
              "    }\n",
              "</style>\n",
              "<table border=\"1\" class=\"dataframe\">\n",
              "  <thead>\n",
              "    <tr style=\"text-align: right;\">\n",
              "      <th></th>\n",
              "      <th>Price</th>\n",
              "    </tr>\n",
              "  </thead>\n",
              "  <tbody>\n",
              "    <tr>\n",
              "      <th>0</th>\n",
              "      <td>0.182297</td>\n",
              "    </tr>\n",
              "    <tr>\n",
              "      <th>1</th>\n",
              "      <td>0.206826</td>\n",
              "    </tr>\n",
              "    <tr>\n",
              "      <th>2</th>\n",
              "      <td>0.212155</td>\n",
              "    </tr>\n",
              "    <tr>\n",
              "      <th>3</th>\n",
              "      <td>0.201497</td>\n",
              "    </tr>\n",
              "    <tr>\n",
              "      <th>4</th>\n",
              "      <td>0.204697</td>\n",
              "    </tr>\n",
              "  </tbody>\n",
              "</table>\n",
              "</div>\n",
              "      <button class=\"colab-df-convert\" onclick=\"convertToInteractive('df-562e72ce-0f91-4ab1-994e-ab5ec7f74b21')\"\n",
              "              title=\"Convert this dataframe to an interactive table.\"\n",
              "              style=\"display:none;\">\n",
              "        \n",
              "  <svg xmlns=\"http://www.w3.org/2000/svg\" height=\"24px\"viewBox=\"0 0 24 24\"\n",
              "       width=\"24px\">\n",
              "    <path d=\"M0 0h24v24H0V0z\" fill=\"none\"/>\n",
              "    <path d=\"M18.56 5.44l.94 2.06.94-2.06 2.06-.94-2.06-.94-.94-2.06-.94 2.06-2.06.94zm-11 1L8.5 8.5l.94-2.06 2.06-.94-2.06-.94L8.5 2.5l-.94 2.06-2.06.94zm10 10l.94 2.06.94-2.06 2.06-.94-2.06-.94-.94-2.06-.94 2.06-2.06.94z\"/><path d=\"M17.41 7.96l-1.37-1.37c-.4-.4-.92-.59-1.43-.59-.52 0-1.04.2-1.43.59L10.3 9.45l-7.72 7.72c-.78.78-.78 2.05 0 2.83L4 21.41c.39.39.9.59 1.41.59.51 0 1.02-.2 1.41-.59l7.78-7.78 2.81-2.81c.8-.78.8-2.07 0-2.86zM5.41 20L4 18.59l7.72-7.72 1.47 1.35L5.41 20z\"/>\n",
              "  </svg>\n",
              "      </button>\n",
              "      \n",
              "  <style>\n",
              "    .colab-df-container {\n",
              "      display:flex;\n",
              "      flex-wrap:wrap;\n",
              "      gap: 12px;\n",
              "    }\n",
              "\n",
              "    .colab-df-convert {\n",
              "      background-color: #E8F0FE;\n",
              "      border: none;\n",
              "      border-radius: 50%;\n",
              "      cursor: pointer;\n",
              "      display: none;\n",
              "      fill: #1967D2;\n",
              "      height: 32px;\n",
              "      padding: 0 0 0 0;\n",
              "      width: 32px;\n",
              "    }\n",
              "\n",
              "    .colab-df-convert:hover {\n",
              "      background-color: #E2EBFA;\n",
              "      box-shadow: 0px 1px 2px rgba(60, 64, 67, 0.3), 0px 1px 3px 1px rgba(60, 64, 67, 0.15);\n",
              "      fill: #174EA6;\n",
              "    }\n",
              "\n",
              "    [theme=dark] .colab-df-convert {\n",
              "      background-color: #3B4455;\n",
              "      fill: #D2E3FC;\n",
              "    }\n",
              "\n",
              "    [theme=dark] .colab-df-convert:hover {\n",
              "      background-color: #434B5C;\n",
              "      box-shadow: 0px 1px 3px 1px rgba(0, 0, 0, 0.15);\n",
              "      filter: drop-shadow(0px 1px 2px rgba(0, 0, 0, 0.3));\n",
              "      fill: #FFFFFF;\n",
              "    }\n",
              "  </style>\n",
              "\n",
              "      <script>\n",
              "        const buttonEl =\n",
              "          document.querySelector('#df-562e72ce-0f91-4ab1-994e-ab5ec7f74b21 button.colab-df-convert');\n",
              "        buttonEl.style.display =\n",
              "          google.colab.kernel.accessAllowed ? 'block' : 'none';\n",
              "\n",
              "        async function convertToInteractive(key) {\n",
              "          const element = document.querySelector('#df-562e72ce-0f91-4ab1-994e-ab5ec7f74b21');\n",
              "          const dataTable =\n",
              "            await google.colab.kernel.invokeFunction('convertToInteractive',\n",
              "                                                     [key], {});\n",
              "          if (!dataTable) return;\n",
              "\n",
              "          const docLinkHtml = 'Like what you see? Visit the ' +\n",
              "            '<a target=\"_blank\" href=https://colab.research.google.com/notebooks/data_table.ipynb>data table notebook</a>'\n",
              "            + ' to learn more about interactive tables.';\n",
              "          element.innerHTML = '';\n",
              "          dataTable['output_type'] = 'display_data';\n",
              "          await google.colab.output.renderOutput(dataTable, element);\n",
              "          const docLink = document.createElement('div');\n",
              "          docLink.innerHTML = docLinkHtml;\n",
              "          element.appendChild(docLink);\n",
              "        }\n",
              "      </script>\n",
              "    </div>\n",
              "  </div>\n",
              "  "
            ]
          },
          "metadata": {},
          "execution_count": 33
        }
      ],
      "source": [
        "scaler = MinMaxScaler(feature_range=(0, 1))\n",
        "df_price['Price'] = scaler.fit_transform(np.array(df_price['Price']).reshape(-1,1))\n",
        "df_price.head(5)"
      ]
    },
    {
      "cell_type": "markdown",
      "metadata": {
        "id": "3iHv0Or1Koo_"
      },
      "source": [
        "- Split data into train, test, val (7 - 2 - 1):"
      ]
    },
    {
      "cell_type": "code",
      "execution_count": 34,
      "metadata": {
        "colab": {
          "base_uri": "https://localhost:8080/"
        },
        "id": "CiuoYkRRKopA",
        "outputId": "9076a0d3-c0e0-4f54-cfac-e62dcda85d87"
      },
      "outputs": [
        {
          "output_type": "stream",
          "name": "stdout",
          "text": [
            "(1088, 1)\n",
            "(136, 1)\n",
            "(136, 1)\n"
          ]
        }
      ],
      "source": [
        "train_size = int(0.8 * len(df_price))\n",
        "test_size = int(0.1 * len(df_price))\n",
        "val_size = len(df_price) - train_size - test_size\n",
        "\n",
        "train_data = df_price[:train_size]\n",
        "test_data = df_price[train_size:train_size+test_size]\n",
        "val_data = df_price[train_size+test_size:]\n",
        "\n",
        "print(train_data.shape)\n",
        "print(test_data.shape)\n",
        "print(val_data.shape)"
      ]
    },
    {
      "cell_type": "code",
      "execution_count": 35,
      "metadata": {
        "colab": {
          "base_uri": "https://localhost:8080/",
          "height": 468
        },
        "id": "42mI9CitKopB",
        "outputId": "98c80f5e-fc48-4c74-df4c-9e4d5d20e4e8"
      },
      "outputs": [
        {
          "output_type": "display_data",
          "data": {
            "text/plain": [
              "<Figure size 1500x500 with 1 Axes>"
            ],
            "image/png": "[encoded data removed]"
          },
          "metadata": {}
        }
      ],
      "source": [
        "plt.figure(figsize=(15,5))\n",
        "plt.plot(train_data.index, train_data['Price'], 'b')\n",
        "plt.plot(test_data.index, test_data['Price'], 'orange')\n",
        "plt.plot(val_data.index, val_data['Price'], 'gray')\n",
        "plt.legend(['Train data', 'Test data', 'Val data'], loc='upper left')\n",
        "plt.title('VIC - Data after split into train, test, val')\n",
        "plt.show()"
      ]
    },
    {
      "cell_type": "markdown",
      "metadata": {
        "id": "fn6vqrhSKopC"
      },
      "source": [
        "- Prepare x, y data:"
      ]
    },
    {
      "cell_type": "code",
      "execution_count": 36,
      "metadata": {
        "id": "8NcgMXNMKopD"
      },
      "outputs": [],
      "source": [
        "def make_lags_data(dataset, lags=1):\n",
        "\tdataX, dataY = [], []\n",
        "\tfor i in range(len(dataset) - lags - 1):\n",
        "\t\ta = dataset[i:(i + lags)]\n",
        "\t\tdataX.append(a)\n",
        "\t\tdataY.append(dataset[i + lags])\n",
        "\treturn np.array(dataX), np.array(dataY)"
      ]
    },
    {
      "cell_type": "code",
      "execution_count": 37,
      "metadata": {
        "id": "poqM63boKopE"
      },
      "outputs": [],
      "source": [
        "lags = 30\n",
        "\n",
        "x_train, y_train = make_lags_data(train_data['Price'].values, lags=lags)\n",
        "\n",
        "x_test, y_test = make_lags_data(test_data['Price'].values, lags=lags)\n",
        "\n",
        "x_val, y_val = make_lags_data(val_data['Price'].values, lags=lags)"
      ]
    },
    {
      "cell_type": "markdown",
      "metadata": {
        "id": "q2oriatuKopE"
      },
      "source": [
        "- Model training:"
      ]
    },
    {
      "cell_type": "code",
      "execution_count": 38,
      "metadata": {
        "colab": {
          "base_uri": "https://localhost:8080/",
          "height": 75
        },
        "id": "qdTceWlgKopF",
        "outputId": "346c74aa-7d93-45e7-e340-37caf67a8224"
      },
      "outputs": [
        {
          "output_type": "execute_result",
          "data": {
            "text/plain": [
              "SVR(kernel='linear')"
            ],
            "text/html": [
              "<style>#sk-container-id-3 {color: black;background-color: white;}#sk-container-id-3 pre{padding: 0;}#sk-container-id-3 div.sk-toggleable {background-color: white;}#sk-container-id-3 label.sk-toggleable__label {cursor: pointer;display: block;width: 100%;margin-bottom: 0;padding: 0.3em;box-sizing: border-box;text-align: center;}#sk-container-id-3 label.sk-toggleable__label-arrow:before {content: \"▸\";float: left;margin-right: 0.25em;color: #696969;}#sk-container-id-3 label.sk-toggleable__label-arrow:hover:before {color: black;}#sk-container-id-3 div.sk-estimator:hover label.sk-toggleable__label-arrow:before {color: black;}#sk-container-id-3 div.sk-toggleable__content {max-height: 0;max-width: 0;overflow: hidden;text-align: left;background-color: #f0f8ff;}#sk-container-id-3 div.sk-toggleable__content pre {margin: 0.2em;color: black;border-radius: 0.25em;background-color: #f0f8ff;}#sk-container-id-3 input.sk-toggleable__control:checked~div.sk-toggleable__content {max-height: 200px;max-width: 100%;overflow: auto;}#sk-container-id-3 input.sk-toggleable__control:checked~label.sk-toggleable__label-arrow:before {content: \"▾\";}#sk-container-id-3 div.sk-estimator input.sk-toggleable__control:checked~label.sk-toggleable__label {background-color: #d4ebff;}#sk-container-id-3 div.sk-label input.sk-toggleable__control:checked~label.sk-toggleable__label {background-color: #d4ebff;}#sk-container-id-3 input.sk-hidden--visually {border: 0;clip: rect(1px 1px 1px 1px);clip: rect(1px, 1px, 1px, 1px);height: 1px;margin: -1px;overflow: hidden;padding: 0;position: absolute;width: 1px;}#sk-container-id-3 div.sk-estimator {font-family: monospace;background-color: #f0f8ff;border: 1px dotted black;border-radius: 0.25em;box-sizing: border-box;margin-bottom: 0.5em;}#sk-container-id-3 div.sk-estimator:hover {background-color: #d4ebff;}#sk-container-id-3 div.sk-parallel-item::after {content: \"\";width: 100%;border-bottom: 1px solid gray;flex-grow: 1;}#sk-container-id-3 div.sk-label:hover label.sk-toggleable__label {background-color: #d4ebff;}#sk-container-id-3 div.sk-serial::before {content: \"\";position: absolute;border-left: 1px solid gray;box-sizing: border-box;top: 0;bottom: 0;left: 50%;z-index: 0;}#sk-container-id-3 div.sk-serial {display: flex;flex-direction: column;align-items: center;background-color: white;padding-right: 0.2em;padding-left: 0.2em;position: relative;}#sk-container-id-3 div.sk-item {position: relative;z-index: 1;}#sk-container-id-3 div.sk-parallel {display: flex;align-items: stretch;justify-content: center;background-color: white;position: relative;}#sk-container-id-3 div.sk-item::before, #sk-container-id-3 div.sk-parallel-item::before {content: \"\";position: absolute;border-left: 1px solid gray;box-sizing: border-box;top: 0;bottom: 0;left: 50%;z-index: -1;}#sk-container-id-3 div.sk-parallel-item {display: flex;flex-direction: column;z-index: 1;position: relative;background-color: white;}#sk-container-id-3 div.sk-parallel-item:first-child::after {align-self: flex-end;width: 50%;}#sk-container-id-3 div.sk-parallel-item:last-child::after {align-self: flex-start;width: 50%;}#sk-container-id-3 div.sk-parallel-item:only-child::after {width: 0;}#sk-container-id-3 div.sk-dashed-wrapped {border: 1px dashed gray;margin: 0 0.4em 0.5em 0.4em;box-sizing: border-box;padding-bottom: 0.4em;background-color: white;}#sk-container-id-3 div.sk-label label {font-family: monospace;font-weight: bold;display: inline-block;line-height: 1.2em;}#sk-container-id-3 div.sk-label-container {text-align: center;}#sk-container-id-3 div.sk-container {/* jupyter's `normalize.less` sets `[hidden] { display: none; }` but bootstrap.min.css set `[hidden] { display: none !important; }` so we also need the `!important` here to be able to override the default hidden behavior on the sphinx rendered scikit-learn.org. See: https://github.com/scikit-learn/scikit-learn/issues/21755 */display: inline-block !important;position: relative;}#sk-container-id-3 div.sk-text-repr-fallback {display: none;}</style><div id=\"sk-container-id-3\" class=\"sk-top-container\"><div class=\"sk-text-repr-fallback\"><pre>SVR(kernel=&#x27;linear&#x27;)</pre><b>In a Jupyter environment, please rerun this cell to show the HTML representation or trust the notebook. <br />On GitHub, the HTML representation is unable to render, please try loading this page with nbviewer.org.</b></div><div class=\"sk-container\" hidden><div class=\"sk-item\"><div class=\"sk-estimator sk-toggleable\"><input class=\"sk-toggleable__control sk-hidden--visually\" id=\"sk-estimator-id-3\" type=\"checkbox\" checked><label for=\"sk-estimator-id-3\" class=\"sk-toggleable__label sk-toggleable__label-arrow\">SVR</label><div class=\"sk-toggleable__content\"><pre>SVR(kernel=&#x27;linear&#x27;)</pre></div></div></div></div></div>"
            ]
          },
          "metadata": {},
          "execution_count": 38
        }
      ],
      "source": [
        "model_svr = SVR(kernel='linear')\n",
        "model_svr.fit(x_train, y_train)"
      ]
    },
    {
      "cell_type": "markdown",
      "metadata": {
        "id": "sDnxlBH5KopG"
      },
      "source": [
        "- Model Prediction on test, val (one-step prediction):"
      ]
    },
    {
      "cell_type": "code",
      "execution_count": 39,
      "metadata": {
        "id": "bJ_JIC4lKopG"
      },
      "outputs": [],
      "source": [
        "y_pred_test = model_svr.predict(x_test)\n",
        "y_pred_val = model_svr.predict(x_val)\n",
        "\n",
        "y_pred_test = scaler.inverse_transform(y_pred_test.reshape(-1, 1))\n",
        "y_pred_val = scaler.inverse_transform(y_pred_val.reshape(-1, 1))"
      ]
    },
    {
      "cell_type": "markdown",
      "metadata": {
        "id": "xNeS6FhWKopH"
      },
      "source": [
        "- 30 days prediction:"
      ]
    },
    {
      "cell_type": "code",
      "execution_count": 40,
      "metadata": {
        "id": "L_ao2-t2KopH"
      },
      "outputs": [],
      "source": [
        "number_of_days_to_predict = 30\n",
        "n_steps = lags\n",
        "\n",
        "x_input = df_price[-number_of_days_to_predict-lags:-number_of_days_to_predict]['Price'].values\n",
        "temp_input = x_input.tolist()\n",
        "\n",
        "ndays_pred = []\n",
        "\n",
        "i = 0\n",
        "while(i < number_of_days_to_predict):\n",
        "    x_input = np.array(temp_input)\n",
        "    x_input = x_input.reshape(1, lags)\n",
        "    y_hat = model_svr.predict(x_input)\n",
        "    temp_input.append(y_hat[0])\n",
        "    temp_input = temp_input[1:]\n",
        "    ndays_pred.append(y_hat[0])\n",
        "    i += 1\n"
      ]
    },
    {
      "cell_type": "code",
      "execution_count": 41,
      "metadata": {
        "colab": {
          "base_uri": "https://localhost:8080/"
        },
        "id": "TPZGOcryKopI",
        "outputId": "f099c5ae-bc4f-4cd7-fc43-853b1fc32a7d"
      },
      "outputs": [
        {
          "output_type": "execute_result",
          "data": {
            "text/plain": [
              "array([[ 60114.96393352],\n",
              "       [ 64644.3686357 ],\n",
              "       [ 68604.37721707],\n",
              "       [ 72462.59993085],\n",
              "       [ 76356.59259873],\n",
              "       [ 80349.23438218],\n",
              "       [ 83970.11970304],\n",
              "       [ 87701.03175024],\n",
              "       [ 92248.9261948 ],\n",
              "       [ 96710.98466015],\n",
              "       [101195.10750844],\n",
              "       [105777.1410357 ],\n",
              "       [110354.12488861],\n",
              "       [114704.45792173],\n",
              "       [118739.67766807],\n",
              "       [122190.53429646],\n",
              "       [125145.42253438],\n",
              "       [127972.35007689],\n",
              "       [130454.37772356],\n",
              "       [132861.81386196],\n",
              "       [135497.09320873],\n",
              "       [137816.65961451],\n",
              "       [139800.49001544],\n",
              "       [141604.9956462 ],\n",
              "       [143747.9371569 ],\n",
              "       [145903.22161308],\n",
              "       [147984.50459736],\n",
              "       [149335.6372163 ],\n",
              "       [150212.28676058],\n",
              "       [150596.14363929]])"
            ]
          },
          "metadata": {},
          "execution_count": 41
        }
      ],
      "source": [
        "ndays_pred = scaler.inverse_transform(np.array(ndays_pred).reshape(-1, 1))\n",
        "ndays_pred"
      ]
    },
    {
      "cell_type": "markdown",
      "metadata": {
        "id": "ehmtDlN9KopI"
      },
      "source": [
        "- Model evaluating (RMSE - MAPE - MSLE):"
      ]
    },
    {
      "cell_type": "code",
      "execution_count": 42,
      "metadata": {
        "colab": {
          "base_uri": "https://localhost:8080/"
        },
        "id": "wmaLdCfEKopJ",
        "outputId": "4c7c77c5-bf24-4dc1-c6cd-ab9677c6383a"
      },
      "outputs": [
        {
          "output_type": "stream",
          "name": "stdout",
          "text": [
            "Testing RMSE: 69090.9692\n",
            "Validating RMSE: 61992.2397\n",
            "Predicting 30 days RMSE: 117400.7734\n",
            "\n",
            "Testing MAPE: 1.0\n",
            "Validating MAPE: 1.0\n",
            "Predicting 30 days MAPE: 1.0\n",
            "\n",
            "Testing MSLE: 120.8696\n",
            "Validating MSLE: 120.9416\n",
            "Predicting 30 days MSLE: 134.1952\n"
          ]
        }
      ],
      "source": [
        "last_ndays_data = df_price[-number_of_days_to_predict:]['Price'].values\n",
        "\n",
        "# RMSE\n",
        "test_rmse = mean_squared_error(y_pred_test, y_test, squared=False)\n",
        "val_rmse = mean_squared_error(y_pred_val, y_val, squared=False)\n",
        "ndays_rmse = mean_squared_error(ndays_pred, last_ndays_data, squared=False)\n",
        "print('Testing RMSE:', np.round(test_rmse, 4))\n",
        "print('Validating RMSE:', np.round(val_rmse, 4))\n",
        "print('Predicting {0} days RMSE:'.format(number_of_days_to_predict), np.round(ndays_rmse, 4))\n",
        "\n",
        "# MAPE\n",
        "test_mape = mean_absolute_percentage_error(y_pred_test, y_test)\n",
        "val_mape = mean_absolute_percentage_error(y_pred_val, y_val)\n",
        "ndays_mape = mean_absolute_percentage_error(ndays_pred, last_ndays_data)\n",
        "print('\\nTesting MAPE:', np.round(test_mape, 4))\n",
        "print('Validating MAPE:', np.round(val_mape, 4))\n",
        "print('Predicting {0} days MAPE:'.format(number_of_days_to_predict), np.round(ndays_mape, 4))\n",
        "\n",
        "# MSLE\n",
        "test_msle = mean_squared_log_error(y_pred_test, y_test)\n",
        "val_msle = mean_squared_log_error(y_pred_val, y_val)\n",
        "ndays_msle = mean_squared_log_error(ndays_pred, last_ndays_data)\n",
        "print('\\nTesting MSLE:', np.round(test_msle, 4))\n",
        "print('Validating MSLE:', np.round(val_msle, 4))\n",
        "print('Predicting {0} days MSLE:'.format(number_of_days_to_predict), np.round(ndays_msle, 4))\n"
      ]
    },
    {
      "cell_type": "markdown",
      "metadata": {
        "id": "BxoPEtdSKopJ"
      },
      "source": [
        "- Prediction plotting:"
      ]
    },
    {
      "cell_type": "code",
      "execution_count": 43,
      "metadata": {
        "colab": {
          "base_uri": "https://localhost:8080/",
          "height": 468
        },
        "id": "OeUy3je-KopK",
        "outputId": "454bf7da-eee7-4efe-f723-92e41235ea0a"
      },
      "outputs": [
        {
          "output_type": "display_data",
          "data": {
            "text/plain": [
              "<Figure size 1500x500 with 1 Axes>"
            ],
            "image/png": "[encoded data removed]"
          },
          "metadata": {}
        }
      ],
      "source": [
        "plt.figure(figsize=(15,5))\n",
        "\n",
        "train_data_index = pd.RangeIndex(start=0, stop=train_size, step=1)\n",
        "plt.plot(scaler.inverse_transform(train_data), c='b')\n",
        "\n",
        "test_data_index = pd.RangeIndex(start=train_size, stop=train_size+test_size, step=1)\n",
        "plt.plot(test_data_index, scaler.inverse_transform(test_data), 'orange')\n",
        "\n",
        "test_data_index = pd.RangeIndex(start=train_size + lags + 1, stop=train_size+test_size, step=1)\n",
        "plt.plot(test_data_index, (y_pred_test), 'green')\n",
        "\n",
        "val_data_index = pd.RangeIndex(start=train_size+test_size, stop=train_size+test_size+val_size, step=1)\n",
        "plt.plot(val_data_index, scaler.inverse_transform(val_data), 'gray')\n",
        "\n",
        "val_data_index = pd.RangeIndex(start=train_size+test_size + lags + 1, stop=train_size+test_size+val_size, step=1)\n",
        "plt.plot(val_data_index, y_pred_val, 'purple')\n",
        "\n",
        "prediect_data_index = pd.RangeIndex(start=len(df_price)-number_of_days_to_predict, stop=len(df_price), step=1)\n",
        "plt.plot(prediect_data_index, ndays_pred, 'red')\n",
        "\n",
        "plt.legend(['Train data', 'Test data', 'Test prediction', 'Val data', 'Val prediction', '{0} days prediction'.format(number_of_days_to_predict)], loc='upper left')\n",
        "plt.title('VIC - Prediction plotting')\n",
        "plt.show()"
      ]
    }
  ],
  "metadata": {
    "kernelspec": {
      "display_name": "Python 3",
      "language": "python",
      "name": "python3"
    },
    "language_info": {
      "codemirror_mode": {
        "name": "ipython",
        "version": 3
      },
      "file_extension": ".py",
      "mimetype": "text/x-python",
      "name": "python",
      "nbconvert_exporter": "python",
      "pygments_lexer": "ipython3",
      "version": "3.9.4"
    },
    "orig_nbformat": 4,
    "colab": {
      "provenance": []
    }
  },
  "nbformat": 4,
  "nbformat_minor": 0
}