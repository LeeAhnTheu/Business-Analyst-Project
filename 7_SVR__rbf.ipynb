{
  "cells": [
    {
      "cell_type": "markdown",
      "metadata": {
        "id": "ryvoiRb1KooY"
      },
      "source": [
        "### Import libraries and datasets:"
      ]
    },
    {
      "cell_type": "code",
      "execution_count": 54,
      "metadata": {
        "id": "QX4fl48pKoob"
      },
      "outputs": [],
      "source": [
        "import numpy as np\n",
        "import pandas as pd\n",
        "import matplotlib.pyplot as plt\n",
        "from sklearn.metrics import mean_squared_error, mean_absolute_percentage_error, mean_squared_log_error\n",
        "\n",
        "from sklearn.preprocessing import MinMaxScaler\n",
        "from sklearn.svm import SVR\n",
        "from sklearn.multioutput import MultiOutputRegressor"
      ]
    },
    {
      "cell_type": "code",
      "execution_count": 55,
      "metadata": {
        "id": "lKF1nB1PKooe"
      },
      "outputs": [],
      "source": [
        "csv_fts = \"FTS Historical Data.csv\"\n",
        "csv_mwg = \"MWG Historical Data.csv\"\n",
        "csv_vic = \"VIC Historical Data.csv\"\n",
        "\n",
        "\n",
        "\n",
        "df_fts = pd.read_csv(csv_fts, thousands=',')\n",
        "df_mwg = pd.read_csv(csv_mwg, thousands=',')\n",
        "df_vic = pd.read_csv(csv_vic, thousands=',')"
      ]
    },
    {
      "cell_type": "markdown",
      "metadata": {
        "id": "knBeqnY1Koof"
      },
      "source": [
        "### Dataset 1: FTS"
      ]
    },
    {
      "cell_type": "markdown",
      "metadata": {
        "id": "6GF7uMilKoog"
      },
      "source": [
        "- Cast Date column to datetime type\n",
        "- Sort data ascending by Date"
      ]
    },
    {
      "cell_type": "code",
      "execution_count": 56,
      "metadata": {
        "colab": {
          "base_uri": "https://localhost:8080/",
          "height": 206
        },
        "id": "aFo7bHLPKoog",
        "outputId": "2a3c17e3-caab-45a3-b146-74133612f61f"
      },
      "outputs": [
        {
          "output_type": "execute_result",
          "data": {
            "text/plain": [
              "           Date  Price  Open  High   Low     Vol.  Change %\n",
              "1359 2018-01-02   5788  5859  5859  5788  103.55K   -0.0121\n",
              "1358 2018-01-03   5954  5765  5977  5741  245.02K    0.0286\n",
              "1357 2018-01-04   6025  5954  6143  5907  167.80K    0.0119\n",
              "1356 2018-01-05   5883  5977  6048  5883  113.88K   -0.0235\n",
              "1355 2018-01-08   6001  5859  6001  5765   63.36K    0.0201"
            ],
            "text/html": [
              "\n",
              "  <div id=\"df-dd4d34f5-9290-4612-82c6-d0995b2714a0\">\n",
              "    <div class=\"colab-df-container\">\n",
              "      <div>\n",
              "<style scoped>\n",
              "    .dataframe tbody tr th:only-of-type {\n",
              "        vertical-align: middle;\n",
              "    }\n",
              "\n",
              "    .dataframe tbody tr th {\n",
              "        vertical-align: top;\n",
              "    }\n",
              "\n",
              "    .dataframe thead th {\n",
              "        text-align: right;\n",
              "    }\n",
              "</style>\n",
              "<table border=\"1\" class=\"dataframe\">\n",
              "  <thead>\n",
              "    <tr style=\"text-align: right;\">\n",
              "      <th></th>\n",
              "      <th>Date</th>\n",
              "      <th>Price</th>\n",
              "      <th>Open</th>\n",
              "      <th>High</th>\n",
              "      <th>Low</th>\n",
              "      <th>Vol.</th>\n",
              "      <th>Change %</th>\n",
              "    </tr>\n",
              "  </thead>\n",
              "  <tbody>\n",
              "    <tr>\n",
              "      <th>1359</th>\n",
              "      <td>2018-01-02</td>\n",
              "      <td>5788</td>\n",
              "      <td>5859</td>\n",
              "      <td>5859</td>\n",
              "      <td>5788</td>\n",
              "      <td>103.55K</td>\n",
              "      <td>-0.0121</td>\n",
              "    </tr>\n",
              "    <tr>\n",
              "      <th>1358</th>\n",
              "      <td>2018-01-03</td>\n",
              "      <td>5954</td>\n",
              "      <td>5765</td>\n",
              "      <td>5977</td>\n",
              "      <td>5741</td>\n",
              "      <td>245.02K</td>\n",
              "      <td>0.0286</td>\n",
              "    </tr>\n",
              "    <tr>\n",
              "      <th>1357</th>\n",
              "      <td>2018-01-04</td>\n",
              "      <td>6025</td>\n",
              "      <td>5954</td>\n",
              "      <td>6143</td>\n",
              "      <td>5907</td>\n",
              "      <td>167.80K</td>\n",
              "      <td>0.0119</td>\n",
              "    </tr>\n",
              "    <tr>\n",
              "      <th>1356</th>\n",
              "      <td>2018-01-05</td>\n",
              "      <td>5883</td>\n",
              "      <td>5977</td>\n",
              "      <td>6048</td>\n",
              "      <td>5883</td>\n",
              "      <td>113.88K</td>\n",
              "      <td>-0.0235</td>\n",
              "    </tr>\n",
              "    <tr>\n",
              "      <th>1355</th>\n",
              "      <td>2018-01-08</td>\n",
              "      <td>6001</td>\n",
              "      <td>5859</td>\n",
              "      <td>6001</td>\n",
              "      <td>5765</td>\n",
              "      <td>63.36K</td>\n",
              "      <td>0.0201</td>\n",
              "    </tr>\n",
              "  </tbody>\n",
              "</table>\n",
              "</div>\n",
              "      <button class=\"colab-df-convert\" onclick=\"convertToInteractive('df-dd4d34f5-9290-4612-82c6-d0995b2714a0')\"\n",
              "              title=\"Convert this dataframe to an interactive table.\"\n",
              "              style=\"display:none;\">\n",
              "        \n",
              "  <svg xmlns=\"http://www.w3.org/2000/svg\" height=\"24px\"viewBox=\"0 0 24 24\"\n",
              "       width=\"24px\">\n",
              "    <path d=\"M0 0h24v24H0V0z\" fill=\"none\"/>\n",
              "    <path d=\"M18.56 5.44l.94 2.06.94-2.06 2.06-.94-2.06-.94-.94-2.06-.94 2.06-2.06.94zm-11 1L8.5 8.5l.94-2.06 2.06-.94-2.06-.94L8.5 2.5l-.94 2.06-2.06.94zm10 10l.94 2.06.94-2.06 2.06-.94-2.06-.94-.94-2.06-.94 2.06-2.06.94z\"/><path d=\"M17.41 7.96l-1.37-1.37c-.4-.4-.92-.59-1.43-.59-.52 0-1.04.2-1.43.59L10.3 9.45l-7.72 7.72c-.78.78-.78 2.05 0 2.83L4 21.41c.39.39.9.59 1.41.59.51 0 1.02-.2 1.41-.59l7.78-7.78 2.81-2.81c.8-.78.8-2.07 0-2.86zM5.41 20L4 18.59l7.72-7.72 1.47 1.35L5.41 20z\"/>\n",
              "  </svg>\n",
              "      </button>\n",
              "      \n",
              "  <style>\n",
              "    .colab-df-container {\n",
              "      display:flex;\n",
              "      flex-wrap:wrap;\n",
              "      gap: 12px;\n",
              "    }\n",
              "\n",
              "    .colab-df-convert {\n",
              "      background-color: #E8F0FE;\n",
              "      border: none;\n",
              "      border-radius: 50%;\n",
              "      cursor: pointer;\n",
              "      display: none;\n",
              "      fill: #1967D2;\n",
              "      height: 32px;\n",
              "      padding: 0 0 0 0;\n",
              "      width: 32px;\n",
              "    }\n",
              "\n",
              "    .colab-df-convert:hover {\n",
              "      background-color: #E2EBFA;\n",
              "      box-shadow: 0px 1px 2px rgba(60, 64, 67, 0.3), 0px 1px 3px 1px rgba(60, 64, 67, 0.15);\n",
              "      fill: #174EA6;\n",
              "    }\n",
              "\n",
              "    [theme=dark] .colab-df-convert {\n",
              "      background-color: #3B4455;\n",
              "      fill: #D2E3FC;\n",
              "    }\n",
              "\n",
              "    [theme=dark] .colab-df-convert:hover {\n",
              "      background-color: #434B5C;\n",
              "      box-shadow: 0px 1px 3px 1px rgba(0, 0, 0, 0.15);\n",
              "      filter: drop-shadow(0px 1px 2px rgba(0, 0, 0, 0.3));\n",
              "      fill: #FFFFFF;\n",
              "    }\n",
              "  </style>\n",
              "\n",
              "      <script>\n",
              "        const buttonEl =\n",
              "          document.querySelector('#df-dd4d34f5-9290-4612-82c6-d0995b2714a0 button.colab-df-convert');\n",
              "        buttonEl.style.display =\n",
              "          google.colab.kernel.accessAllowed ? 'block' : 'none';\n",
              "\n",
              "        async function convertToInteractive(key) {\n",
              "          const element = document.querySelector('#df-dd4d34f5-9290-4612-82c6-d0995b2714a0');\n",
              "          const dataTable =\n",
              "            await google.colab.kernel.invokeFunction('convertToInteractive',\n",
              "                                                     [key], {});\n",
              "          if (!dataTable) return;\n",
              "\n",
              "          const docLinkHtml = 'Like what you see? Visit the ' +\n",
              "            '<a target=\"_blank\" href=https://colab.research.google.com/notebooks/data_table.ipynb>data table notebook</a>'\n",
              "            + ' to learn more about interactive tables.';\n",
              "          element.innerHTML = '';\n",
              "          dataTable['output_type'] = 'display_data';\n",
              "          await google.colab.output.renderOutput(dataTable, element);\n",
              "          const docLink = document.createElement('div');\n",
              "          docLink.innerHTML = docLinkHtml;\n",
              "          element.appendChild(docLink);\n",
              "        }\n",
              "      </script>\n",
              "    </div>\n",
              "  </div>\n",
              "  "
            ]
          },
          "metadata": {},
          "execution_count": 56
        }
      ],
      "source": [
        "df_fts['Date'] = pd.to_datetime(df_fts['Date'])\n",
        "df_fts = df_fts.sort_values(by='Date', ascending=True)\n",
        "df_fts.head(5)"
      ]
    },
    {
      "cell_type": "markdown",
      "metadata": {
        "id": "wBIsGkI9Kooi"
      },
      "source": [
        "- Split Price data\n",
        "- Reset index"
      ]
    },
    {
      "cell_type": "code",
      "execution_count": 57,
      "metadata": {
        "colab": {
          "base_uri": "https://localhost:8080/",
          "height": 206
        },
        "id": "DAf9h9BlKooj",
        "outputId": "63295fa1-c391-42c0-ab4a-62b8ed35a578"
      },
      "outputs": [
        {
          "output_type": "execute_result",
          "data": {
            "text/plain": [
              "   Price\n",
              "0   5788\n",
              "1   5954\n",
              "2   6025\n",
              "3   5883\n",
              "4   6001"
            ],
            "text/html": [
              "\n",
              "  <div id=\"df-7b4b1c4c-b7a1-4e9d-aca2-56e73b87e267\">\n",
              "    <div class=\"colab-df-container\">\n",
              "      <div>\n",
              "<style scoped>\n",
              "    .dataframe tbody tr th:only-of-type {\n",
              "        vertical-align: middle;\n",
              "    }\n",
              "\n",
              "    .dataframe tbody tr th {\n",
              "        vertical-align: top;\n",
              "    }\n",
              "\n",
              "    .dataframe thead th {\n",
              "        text-align: right;\n",
              "    }\n",
              "</style>\n",
              "<table border=\"1\" class=\"dataframe\">\n",
              "  <thead>\n",
              "    <tr style=\"text-align: right;\">\n",
              "      <th></th>\n",
              "      <th>Price</th>\n",
              "    </tr>\n",
              "  </thead>\n",
              "  <tbody>\n",
              "    <tr>\n",
              "      <th>0</th>\n",
              "      <td>5788</td>\n",
              "    </tr>\n",
              "    <tr>\n",
              "      <th>1</th>\n",
              "      <td>5954</td>\n",
              "    </tr>\n",
              "    <tr>\n",
              "      <th>2</th>\n",
              "      <td>6025</td>\n",
              "    </tr>\n",
              "    <tr>\n",
              "      <th>3</th>\n",
              "      <td>5883</td>\n",
              "    </tr>\n",
              "    <tr>\n",
              "      <th>4</th>\n",
              "      <td>6001</td>\n",
              "    </tr>\n",
              "  </tbody>\n",
              "</table>\n",
              "</div>\n",
              "      <button class=\"colab-df-convert\" onclick=\"convertToInteractive('df-7b4b1c4c-b7a1-4e9d-aca2-56e73b87e267')\"\n",
              "              title=\"Convert this dataframe to an interactive table.\"\n",
              "              style=\"display:none;\">\n",
              "        \n",
              "  <svg xmlns=\"http://www.w3.org/2000/svg\" height=\"24px\"viewBox=\"0 0 24 24\"\n",
              "       width=\"24px\">\n",
              "    <path d=\"M0 0h24v24H0V0z\" fill=\"none\"/>\n",
              "    <path d=\"M18.56 5.44l.94 2.06.94-2.06 2.06-.94-2.06-.94-.94-2.06-.94 2.06-2.06.94zm-11 1L8.5 8.5l.94-2.06 2.06-.94-2.06-.94L8.5 2.5l-.94 2.06-2.06.94zm10 10l.94 2.06.94-2.06 2.06-.94-2.06-.94-.94-2.06-.94 2.06-2.06.94z\"/><path d=\"M17.41 7.96l-1.37-1.37c-.4-.4-.92-.59-1.43-.59-.52 0-1.04.2-1.43.59L10.3 9.45l-7.72 7.72c-.78.78-.78 2.05 0 2.83L4 21.41c.39.39.9.59 1.41.59.51 0 1.02-.2 1.41-.59l7.78-7.78 2.81-2.81c.8-.78.8-2.07 0-2.86zM5.41 20L4 18.59l7.72-7.72 1.47 1.35L5.41 20z\"/>\n",
              "  </svg>\n",
              "      </button>\n",
              "      \n",
              "  <style>\n",
              "    .colab-df-container {\n",
              "      display:flex;\n",
              "      flex-wrap:wrap;\n",
              "      gap: 12px;\n",
              "    }\n",
              "\n",
              "    .colab-df-convert {\n",
              "      background-color: #E8F0FE;\n",
              "      border: none;\n",
              "      border-radius: 50%;\n",
              "      cursor: pointer;\n",
              "      display: none;\n",
              "      fill: #1967D2;\n",
              "      height: 32px;\n",
              "      padding: 0 0 0 0;\n",
              "      width: 32px;\n",
              "    }\n",
              "\n",
              "    .colab-df-convert:hover {\n",
              "      background-color: #E2EBFA;\n",
              "      box-shadow: 0px 1px 2px rgba(60, 64, 67, 0.3), 0px 1px 3px 1px rgba(60, 64, 67, 0.15);\n",
              "      fill: #174EA6;\n",
              "    }\n",
              "\n",
              "    [theme=dark] .colab-df-convert {\n",
              "      background-color: #3B4455;\n",
              "      fill: #D2E3FC;\n",
              "    }\n",
              "\n",
              "    [theme=dark] .colab-df-convert:hover {\n",
              "      background-color: #434B5C;\n",
              "      box-shadow: 0px 1px 3px 1px rgba(0, 0, 0, 0.15);\n",
              "      filter: drop-shadow(0px 1px 2px rgba(0, 0, 0, 0.3));\n",
              "      fill: #FFFFFF;\n",
              "    }\n",
              "  </style>\n",
              "\n",
              "      <script>\n",
              "        const buttonEl =\n",
              "          document.querySelector('#df-7b4b1c4c-b7a1-4e9d-aca2-56e73b87e267 button.colab-df-convert');\n",
              "        buttonEl.style.display =\n",
              "          google.colab.kernel.accessAllowed ? 'block' : 'none';\n",
              "\n",
              "        async function convertToInteractive(key) {\n",
              "          const element = document.querySelector('#df-7b4b1c4c-b7a1-4e9d-aca2-56e73b87e267');\n",
              "          const dataTable =\n",
              "            await google.colab.kernel.invokeFunction('convertToInteractive',\n",
              "                                                     [key], {});\n",
              "          if (!dataTable) return;\n",
              "\n",
              "          const docLinkHtml = 'Like what you see? Visit the ' +\n",
              "            '<a target=\"_blank\" href=https://colab.research.google.com/notebooks/data_table.ipynb>data table notebook</a>'\n",
              "            + ' to learn more about interactive tables.';\n",
              "          element.innerHTML = '';\n",
              "          dataTable['output_type'] = 'display_data';\n",
              "          await google.colab.output.renderOutput(dataTable, element);\n",
              "          const docLink = document.createElement('div');\n",
              "          docLink.innerHTML = docLinkHtml;\n",
              "          element.appendChild(docLink);\n",
              "        }\n",
              "      </script>\n",
              "    </div>\n",
              "  </div>\n",
              "  "
            ]
          },
          "metadata": {},
          "execution_count": 57
        }
      ],
      "source": [
        "df_price = df_fts[['Price']]\n",
        "df_price = df_price.reset_index(drop=True)\n",
        "df_price.head(5)"
      ]
    },
    {
      "cell_type": "markdown",
      "metadata": {
        "id": "gwAAsse0Kook"
      },
      "source": [
        "- Scale data between 0 and 1:"
      ]
    },
    {
      "cell_type": "code",
      "execution_count": 58,
      "metadata": {
        "colab": {
          "base_uri": "https://localhost:8080/",
          "height": 206
        },
        "id": "umfwztkDKook",
        "outputId": "b0f09c30-51d7-4b67-df06-9edec6880306"
      },
      "outputs": [
        {
          "output_type": "execute_result",
          "data": {
            "text/plain": [
              "      Price\n",
              "0  0.000000\n",
              "1  0.003602\n",
              "2  0.005143\n",
              "3  0.002061\n",
              "4  0.004622"
            ],
            "text/html": [
              "\n",
              "  <div id=\"df-12584879-a4f1-484c-9401-f590ba2956e2\">\n",
              "    <div class=\"colab-df-container\">\n",
              "      <div>\n",
              "<style scoped>\n",
              "    .dataframe tbody tr th:only-of-type {\n",
              "        vertical-align: middle;\n",
              "    }\n",
              "\n",
              "    .dataframe tbody tr th {\n",
              "        vertical-align: top;\n",
              "    }\n",
              "\n",
              "    .dataframe thead th {\n",
              "        text-align: right;\n",
              "    }\n",
              "</style>\n",
              "<table border=\"1\" class=\"dataframe\">\n",
              "  <thead>\n",
              "    <tr style=\"text-align: right;\">\n",
              "      <th></th>\n",
              "      <th>Price</th>\n",
              "    </tr>\n",
              "  </thead>\n",
              "  <tbody>\n",
              "    <tr>\n",
              "      <th>0</th>\n",
              "      <td>0.000000</td>\n",
              "    </tr>\n",
              "    <tr>\n",
              "      <th>1</th>\n",
              "      <td>0.003602</td>\n",
              "    </tr>\n",
              "    <tr>\n",
              "      <th>2</th>\n",
              "      <td>0.005143</td>\n",
              "    </tr>\n",
              "    <tr>\n",
              "      <th>3</th>\n",
              "      <td>0.002061</td>\n",
              "    </tr>\n",
              "    <tr>\n",
              "      <th>4</th>\n",
              "      <td>0.004622</td>\n",
              "    </tr>\n",
              "  </tbody>\n",
              "</table>\n",
              "</div>\n",
              "      <button class=\"colab-df-convert\" onclick=\"convertToInteractive('df-12584879-a4f1-484c-9401-f590ba2956e2')\"\n",
              "              title=\"Convert this dataframe to an interactive table.\"\n",
              "              style=\"display:none;\">\n",
              "        \n",
              "  <svg xmlns=\"http://www.w3.org/2000/svg\" height=\"24px\"viewBox=\"0 0 24 24\"\n",
              "       width=\"24px\">\n",
              "    <path d=\"M0 0h24v24H0V0z\" fill=\"none\"/>\n",
              "    <path d=\"M18.56 5.44l.94 2.06.94-2.06 2.06-.94-2.06-.94-.94-2.06-.94 2.06-2.06.94zm-11 1L8.5 8.5l.94-2.06 2.06-.94-2.06-.94L8.5 2.5l-.94 2.06-2.06.94zm10 10l.94 2.06.94-2.06 2.06-.94-2.06-.94-.94-2.06-.94 2.06-2.06.94z\"/><path d=\"M17.41 7.96l-1.37-1.37c-.4-.4-.92-.59-1.43-.59-.52 0-1.04.2-1.43.59L10.3 9.45l-7.72 7.72c-.78.78-.78 2.05 0 2.83L4 21.41c.39.39.9.59 1.41.59.51 0 1.02-.2 1.41-.59l7.78-7.78 2.81-2.81c.8-.78.8-2.07 0-2.86zM5.41 20L4 18.59l7.72-7.72 1.47 1.35L5.41 20z\"/>\n",
              "  </svg>\n",
              "      </button>\n",
              "      \n",
              "  <style>\n",
              "    .colab-df-container {\n",
              "      display:flex;\n",
              "      flex-wrap:wrap;\n",
              "      gap: 12px;\n",
              "    }\n",
              "\n",
              "    .colab-df-convert {\n",
              "      background-color: #E8F0FE;\n",
              "      border: none;\n",
              "      border-radius: 50%;\n",
              "      cursor: pointer;\n",
              "      display: none;\n",
              "      fill: #1967D2;\n",
              "      height: 32px;\n",
              "      padding: 0 0 0 0;\n",
              "      width: 32px;\n",
              "    }\n",
              "\n",
              "    .colab-df-convert:hover {\n",
              "      background-color: #E2EBFA;\n",
              "      box-shadow: 0px 1px 2px rgba(60, 64, 67, 0.3), 0px 1px 3px 1px rgba(60, 64, 67, 0.15);\n",
              "      fill: #174EA6;\n",
              "    }\n",
              "\n",
              "    [theme=dark] .colab-df-convert {\n",
              "      background-color: #3B4455;\n",
              "      fill: #D2E3FC;\n",
              "    }\n",
              "\n",
              "    [theme=dark] .colab-df-convert:hover {\n",
              "      background-color: #434B5C;\n",
              "      box-shadow: 0px 1px 3px 1px rgba(0, 0, 0, 0.15);\n",
              "      filter: drop-shadow(0px 1px 2px rgba(0, 0, 0, 0.3));\n",
              "      fill: #FFFFFF;\n",
              "    }\n",
              "  </style>\n",
              "\n",
              "      <script>\n",
              "        const buttonEl =\n",
              "          document.querySelector('#df-12584879-a4f1-484c-9401-f590ba2956e2 button.colab-df-convert');\n",
              "        buttonEl.style.display =\n",
              "          google.colab.kernel.accessAllowed ? 'block' : 'none';\n",
              "\n",
              "        async function convertToInteractive(key) {\n",
              "          const element = document.querySelector('#df-12584879-a4f1-484c-9401-f590ba2956e2');\n",
              "          const dataTable =\n",
              "            await google.colab.kernel.invokeFunction('convertToInteractive',\n",
              "                                                     [key], {});\n",
              "          if (!dataTable) return;\n",
              "\n",
              "          const docLinkHtml = 'Like what you see? Visit the ' +\n",
              "            '<a target=\"_blank\" href=https://colab.research.google.com/notebooks/data_table.ipynb>data table notebook</a>'\n",
              "            + ' to learn more about interactive tables.';\n",
              "          element.innerHTML = '';\n",
              "          dataTable['output_type'] = 'display_data';\n",
              "          await google.colab.output.renderOutput(dataTable, element);\n",
              "          const docLink = document.createElement('div');\n",
              "          docLink.innerHTML = docLinkHtml;\n",
              "          element.appendChild(docLink);\n",
              "        }\n",
              "      </script>\n",
              "    </div>\n",
              "  </div>\n",
              "  "
            ]
          },
          "metadata": {},
          "execution_count": 58
        }
      ],
      "source": [
        "scaler = MinMaxScaler(feature_range=(0, 1))\n",
        "df_price['Price'] = scaler.fit_transform(np.array(df_price['Price']).reshape(-1,1))\n",
        "df_price.head(5)"
      ]
    },
    {
      "cell_type": "markdown",
      "metadata": {
        "id": "ONJxP652Kool"
      },
      "source": [
        "- Split data into train, test, val (7 - 2 - 1):"
      ]
    },
    {
      "cell_type": "code",
      "execution_count": 59,
      "metadata": {
        "colab": {
          "base_uri": "https://localhost:8080/"
        },
        "id": "hcOMJTTSKool",
        "outputId": "c50ef161-b303-4abe-e504-d494f761991f"
      },
      "outputs": [
        {
          "output_type": "stream",
          "name": "stdout",
          "text": [
            "(1088, 1)\n",
            "(136, 1)\n",
            "(136, 1)\n"
          ]
        }
      ],
      "source": [
        "train_size = int(0.8 * len(df_price))\n",
        "test_size = int(0.1 * len(df_price))\n",
        "val_size = len(df_price) - train_size - test_size\n",
        "\n",
        "train_data = df_price[:train_size]\n",
        "test_data = df_price[train_size:train_size+test_size]\n",
        "val_data = df_price[train_size+test_size:]\n",
        "\n",
        "print(train_data.shape)\n",
        "print(test_data.shape)\n",
        "print(val_data.shape)"
      ]
    },
    {
      "cell_type": "code",
      "execution_count": 60,
      "metadata": {
        "colab": {
          "base_uri": "https://localhost:8080/",
          "height": 468
        },
        "id": "Harks27_Koom",
        "outputId": "0f64c8fb-bec1-449d-ec29-5880cab73438"
      },
      "outputs": [
        {
          "output_type": "display_data",
          "data": {
            "text/plain": [
              "<Figure size 1500x500 with 1 Axes>"
            ],
            "image/png": "[encoded data removed]"
          },
          "metadata": {}
        }
      ],
      "source": [
        "plt.figure(figsize=(15,5))\n",
        "plt.plot(train_data.index, train_data['Price'], 'b')\n",
        "plt.plot(test_data.index, test_data['Price'], 'orange')\n",
        "plt.plot(val_data.index, val_data['Price'], 'gray')\n",
        "plt.legend(['Train data', 'Test data', 'Val data'], loc='upper left')\n",
        "plt.title('FTS - Data after split into train, test, val')\n",
        "plt.show()"
      ]
    },
    {
      "cell_type": "markdown",
      "metadata": {
        "id": "aYU_453LKoon"
      },
      "source": [
        "- Prepare x, y data:"
      ]
    },
    {
      "cell_type": "code",
      "execution_count": 61,
      "metadata": {
        "id": "giPRDjj9Koon"
      },
      "outputs": [],
      "source": [
        "def make_lags_data(dataset, lags=1):\n",
        "\tdataX, dataY = [], []\n",
        "\tfor i in range(len(dataset) - lags - 1):\n",
        "\t\ta = dataset[i:(i + lags)]\n",
        "\t\tdataX.append(a)\n",
        "\t\tdataY.append(dataset[i + lags])\n",
        "\treturn np.array(dataX), np.array(dataY)"
      ]
    },
    {
      "cell_type": "code",
      "execution_count": 62,
      "metadata": {
        "id": "6liP60j4Kooo"
      },
      "outputs": [],
      "source": [
        "lags = 30\n",
        "\n",
        "x_train, y_train = make_lags_data(train_data['Price'].values, lags=lags)\n",
        "\n",
        "x_test, y_test = make_lags_data(test_data['Price'].values, lags=lags)\n",
        "\n",
        "x_val, y_val = make_lags_data(val_data['Price'].values, lags=lags)"
      ]
    },
    {
      "cell_type": "markdown",
      "metadata": {
        "id": "BE4rfd_MKooo"
      },
      "source": [
        "- Model training:"
      ]
    },
    {
      "cell_type": "markdown",
      "metadata": {
        "id": "UYWyxZOXKoop"
      },
      "source": [
        "Kernel: linear, poly, rbf, sigmoid, precomputed"
      ]
    },
    {
      "cell_type": "code",
      "execution_count": 63,
      "metadata": {
        "colab": {
          "base_uri": "https://localhost:8080/",
          "height": 75
        },
        "id": "foBeqHDMKoop",
        "outputId": "b2bf79b4-2082-433b-cc2c-afece18145e3"
      },
      "outputs": [
        {
          "output_type": "execute_result",
          "data": {
            "text/plain": [
              "SVR()"
            ],
            "text/html": [
              "<style>#sk-container-id-4 {color: black;background-color: white;}#sk-container-id-4 pre{padding: 0;}#sk-container-id-4 div.sk-toggleable {background-color: white;}#sk-container-id-4 label.sk-toggleable__label {cursor: pointer;display: block;width: 100%;margin-bottom: 0;padding: 0.3em;box-sizing: border-box;text-align: center;}#sk-container-id-4 label.sk-toggleable__label-arrow:before {content: \"▸\";float: left;margin-right: 0.25em;color: #696969;}#sk-container-id-4 label.sk-toggleable__label-arrow:hover:before {color: black;}#sk-container-id-4 div.sk-estimator:hover label.sk-toggleable__label-arrow:before {color: black;}#sk-container-id-4 div.sk-toggleable__content {max-height: 0;max-width: 0;overflow: hidden;text-align: left;background-color: #f0f8ff;}#sk-container-id-4 div.sk-toggleable__content pre {margin: 0.2em;color: black;border-radius: 0.25em;background-color: #f0f8ff;}#sk-container-id-4 input.sk-toggleable__control:checked~div.sk-toggleable__content {max-height: 200px;max-width: 100%;overflow: auto;}#sk-container-id-4 input.sk-toggleable__control:checked~label.sk-toggleable__label-arrow:before {content: \"▾\";}#sk-container-id-4 div.sk-estimator input.sk-toggleable__control:checked~label.sk-toggleable__label {background-color: #d4ebff;}#sk-container-id-4 div.sk-label input.sk-toggleable__control:checked~label.sk-toggleable__label {background-color: #d4ebff;}#sk-container-id-4 input.sk-hidden--visually {border: 0;clip: rect(1px 1px 1px 1px);clip: rect(1px, 1px, 1px, 1px);height: 1px;margin: -1px;overflow: hidden;padding: 0;position: absolute;width: 1px;}#sk-container-id-4 div.sk-estimator {font-family: monospace;background-color: #f0f8ff;border: 1px dotted black;border-radius: 0.25em;box-sizing: border-box;margin-bottom: 0.5em;}#sk-container-id-4 div.sk-estimator:hover {background-color: #d4ebff;}#sk-container-id-4 div.sk-parallel-item::after {content: \"\";width: 100%;border-bottom: 1px solid gray;flex-grow: 1;}#sk-container-id-4 div.sk-label:hover label.sk-toggleable__label {background-color: #d4ebff;}#sk-container-id-4 div.sk-serial::before {content: \"\";position: absolute;border-left: 1px solid gray;box-sizing: border-box;top: 0;bottom: 0;left: 50%;z-index: 0;}#sk-container-id-4 div.sk-serial {display: flex;flex-direction: column;align-items: center;background-color: white;padding-right: 0.2em;padding-left: 0.2em;position: relative;}#sk-container-id-4 div.sk-item {position: relative;z-index: 1;}#sk-container-id-4 div.sk-parallel {display: flex;align-items: stretch;justify-content: center;background-color: white;position: relative;}#sk-container-id-4 div.sk-item::before, #sk-container-id-4 div.sk-parallel-item::before {content: \"\";position: absolute;border-left: 1px solid gray;box-sizing: border-box;top: 0;bottom: 0;left: 50%;z-index: -1;}#sk-container-id-4 div.sk-parallel-item {display: flex;flex-direction: column;z-index: 1;position: relative;background-color: white;}#sk-container-id-4 div.sk-parallel-item:first-child::after {align-self: flex-end;width: 50%;}#sk-container-id-4 div.sk-parallel-item:last-child::after {align-self: flex-start;width: 50%;}#sk-container-id-4 div.sk-parallel-item:only-child::after {width: 0;}#sk-container-id-4 div.sk-dashed-wrapped {border: 1px dashed gray;margin: 0 0.4em 0.5em 0.4em;box-sizing: border-box;padding-bottom: 0.4em;background-color: white;}#sk-container-id-4 div.sk-label label {font-family: monospace;font-weight: bold;display: inline-block;line-height: 1.2em;}#sk-container-id-4 div.sk-label-container {text-align: center;}#sk-container-id-4 div.sk-container {/* jupyter's `normalize.less` sets `[hidden] { display: none; }` but bootstrap.min.css set `[hidden] { display: none !important; }` so we also need the `!important` here to be able to override the default hidden behavior on the sphinx rendered scikit-learn.org. See: https://github.com/scikit-learn/scikit-learn/issues/21755 */display: inline-block !important;position: relative;}#sk-container-id-4 div.sk-text-repr-fallback {display: none;}</style><div id=\"sk-container-id-4\" class=\"sk-top-container\"><div class=\"sk-text-repr-fallback\"><pre>SVR()</pre><b>In a Jupyter environment, please rerun this cell to show the HTML representation or trust the notebook. <br />On GitHub, the HTML representation is unable to render, please try loading this page with nbviewer.org.</b></div><div class=\"sk-container\" hidden><div class=\"sk-item\"><div class=\"sk-estimator sk-toggleable\"><input class=\"sk-toggleable__control sk-hidden--visually\" id=\"sk-estimator-id-4\" type=\"checkbox\" checked><label for=\"sk-estimator-id-4\" class=\"sk-toggleable__label sk-toggleable__label-arrow\">SVR</label><div class=\"sk-toggleable__content\"><pre>SVR()</pre></div></div></div></div></div>"
            ]
          },
          "metadata": {},
          "execution_count": 63
        }
      ],
      "source": [
        "model_svr = SVR(kernel='rbf')\n",
        "model_svr.fit(x_train, y_train)"
      ]
    },
    {
      "cell_type": "markdown",
      "metadata": {
        "id": "PKltiKtLKooq"
      },
      "source": [
        "- Model Prediction on test, val (one-step prediction):"
      ]
    },
    {
      "cell_type": "code",
      "execution_count": 64,
      "metadata": {
        "id": "K1zA7Vb-Kooq"
      },
      "outputs": [],
      "source": [
        "y_pred_test = model_svr.predict(x_test)\n",
        "y_pred_val = model_svr.predict(x_val)\n",
        "\n",
        "y_pred_test = scaler.inverse_transform(y_pred_test.reshape(-1, 1))\n",
        "y_pred_val = scaler.inverse_transform(y_pred_val.reshape(-1, 1))"
      ]
    },
    {
      "cell_type": "markdown",
      "metadata": {
        "id": "nENDaRwAKoor"
      },
      "source": [
        "- 30 days prediction:"
      ]
    },
    {
      "cell_type": "code",
      "execution_count": 65,
      "metadata": {
        "id": "Xu7mmOlSKoor"
      },
      "outputs": [],
      "source": [
        "number_of_days_to_predict = 30\n",
        "n_steps = lags\n",
        "\n",
        "x_input = df_price[-number_of_days_to_predict-lags:-number_of_days_to_predict]['Price'].values\n",
        "temp_input = x_input.tolist()\n",
        "\n",
        "ndays_pred = []\n",
        "\n",
        "i = 0\n",
        "while(i < number_of_days_to_predict):\n",
        "    x_input = np.array(temp_input)\n",
        "    x_input = x_input.reshape(1, lags)\n",
        "    y_hat = model_svr.predict(x_input)\n",
        "    temp_input.append(y_hat[0])\n",
        "    temp_input = temp_input[1:]\n",
        "    ndays_pred.append(y_hat[0])\n",
        "    i += 1\n"
      ]
    },
    {
      "cell_type": "code",
      "execution_count": 66,
      "metadata": {
        "colab": {
          "base_uri": "https://localhost:8080/"
        },
        "id": "a8kXuNZqKoos",
        "outputId": "9fa4306d-fa58-4203-e327-e209f95d432f"
      },
      "outputs": [
        {
          "output_type": "execute_result",
          "data": {
            "text/plain": [
              "array([[26826.96918876],\n",
              "       [27286.50128901],\n",
              "       [27700.7534765 ],\n",
              "       [28068.99736885],\n",
              "       [28406.48172399],\n",
              "       [28776.66104362],\n",
              "       [29121.80595042],\n",
              "       [29451.53591389],\n",
              "       [29728.35393326],\n",
              "       [29993.25253506],\n",
              "       [30238.10041218],\n",
              "       [30506.4292355 ],\n",
              "       [30809.52391417],\n",
              "       [31032.10984404],\n",
              "       [31196.04875042],\n",
              "       [31267.84441396],\n",
              "       [31310.96973454],\n",
              "       [31429.68923272],\n",
              "       [31534.62085559],\n",
              "       [31645.52703734],\n",
              "       [31715.08544219],\n",
              "       [31725.57591793],\n",
              "       [31762.15067481],\n",
              "       [31756.3216399 ],\n",
              "       [31765.10985927],\n",
              "       [31813.11436267],\n",
              "       [31843.7017609 ],\n",
              "       [31885.31495643],\n",
              "       [31908.57473134],\n",
              "       [31941.82106304]])"
            ]
          },
          "metadata": {},
          "execution_count": 66
        }
      ],
      "source": [
        "ndays_pred = scaler.inverse_transform(np.array(ndays_pred).reshape(-1, 1))\n",
        "ndays_pred"
      ]
    },
    {
      "cell_type": "markdown",
      "metadata": {
        "id": "eW712rMgKoot"
      },
      "source": [
        "- Model evaluating (RMSE - MAPE - MSLE):"
      ]
    },
    {
      "cell_type": "code",
      "execution_count": 67,
      "metadata": {
        "colab": {
          "base_uri": "https://localhost:8080/"
        },
        "id": "UK7nqSISKoot",
        "outputId": "8dd1cc3b-c524-4a86-c2da-d98f17b38f8a"
      },
      "outputs": [
        {
          "output_type": "stream",
          "name": "stdout",
          "text": [
            "Testing RMSE: 29077.268\n",
            "Validating RMSE: 24012.1691\n",
            "Predicting 30 days RMSE: 30520.1915\n",
            "\n",
            "Testing MAPE: 1.0\n",
            "Validating MAPE: 1.0\n",
            "Predicting 30 days MAPE: 1.0\n",
            "\n",
            "Testing MSLE: 98.0387\n",
            "Validating MSLE: 95.293\n",
            "Predicting 30 days MSLE: 98.6617\n"
          ]
        }
      ],
      "source": [
        "last_ndays_data = df_price[-number_of_days_to_predict:]['Price'].values\n",
        "\n",
        "# RMSE\n",
        "test_rmse = mean_squared_error(y_pred_test, y_test, squared=False)\n",
        "val_rmse = mean_squared_error(y_pred_val, y_val, squared=False)\n",
        "ndays_rmse = mean_squared_error(ndays_pred, last_ndays_data, squared=False)\n",
        "print('Testing RMSE:', np.round(test_rmse, 4))\n",
        "print('Validating RMSE:', np.round(val_rmse, 4))\n",
        "print('Predicting {0} days RMSE:'.format(number_of_days_to_predict), np.round(ndays_rmse, 4))\n",
        "\n",
        "# MAPE\n",
        "test_mape = mean_absolute_percentage_error(y_pred_test, y_test)\n",
        "val_mape = mean_absolute_percentage_error(y_pred_val, y_val)\n",
        "ndays_mape = mean_absolute_percentage_error(ndays_pred, last_ndays_data)\n",
        "print('\\nTesting MAPE:', np.round(test_mape, 4))\n",
        "print('Validating MAPE:', np.round(val_mape, 4))\n",
        "print('Predicting {0} days MAPE:'.format(number_of_days_to_predict), np.round(ndays_mape, 4))\n",
        "\n",
        "# MSLE\n",
        "test_msle = mean_squared_log_error(y_pred_test, y_test)\n",
        "val_msle = mean_squared_log_error(y_pred_val, y_val)\n",
        "ndays_msle = mean_squared_log_error(ndays_pred, last_ndays_data)\n",
        "print('\\nTesting MSLE:', np.round(test_msle, 4))\n",
        "print('Validating MSLE:', np.round(val_msle, 4))\n",
        "print('Predicting {0} days MSLE:'.format(number_of_days_to_predict), np.round(ndays_msle, 4))\n"
      ]
    },
    {
      "cell_type": "markdown",
      "metadata": {
        "id": "U8FC8r0kKoou"
      },
      "source": [
        "- Prediction plotting:"
      ]
    },
    {
      "cell_type": "code",
      "execution_count": 68,
      "metadata": {
        "colab": {
          "base_uri": "https://localhost:8080/",
          "height": 468
        },
        "id": "-V2IBJuPKoou",
        "outputId": "e4f8e44f-a4b8-4cea-c22e-8febb8a31efb"
      },
      "outputs": [
        {
          "output_type": "display_data",
          "data": {
            "text/plain": [
              "<Figure size 1500x500 with 1 Axes>"
            ],
            "image/png": "[encoded data removed]"
          },
          "metadata": {}
        }
      ],
      "source": [
        "plt.figure(figsize=(15,5))\n",
        "\n",
        "train_data_index = pd.RangeIndex(start=0, stop=train_size, step=1)\n",
        "plt.plot(scaler.inverse_transform(train_data), c='b')\n",
        "\n",
        "test_data_index = pd.RangeIndex(start=train_size, stop=train_size+test_size, step=1)\n",
        "plt.plot(test_data_index, scaler.inverse_transform(test_data), 'orange')\n",
        "\n",
        "test_data_index = pd.RangeIndex(start=train_size + lags + 1, stop=train_size+test_size, step=1)\n",
        "plt.plot(test_data_index, (y_pred_test), 'green')\n",
        "\n",
        "val_data_index = pd.RangeIndex(start=train_size+test_size, stop=train_size+test_size+val_size, step=1)\n",
        "plt.plot(val_data_index, scaler.inverse_transform(val_data), 'gray')\n",
        "\n",
        "val_data_index = pd.RangeIndex(start=train_size+test_size + lags + 1, stop=train_size+test_size+val_size, step=1)\n",
        "plt.plot(val_data_index, y_pred_val, 'purple')\n",
        "\n",
        "prediect_data_index = pd.RangeIndex(start=len(df_price)-number_of_days_to_predict, stop=len(df_price), step=1)\n",
        "plt.plot(prediect_data_index, ndays_pred, 'red')\n",
        "\n",
        "plt.legend(['Train data', 'Test data', 'Test prediction', 'Val data', 'Val prediction', '{0} days prediction'.format(number_of_days_to_predict)], loc='upper left')\n",
        "plt.title('FTS - Prediction plotting')\n",
        "plt.show()"
      ]
    },
    {
      "cell_type": "markdown",
      "metadata": {
        "id": "xx5DTVmVKoov"
      },
      "source": [
        "### Dataset 2: MWG"
      ]
    },
    {
      "cell_type": "code",
      "execution_count": 69,
      "metadata": {
        "colab": {
          "base_uri": "https://localhost:8080/",
          "height": 206
        },
        "id": "gdsxUEDBKoov",
        "outputId": "b3e6894f-9378-4e67-a8b7-bd333bfff3c7"
      },
      "outputs": [
        {
          "output_type": "execute_result",
          "data": {
            "text/plain": [
              "           Date  Price   Open   High    Low   Vol.  Change %\n",
              "1359 2018-01-02  31276  31039  31394  31039  2.27M      0.01\n",
              "1358 2018-01-03  31892  31323  32034  31276  4.53M      0.02\n",
              "1357 2018-01-04  31963  31773  32081  31750  2.71M      0.00\n",
              "1356 2018-01-05  31608  31987  31987  31465  2.93M     -0.01\n",
              "1355 2018-01-08  31110  31394  31513  31039  3.01M     -0.02"
            ],
            "text/html": [
              "\n",
              "  <div id=\"df-91504b18-80ee-412a-8031-dd24f6be8115\">\n",
              "    <div class=\"colab-df-container\">\n",
              "      <div>\n",
              "<style scoped>\n",
              "    .dataframe tbody tr th:only-of-type {\n",
              "        vertical-align: middle;\n",
              "    }\n",
              "\n",
              "    .dataframe tbody tr th {\n",
              "        vertical-align: top;\n",
              "    }\n",
              "\n",
              "    .dataframe thead th {\n",
              "        text-align: right;\n",
              "    }\n",
              "</style>\n",
              "<table border=\"1\" class=\"dataframe\">\n",
              "  <thead>\n",
              "    <tr style=\"text-align: right;\">\n",
              "      <th></th>\n",
              "      <th>Date</th>\n",
              "      <th>Price</th>\n",
              "      <th>Open</th>\n",
              "      <th>High</th>\n",
              "      <th>Low</th>\n",
              "      <th>Vol.</th>\n",
              "      <th>Change %</th>\n",
              "    </tr>\n",
              "  </thead>\n",
              "  <tbody>\n",
              "    <tr>\n",
              "      <th>1359</th>\n",
              "      <td>2018-01-02</td>\n",
              "      <td>31276</td>\n",
              "      <td>31039</td>\n",
              "      <td>31394</td>\n",
              "      <td>31039</td>\n",
              "      <td>2.27M</td>\n",
              "      <td>0.01</td>\n",
              "    </tr>\n",
              "    <tr>\n",
              "      <th>1358</th>\n",
              "      <td>2018-01-03</td>\n",
              "      <td>31892</td>\n",
              "      <td>31323</td>\n",
              "      <td>32034</td>\n",
              "      <td>31276</td>\n",
              "      <td>4.53M</td>\n",
              "      <td>0.02</td>\n",
              "    </tr>\n",
              "    <tr>\n",
              "      <th>1357</th>\n",
              "      <td>2018-01-04</td>\n",
              "      <td>31963</td>\n",
              "      <td>31773</td>\n",
              "      <td>32081</td>\n",
              "      <td>31750</td>\n",
              "      <td>2.71M</td>\n",
              "      <td>0.00</td>\n",
              "    </tr>\n",
              "    <tr>\n",
              "      <th>1356</th>\n",
              "      <td>2018-01-05</td>\n",
              "      <td>31608</td>\n",
              "      <td>31987</td>\n",
              "      <td>31987</td>\n",
              "      <td>31465</td>\n",
              "      <td>2.93M</td>\n",
              "      <td>-0.01</td>\n",
              "    </tr>\n",
              "    <tr>\n",
              "      <th>1355</th>\n",
              "      <td>2018-01-08</td>\n",
              "      <td>31110</td>\n",
              "      <td>31394</td>\n",
              "      <td>31513</td>\n",
              "      <td>31039</td>\n",
              "      <td>3.01M</td>\n",
              "      <td>-0.02</td>\n",
              "    </tr>\n",
              "  </tbody>\n",
              "</table>\n",
              "</div>\n",
              "      <button class=\"colab-df-convert\" onclick=\"convertToInteractive('df-91504b18-80ee-412a-8031-dd24f6be8115')\"\n",
              "              title=\"Convert this dataframe to an interactive table.\"\n",
              "              style=\"display:none;\">\n",
              "        \n",
              "  <svg xmlns=\"http://www.w3.org/2000/svg\" height=\"24px\"viewBox=\"0 0 24 24\"\n",
              "       width=\"24px\">\n",
              "    <path d=\"M0 0h24v24H0V0z\" fill=\"none\"/>\n",
              "    <path d=\"M18.56 5.44l.94 2.06.94-2.06 2.06-.94-2.06-.94-.94-2.06-.94 2.06-2.06.94zm-11 1L8.5 8.5l.94-2.06 2.06-.94-2.06-.94L8.5 2.5l-.94 2.06-2.06.94zm10 10l.94 2.06.94-2.06 2.06-.94-2.06-.94-.94-2.06-.94 2.06-2.06.94z\"/><path d=\"M17.41 7.96l-1.37-1.37c-.4-.4-.92-.59-1.43-.59-.52 0-1.04.2-1.43.59L10.3 9.45l-7.72 7.72c-.78.78-.78 2.05 0 2.83L4 21.41c.39.39.9.59 1.41.59.51 0 1.02-.2 1.41-.59l7.78-7.78 2.81-2.81c.8-.78.8-2.07 0-2.86zM5.41 20L4 18.59l7.72-7.72 1.47 1.35L5.41 20z\"/>\n",
              "  </svg>\n",
              "      </button>\n",
              "      \n",
              "  <style>\n",
              "    .colab-df-container {\n",
              "      display:flex;\n",
              "      flex-wrap:wrap;\n",
              "      gap: 12px;\n",
              "    }\n",
              "\n",
              "    .colab-df-convert {\n",
              "      background-color: #E8F0FE;\n",
              "      border: none;\n",
              "      border-radius: 50%;\n",
              "      cursor: pointer;\n",
              "      display: none;\n",
              "      fill: #1967D2;\n",
              "      height: 32px;\n",
              "      padding: 0 0 0 0;\n",
              "      width: 32px;\n",
              "    }\n",
              "\n",
              "    .colab-df-convert:hover {\n",
              "      background-color: #E2EBFA;\n",
              "      box-shadow: 0px 1px 2px rgba(60, 64, 67, 0.3), 0px 1px 3px 1px rgba(60, 64, 67, 0.15);\n",
              "      fill: #174EA6;\n",
              "    }\n",
              "\n",
              "    [theme=dark] .colab-df-convert {\n",
              "      background-color: #3B4455;\n",
              "      fill: #D2E3FC;\n",
              "    }\n",
              "\n",
              "    [theme=dark] .colab-df-convert:hover {\n",
              "      background-color: #434B5C;\n",
              "      box-shadow: 0px 1px 3px 1px rgba(0, 0, 0, 0.15);\n",
              "      filter: drop-shadow(0px 1px 2px rgba(0, 0, 0, 0.3));\n",
              "      fill: #FFFFFF;\n",
              "    }\n",
              "  </style>\n",
              "\n",
              "      <script>\n",
              "        const buttonEl =\n",
              "          document.querySelector('#df-91504b18-80ee-412a-8031-dd24f6be8115 button.colab-df-convert');\n",
              "        buttonEl.style.display =\n",
              "          google.colab.kernel.accessAllowed ? 'block' : 'none';\n",
              "\n",
              "        async function convertToInteractive(key) {\n",
              "          const element = document.querySelector('#df-91504b18-80ee-412a-8031-dd24f6be8115');\n",
              "          const dataTable =\n",
              "            await google.colab.kernel.invokeFunction('convertToInteractive',\n",
              "                                                     [key], {});\n",
              "          if (!dataTable) return;\n",
              "\n",
              "          const docLinkHtml = 'Like what you see? Visit the ' +\n",
              "            '<a target=\"_blank\" href=https://colab.research.google.com/notebooks/data_table.ipynb>data table notebook</a>'\n",
              "            + ' to learn more about interactive tables.';\n",
              "          element.innerHTML = '';\n",
              "          dataTable['output_type'] = 'display_data';\n",
              "          await google.colab.output.renderOutput(dataTable, element);\n",
              "          const docLink = document.createElement('div');\n",
              "          docLink.innerHTML = docLinkHtml;\n",
              "          element.appendChild(docLink);\n",
              "        }\n",
              "      </script>\n",
              "    </div>\n",
              "  </div>\n",
              "  "
            ]
          },
          "metadata": {},
          "execution_count": 69
        }
      ],
      "source": [
        "df_mwg['Date'] = pd.to_datetime(df_mwg['Date'])\n",
        "df_mwg = df_mwg.sort_values(by='Date', ascending=True)\n",
        "df_mwg.head(5)"
      ]
    },
    {
      "cell_type": "markdown",
      "metadata": {
        "id": "AV2XUsf4Koow"
      },
      "source": [
        "- Split Price data\n",
        "- Reset index"
      ]
    },
    {
      "cell_type": "code",
      "execution_count": 70,
      "metadata": {
        "colab": {
          "base_uri": "https://localhost:8080/",
          "height": 206
        },
        "id": "vSnJHeUWKoow",
        "outputId": "9f1320d5-72ac-451a-b0e4-0c4e0122ff6f"
      },
      "outputs": [
        {
          "output_type": "execute_result",
          "data": {
            "text/plain": [
              "   Price\n",
              "0  31276\n",
              "1  31892\n",
              "2  31963\n",
              "3  31608\n",
              "4  31110"
            ],
            "text/html": [
              "\n",
              "  <div id=\"df-95a35af1-aab2-49f6-a9ea-0ab3ff3a7d7f\">\n",
              "    <div class=\"colab-df-container\">\n",
              "      <div>\n",
              "<style scoped>\n",
              "    .dataframe tbody tr th:only-of-type {\n",
              "        vertical-align: middle;\n",
              "    }\n",
              "\n",
              "    .dataframe tbody tr th {\n",
              "        vertical-align: top;\n",
              "    }\n",
              "\n",
              "    .dataframe thead th {\n",
              "        text-align: right;\n",
              "    }\n",
              "</style>\n",
              "<table border=\"1\" class=\"dataframe\">\n",
              "  <thead>\n",
              "    <tr style=\"text-align: right;\">\n",
              "      <th></th>\n",
              "      <th>Price</th>\n",
              "    </tr>\n",
              "  </thead>\n",
              "  <tbody>\n",
              "    <tr>\n",
              "      <th>0</th>\n",
              "      <td>31276</td>\n",
              "    </tr>\n",
              "    <tr>\n",
              "      <th>1</th>\n",
              "      <td>31892</td>\n",
              "    </tr>\n",
              "    <tr>\n",
              "      <th>2</th>\n",
              "      <td>31963</td>\n",
              "    </tr>\n",
              "    <tr>\n",
              "      <th>3</th>\n",
              "      <td>31608</td>\n",
              "    </tr>\n",
              "    <tr>\n",
              "      <th>4</th>\n",
              "      <td>31110</td>\n",
              "    </tr>\n",
              "  </tbody>\n",
              "</table>\n",
              "</div>\n",
              "      <button class=\"colab-df-convert\" onclick=\"convertToInteractive('df-95a35af1-aab2-49f6-a9ea-0ab3ff3a7d7f')\"\n",
              "              title=\"Convert this dataframe to an interactive table.\"\n",
              "              style=\"display:none;\">\n",
              "        \n",
              "  <svg xmlns=\"http://www.w3.org/2000/svg\" height=\"24px\"viewBox=\"0 0 24 24\"\n",
              "       width=\"24px\">\n",
              "    <path d=\"M0 0h24v24H0V0z\" fill=\"none\"/>\n",
              "    <path d=\"M18.56 5.44l.94 2.06.94-2.06 2.06-.94-2.06-.94-.94-2.06-.94 2.06-2.06.94zm-11 1L8.5 8.5l.94-2.06 2.06-.94-2.06-.94L8.5 2.5l-.94 2.06-2.06.94zm10 10l.94 2.06.94-2.06 2.06-.94-2.06-.94-.94-2.06-.94 2.06-2.06.94z\"/><path d=\"M17.41 7.96l-1.37-1.37c-.4-.4-.92-.59-1.43-.59-.52 0-1.04.2-1.43.59L10.3 9.45l-7.72 7.72c-.78.78-.78 2.05 0 2.83L4 21.41c.39.39.9.59 1.41.59.51 0 1.02-.2 1.41-.59l7.78-7.78 2.81-2.81c.8-.78.8-2.07 0-2.86zM5.41 20L4 18.59l7.72-7.72 1.47 1.35L5.41 20z\"/>\n",
              "  </svg>\n",
              "      </button>\n",
              "      \n",
              "  <style>\n",
              "    .colab-df-container {\n",
              "      display:flex;\n",
              "      flex-wrap:wrap;\n",
              "      gap: 12px;\n",
              "    }\n",
              "\n",
              "    .colab-df-convert {\n",
              "      background-color: #E8F0FE;\n",
              "      border: none;\n",
              "      border-radius: 50%;\n",
              "      cursor: pointer;\n",
              "      display: none;\n",
              "      fill: #1967D2;\n",
              "      height: 32px;\n",
              "      padding: 0 0 0 0;\n",
              "      width: 32px;\n",
              "    }\n",
              "\n",
              "    .colab-df-convert:hover {\n",
              "      background-color: #E2EBFA;\n",
              "      box-shadow: 0px 1px 2px rgba(60, 64, 67, 0.3), 0px 1px 3px 1px rgba(60, 64, 67, 0.15);\n",
              "      fill: #174EA6;\n",
              "    }\n",
              "\n",
              "    [theme=dark] .colab-df-convert {\n",
              "      background-color: #3B4455;\n",
              "      fill: #D2E3FC;\n",
              "    }\n",
              "\n",
              "    [theme=dark] .colab-df-convert:hover {\n",
              "      background-color: #434B5C;\n",
              "      box-shadow: 0px 1px 3px 1px rgba(0, 0, 0, 0.15);\n",
              "      filter: drop-shadow(0px 1px 2px rgba(0, 0, 0, 0.3));\n",
              "      fill: #FFFFFF;\n",
              "    }\n",
              "  </style>\n",
              "\n",
              "      <script>\n",
              "        const buttonEl =\n",
              "          document.querySelector('#df-95a35af1-aab2-49f6-a9ea-0ab3ff3a7d7f button.colab-df-convert');\n",
              "        buttonEl.style.display =\n",
              "          google.colab.kernel.accessAllowed ? 'block' : 'none';\n",
              "\n",
              "        async function convertToInteractive(key) {\n",
              "          const element = document.querySelector('#df-95a35af1-aab2-49f6-a9ea-0ab3ff3a7d7f');\n",
              "          const dataTable =\n",
              "            await google.colab.kernel.invokeFunction('convertToInteractive',\n",
              "                                                     [key], {});\n",
              "          if (!dataTable) return;\n",
              "\n",
              "          const docLinkHtml = 'Like what you see? Visit the ' +\n",
              "            '<a target=\"_blank\" href=https://colab.research.google.com/notebooks/data_table.ipynb>data table notebook</a>'\n",
              "            + ' to learn more about interactive tables.';\n",
              "          element.innerHTML = '';\n",
              "          dataTable['output_type'] = 'display_data';\n",
              "          await google.colab.output.renderOutput(dataTable, element);\n",
              "          const docLink = document.createElement('div');\n",
              "          docLink.innerHTML = docLinkHtml;\n",
              "          element.appendChild(docLink);\n",
              "        }\n",
              "      </script>\n",
              "    </div>\n",
              "  </div>\n",
              "  "
            ]
          },
          "metadata": {},
          "execution_count": 70
        }
      ],
      "source": [
        "df_price = df_mwg[['Price']]\n",
        "df_price = df_price.reset_index(drop=True)\n",
        "df_price.head(5)"
      ]
    },
    {
      "cell_type": "markdown",
      "metadata": {
        "id": "J3XkCw0iKoow"
      },
      "source": [
        "- Scale data between 0 and 1:"
      ]
    },
    {
      "cell_type": "code",
      "execution_count": 71,
      "metadata": {
        "colab": {
          "base_uri": "https://localhost:8080/",
          "height": 206
        },
        "id": "C11xoL2OKoow",
        "outputId": "bf051f7c-6b0d-4dd4-e39b-4c6d885a85b1"
      },
      "outputs": [
        {
          "output_type": "execute_result",
          "data": {
            "text/plain": [
              "      Price\n",
              "0  0.200020\n",
              "1  0.210221\n",
              "2  0.211397\n",
              "3  0.205518\n",
              "4  0.197271"
            ],
            "text/html": [
              "\n",
              "  <div id=\"df-ec83afdd-8611-4b65-8caf-9cd6c7af76b6\">\n",
              "    <div class=\"colab-df-container\">\n",
              "      <div>\n",
              "<style scoped>\n",
              "    .dataframe tbody tr th:only-of-type {\n",
              "        vertical-align: middle;\n",
              "    }\n",
              "\n",
              "    .dataframe tbody tr th {\n",
              "        vertical-align: top;\n",
              "    }\n",
              "\n",
              "    .dataframe thead th {\n",
              "        text-align: right;\n",
              "    }\n",
              "</style>\n",
              "<table border=\"1\" class=\"dataframe\">\n",
              "  <thead>\n",
              "    <tr style=\"text-align: right;\">\n",
              "      <th></th>\n",
              "      <th>Price</th>\n",
              "    </tr>\n",
              "  </thead>\n",
              "  <tbody>\n",
              "    <tr>\n",
              "      <th>0</th>\n",
              "      <td>0.200020</td>\n",
              "    </tr>\n",
              "    <tr>\n",
              "      <th>1</th>\n",
              "      <td>0.210221</td>\n",
              "    </tr>\n",
              "    <tr>\n",
              "      <th>2</th>\n",
              "      <td>0.211397</td>\n",
              "    </tr>\n",
              "    <tr>\n",
              "      <th>3</th>\n",
              "      <td>0.205518</td>\n",
              "    </tr>\n",
              "    <tr>\n",
              "      <th>4</th>\n",
              "      <td>0.197271</td>\n",
              "    </tr>\n",
              "  </tbody>\n",
              "</table>\n",
              "</div>\n",
              "      <button class=\"colab-df-convert\" onclick=\"convertToInteractive('df-ec83afdd-8611-4b65-8caf-9cd6c7af76b6')\"\n",
              "              title=\"Convert this dataframe to an interactive table.\"\n",
              "              style=\"display:none;\">\n",
              "        \n",
              "  <svg xmlns=\"http://www.w3.org/2000/svg\" height=\"24px\"viewBox=\"0 0 24 24\"\n",
              "       width=\"24px\">\n",
              "    <path d=\"M0 0h24v24H0V0z\" fill=\"none\"/>\n",
              "    <path d=\"M18.56 5.44l.94 2.06.94-2.06 2.06-.94-2.06-.94-.94-2.06-.94 2.06-2.06.94zm-11 1L8.5 8.5l.94-2.06 2.06-.94-2.06-.94L8.5 2.5l-.94 2.06-2.06.94zm10 10l.94 2.06.94-2.06 2.06-.94-2.06-.94-.94-2.06-.94 2.06-2.06.94z\"/><path d=\"M17.41 7.96l-1.37-1.37c-.4-.4-.92-.59-1.43-.59-.52 0-1.04.2-1.43.59L10.3 9.45l-7.72 7.72c-.78.78-.78 2.05 0 2.83L4 21.41c.39.39.9.59 1.41.59.51 0 1.02-.2 1.41-.59l7.78-7.78 2.81-2.81c.8-.78.8-2.07 0-2.86zM5.41 20L4 18.59l7.72-7.72 1.47 1.35L5.41 20z\"/>\n",
              "  </svg>\n",
              "      </button>\n",
              "      \n",
              "  <style>\n",
              "    .colab-df-container {\n",
              "      display:flex;\n",
              "      flex-wrap:wrap;\n",
              "      gap: 12px;\n",
              "    }\n",
              "\n",
              "    .colab-df-convert {\n",
              "      background-color: #E8F0FE;\n",
              "      border: none;\n",
              "      border-radius: 50%;\n",
              "      cursor: pointer;\n",
              "      display: none;\n",
              "      fill: #1967D2;\n",
              "      height: 32px;\n",
              "      padding: 0 0 0 0;\n",
              "      width: 32px;\n",
              "    }\n",
              "\n",
              "    .colab-df-convert:hover {\n",
              "      background-color: #E2EBFA;\n",
              "      box-shadow: 0px 1px 2px rgba(60, 64, 67, 0.3), 0px 1px 3px 1px rgba(60, 64, 67, 0.15);\n",
              "      fill: #174EA6;\n",
              "    }\n",
              "\n",
              "    [theme=dark] .colab-df-convert {\n",
              "      background-color: #3B4455;\n",
              "      fill: #D2E3FC;\n",
              "    }\n",
              "\n",
              "    [theme=dark] .colab-df-convert:hover {\n",
              "      background-color: #434B5C;\n",
              "      box-shadow: 0px 1px 3px 1px rgba(0, 0, 0, 0.15);\n",
              "      filter: drop-shadow(0px 1px 2px rgba(0, 0, 0, 0.3));\n",
              "      fill: #FFFFFF;\n",
              "    }\n",
              "  </style>\n",
              "\n",
              "      <script>\n",
              "        const buttonEl =\n",
              "          document.querySelector('#df-ec83afdd-8611-4b65-8caf-9cd6c7af76b6 button.colab-df-convert');\n",
              "        buttonEl.style.display =\n",
              "          google.colab.kernel.accessAllowed ? 'block' : 'none';\n",
              "\n",
              "        async function convertToInteractive(key) {\n",
              "          const element = document.querySelector('#df-ec83afdd-8611-4b65-8caf-9cd6c7af76b6');\n",
              "          const dataTable =\n",
              "            await google.colab.kernel.invokeFunction('convertToInteractive',\n",
              "                                                     [key], {});\n",
              "          if (!dataTable) return;\n",
              "\n",
              "          const docLinkHtml = 'Like what you see? Visit the ' +\n",
              "            '<a target=\"_blank\" href=https://colab.research.google.com/notebooks/data_table.ipynb>data table notebook</a>'\n",
              "            + ' to learn more about interactive tables.';\n",
              "          element.innerHTML = '';\n",
              "          dataTable['output_type'] = 'display_data';\n",
              "          await google.colab.output.renderOutput(dataTable, element);\n",
              "          const docLink = document.createElement('div');\n",
              "          docLink.innerHTML = docLinkHtml;\n",
              "          element.appendChild(docLink);\n",
              "        }\n",
              "      </script>\n",
              "    </div>\n",
              "  </div>\n",
              "  "
            ]
          },
          "metadata": {},
          "execution_count": 71
        }
      ],
      "source": [
        "scaler = MinMaxScaler(feature_range=(0, 1))\n",
        "df_price['Price'] = scaler.fit_transform(np.array(df_price['Price']).reshape(-1,1))\n",
        "df_price.head(5)"
      ]
    },
    {
      "cell_type": "markdown",
      "metadata": {
        "id": "54MpFmm5Koox"
      },
      "source": [
        "- Split data into train, test, val (7 - 2 - 1):"
      ]
    },
    {
      "cell_type": "code",
      "execution_count": 72,
      "metadata": {
        "colab": {
          "base_uri": "https://localhost:8080/"
        },
        "id": "RIqqGiCPKoox",
        "outputId": "bceb4e6b-5454-43fd-dd63-37a2ab852cd4"
      },
      "outputs": [
        {
          "output_type": "stream",
          "name": "stdout",
          "text": [
            "(1088, 1)\n",
            "(136, 1)\n",
            "(136, 1)\n"
          ]
        }
      ],
      "source": [
        "train_size = int(0.8 * len(df_price))\n",
        "test_size = int(0.1 * len(df_price))\n",
        "val_size = len(df_price) - train_size - test_size\n",
        "\n",
        "train_data = df_price[:train_size]\n",
        "test_data = df_price[train_size:train_size+test_size]\n",
        "val_data = df_price[train_size+test_size:]\n",
        "\n",
        "print(train_data.shape)\n",
        "print(test_data.shape)\n",
        "print(val_data.shape)"
      ]
    },
    {
      "cell_type": "code",
      "execution_count": 73,
      "metadata": {
        "colab": {
          "base_uri": "https://localhost:8080/",
          "height": 468
        },
        "id": "ZZOSmzUEKoox",
        "outputId": "6e1bcc9f-2a9d-42eb-fab9-e09aee8f6acd"
      },
      "outputs": [
        {
          "output_type": "display_data",
          "data": {
            "text/plain": [
              "<Figure size 1500x500 with 1 Axes>"
            ],
            "image/png": "[encoded data removed]"
          },
          "metadata": {}
        }
      ],
      "source": [
        "plt.figure(figsize=(15,5))\n",
        "plt.plot(train_data.index, train_data['Price'], 'b')\n",
        "plt.plot(test_data.index, test_data['Price'], 'orange')\n",
        "plt.plot(val_data.index, val_data['Price'], 'gray')\n",
        "plt.legend(['Train data', 'Test data', 'Val data'], loc='upper left')\n",
        "plt.title('MWG - Data after split into train, test, val')\n",
        "plt.show()"
      ]
    },
    {
      "cell_type": "markdown",
      "metadata": {
        "id": "ldsi_EGnKoox"
      },
      "source": [
        "- Prepare x, y data:"
      ]
    },
    {
      "cell_type": "code",
      "execution_count": 74,
      "metadata": {
        "id": "RfVIpyKbKooy"
      },
      "outputs": [],
      "source": [
        "def make_lags_data(dataset, lags=1):\n",
        "\tdataX, dataY = [], []\n",
        "\tfor i in range(len(dataset) - lags - 1):\n",
        "\t\ta = dataset[i:(i + lags)]\n",
        "\t\tdataX.append(a)\n",
        "\t\tdataY.append(dataset[i + lags])\n",
        "\treturn np.array(dataX), np.array(dataY)"
      ]
    },
    {
      "cell_type": "code",
      "execution_count": 75,
      "metadata": {
        "id": "EpwCw39kKoo3"
      },
      "outputs": [],
      "source": [
        "lags = 30\n",
        "\n",
        "x_train, y_train = make_lags_data(train_data['Price'].values, lags=lags)\n",
        "\n",
        "x_test, y_test = make_lags_data(test_data['Price'].values, lags=lags)\n",
        "\n",
        "x_val, y_val = make_lags_data(val_data['Price'].values, lags=lags)"
      ]
    },
    {
      "cell_type": "markdown",
      "metadata": {
        "id": "YuStxrXDKoo3"
      },
      "source": [
        "- Model training:"
      ]
    },
    {
      "cell_type": "code",
      "execution_count": 76,
      "metadata": {
        "colab": {
          "base_uri": "https://localhost:8080/",
          "height": 75
        },
        "id": "6XlGiuk6Koo4",
        "outputId": "bb9e769c-34d6-4387-8a8b-ea6031cdfcab"
      },
      "outputs": [
        {
          "output_type": "execute_result",
          "data": {
            "text/plain": [
              "SVR()"
            ],
            "text/html": [
              "<style>#sk-container-id-5 {color: black;background-color: white;}#sk-container-id-5 pre{padding: 0;}#sk-container-id-5 div.sk-toggleable {background-color: white;}#sk-container-id-5 label.sk-toggleable__label {cursor: pointer;display: block;width: 100%;margin-bottom: 0;padding: 0.3em;box-sizing: border-box;text-align: center;}#sk-container-id-5 label.sk-toggleable__label-arrow:before {content: \"▸\";float: left;margin-right: 0.25em;color: #696969;}#sk-container-id-5 label.sk-toggleable__label-arrow:hover:before {color: black;}#sk-container-id-5 div.sk-estimator:hover label.sk-toggleable__label-arrow:before {color: black;}#sk-container-id-5 div.sk-toggleable__content {max-height: 0;max-width: 0;overflow: hidden;text-align: left;background-color: #f0f8ff;}#sk-container-id-5 div.sk-toggleable__content pre {margin: 0.2em;color: black;border-radius: 0.25em;background-color: #f0f8ff;}#sk-container-id-5 input.sk-toggleable__control:checked~div.sk-toggleable__content {max-height: 200px;max-width: 100%;overflow: auto;}#sk-container-id-5 input.sk-toggleable__control:checked~label.sk-toggleable__label-arrow:before {content: \"▾\";}#sk-container-id-5 div.sk-estimator input.sk-toggleable__control:checked~label.sk-toggleable__label {background-color: #d4ebff;}#sk-container-id-5 div.sk-label input.sk-toggleable__control:checked~label.sk-toggleable__label {background-color: #d4ebff;}#sk-container-id-5 input.sk-hidden--visually {border: 0;clip: rect(1px 1px 1px 1px);clip: rect(1px, 1px, 1px, 1px);height: 1px;margin: -1px;overflow: hidden;padding: 0;position: absolute;width: 1px;}#sk-container-id-5 div.sk-estimator {font-family: monospace;background-color: #f0f8ff;border: 1px dotted black;border-radius: 0.25em;box-sizing: border-box;margin-bottom: 0.5em;}#sk-container-id-5 div.sk-estimator:hover {background-color: #d4ebff;}#sk-container-id-5 div.sk-parallel-item::after {content: \"\";width: 100%;border-bottom: 1px solid gray;flex-grow: 1;}#sk-container-id-5 div.sk-label:hover label.sk-toggleable__label {background-color: #d4ebff;}#sk-container-id-5 div.sk-serial::before {content: \"\";position: absolute;border-left: 1px solid gray;box-sizing: border-box;top: 0;bottom: 0;left: 50%;z-index: 0;}#sk-container-id-5 div.sk-serial {display: flex;flex-direction: column;align-items: center;background-color: white;padding-right: 0.2em;padding-left: 0.2em;position: relative;}#sk-container-id-5 div.sk-item {position: relative;z-index: 1;}#sk-container-id-5 div.sk-parallel {display: flex;align-items: stretch;justify-content: center;background-color: white;position: relative;}#sk-container-id-5 div.sk-item::before, #sk-container-id-5 div.sk-parallel-item::before {content: \"\";position: absolute;border-left: 1px solid gray;box-sizing: border-box;top: 0;bottom: 0;left: 50%;z-index: -1;}#sk-container-id-5 div.sk-parallel-item {display: flex;flex-direction: column;z-index: 1;position: relative;background-color: white;}#sk-container-id-5 div.sk-parallel-item:first-child::after {align-self: flex-end;width: 50%;}#sk-container-id-5 div.sk-parallel-item:last-child::after {align-self: flex-start;width: 50%;}#sk-container-id-5 div.sk-parallel-item:only-child::after {width: 0;}#sk-container-id-5 div.sk-dashed-wrapped {border: 1px dashed gray;margin: 0 0.4em 0.5em 0.4em;box-sizing: border-box;padding-bottom: 0.4em;background-color: white;}#sk-container-id-5 div.sk-label label {font-family: monospace;font-weight: bold;display: inline-block;line-height: 1.2em;}#sk-container-id-5 div.sk-label-container {text-align: center;}#sk-container-id-5 div.sk-container {/* jupyter's `normalize.less` sets `[hidden] { display: none; }` but bootstrap.min.css set `[hidden] { display: none !important; }` so we also need the `!important` here to be able to override the default hidden behavior on the sphinx rendered scikit-learn.org. See: https://github.com/scikit-learn/scikit-learn/issues/21755 */display: inline-block !important;position: relative;}#sk-container-id-5 div.sk-text-repr-fallback {display: none;}</style><div id=\"sk-container-id-5\" class=\"sk-top-container\"><div class=\"sk-text-repr-fallback\"><pre>SVR()</pre><b>In a Jupyter environment, please rerun this cell to show the HTML representation or trust the notebook. <br />On GitHub, the HTML representation is unable to render, please try loading this page with nbviewer.org.</b></div><div class=\"sk-container\" hidden><div class=\"sk-item\"><div class=\"sk-estimator sk-toggleable\"><input class=\"sk-toggleable__control sk-hidden--visually\" id=\"sk-estimator-id-5\" type=\"checkbox\" checked><label for=\"sk-estimator-id-5\" class=\"sk-toggleable__label sk-toggleable__label-arrow\">SVR</label><div class=\"sk-toggleable__content\"><pre>SVR()</pre></div></div></div></div></div>"
            ]
          },
          "metadata": {},
          "execution_count": 76
        }
      ],
      "source": [
        "model_svr = SVR(kernel='rbf')\n",
        "model_svr.fit(x_train, y_train)"
      ]
    },
    {
      "cell_type": "markdown",
      "metadata": {
        "id": "jtyk-HraKoo4"
      },
      "source": [
        "- Model Prediction on test, val (one-step prediction):"
      ]
    },
    {
      "cell_type": "code",
      "execution_count": 77,
      "metadata": {
        "id": "dzDfIPU6Koo4"
      },
      "outputs": [],
      "source": [
        "y_pred_test = model_svr.predict(x_test)\n",
        "y_pred_val = model_svr.predict(x_val)\n",
        "\n",
        "y_pred_test = scaler.inverse_transform(y_pred_test.reshape(-1, 1))\n",
        "y_pred_val = scaler.inverse_transform(y_pred_val.reshape(-1, 1))"
      ]
    },
    {
      "cell_type": "markdown",
      "metadata": {
        "id": "U8mXthjnKoo4"
      },
      "source": [
        "- 30 days prediction:"
      ]
    },
    {
      "cell_type": "code",
      "execution_count": 78,
      "metadata": {
        "id": "zAp4PGcEKoo5"
      },
      "outputs": [],
      "source": [
        "number_of_days_to_predict = 30\n",
        "n_steps = lags\n",
        "\n",
        "x_input = df_price[-number_of_days_to_predict-lags:-number_of_days_to_predict]['Price'].values\n",
        "temp_input = x_input.tolist()\n",
        "\n",
        "ndays_pred = []\n",
        "\n",
        "i = 0\n",
        "while(i < number_of_days_to_predict):\n",
        "    x_input = np.array(temp_input)\n",
        "    x_input = x_input.reshape(1, lags)\n",
        "    y_hat = model_svr.predict(x_input)\n",
        "    temp_input.append(y_hat[0])\n",
        "    temp_input = temp_input[1:]\n",
        "    ndays_pred.append(y_hat[0])\n",
        "    i += 1\n"
      ]
    },
    {
      "cell_type": "code",
      "execution_count": 79,
      "metadata": {
        "colab": {
          "base_uri": "https://localhost:8080/"
        },
        "id": "bBr5CBa_Koo5",
        "outputId": "22b50d5f-2e9c-4950-8ad0-1c2e1d31e060"
      },
      "outputs": [
        {
          "output_type": "execute_result",
          "data": {
            "text/plain": [
              "array([[39252.1754208 ],\n",
              "       [39274.15782181],\n",
              "       [39297.90136512],\n",
              "       [39301.49808605],\n",
              "       [39312.94711968],\n",
              "       [39307.80153657],\n",
              "       [39307.81144179],\n",
              "       [39326.78092726],\n",
              "       [39367.54049754],\n",
              "       [39406.35471466],\n",
              "       [39429.86843116],\n",
              "       [39456.38171082],\n",
              "       [39497.87267434],\n",
              "       [39555.86580661],\n",
              "       [39550.7582691 ],\n",
              "       [39554.80307769],\n",
              "       [39553.03889737],\n",
              "       [39518.91564848],\n",
              "       [39509.62509676],\n",
              "       [39511.0545933 ],\n",
              "       [39515.80794579],\n",
              "       [39509.35262446],\n",
              "       [39495.18294517],\n",
              "       [39504.17024419],\n",
              "       [39535.75179671],\n",
              "       [39593.88675881],\n",
              "       [39641.83299836],\n",
              "       [39681.75282954],\n",
              "       [39702.44219723],\n",
              "       [39756.45374864]])"
            ]
          },
          "metadata": {},
          "execution_count": 79
        }
      ],
      "source": [
        "ndays_pred = scaler.inverse_transform(np.array(ndays_pred).reshape(-1, 1))\n",
        "ndays_pred"
      ]
    },
    {
      "cell_type": "markdown",
      "metadata": {
        "id": "2yBVqe4FKoo5"
      },
      "source": [
        "- Model evaluating (RMSE - MAPE - MSLE):"
      ]
    },
    {
      "cell_type": "code",
      "execution_count": 80,
      "metadata": {
        "colab": {
          "base_uri": "https://localhost:8080/"
        },
        "id": "zGmC0KNzKoo6",
        "outputId": "53206459-fdcc-4027-887b-54ad29b9afaa"
      },
      "outputs": [
        {
          "output_type": "stream",
          "name": "stdout",
          "text": [
            "Testing RMSE: 65098.7439\n",
            "Validating RMSE: 42539.6585\n",
            "Predicting 30 days RMSE: 39474.2095\n",
            "\n",
            "Testing MAPE: 1.0\n",
            "Validating MAPE: 1.0\n",
            "Predicting 30 days MAPE: 1.0\n",
            "\n",
            "Testing MSLE: 111.4766\n",
            "Validating MSLE: 107.0531\n",
            "Predicting 30 days MSLE: 105.914\n"
          ]
        }
      ],
      "source": [
        "last_ndays_data = df_price[-number_of_days_to_predict:]['Price'].values\n",
        "\n",
        "# RMSE\n",
        "test_rmse = mean_squared_error(y_pred_test, y_test, squared=False)\n",
        "val_rmse = mean_squared_error(y_pred_val, y_val, squared=False)\n",
        "ndays_rmse = mean_squared_error(ndays_pred, last_ndays_data, squared=False)\n",
        "print('Testing RMSE:', np.round(test_rmse, 4))\n",
        "print('Validating RMSE:', np.round(val_rmse, 4))\n",
        "print('Predicting {0} days RMSE:'.format(number_of_days_to_predict), np.round(ndays_rmse, 4))\n",
        "\n",
        "# MAPE\n",
        "test_mape = mean_absolute_percentage_error(y_pred_test, y_test)\n",
        "val_mape = mean_absolute_percentage_error(y_pred_val, y_val)\n",
        "ndays_mape = mean_absolute_percentage_error(ndays_pred, last_ndays_data)\n",
        "print('\\nTesting MAPE:', np.round(test_mape, 4))\n",
        "print('Validating MAPE:', np.round(val_mape, 4))\n",
        "print('Predicting {0} days MAPE:'.format(number_of_days_to_predict), np.round(ndays_mape, 4))\n",
        "\n",
        "# MSLE\n",
        "test_msle = mean_squared_log_error(y_pred_test, y_test)\n",
        "val_msle = mean_squared_log_error(y_pred_val, y_val)\n",
        "ndays_msle = mean_squared_log_error(ndays_pred, last_ndays_data)\n",
        "print('\\nTesting MSLE:', np.round(test_msle, 4))\n",
        "print('Validating MSLE:', np.round(val_msle, 4))\n",
        "print('Predicting {0} days MSLE:'.format(number_of_days_to_predict), np.round(ndays_msle, 4))\n"
      ]
    },
    {
      "cell_type": "markdown",
      "metadata": {
        "id": "z1tJIM_HKoo6"
      },
      "source": [
        "- Prediction plotting:"
      ]
    },
    {
      "cell_type": "code",
      "execution_count": 81,
      "metadata": {
        "colab": {
          "base_uri": "https://localhost:8080/",
          "height": 468
        },
        "id": "Z9PVyGqPKoo7",
        "outputId": "7316c876-d1b5-45d0-af6f-2d79e32cfbf1"
      },
      "outputs": [
        {
          "output_type": "display_data",
          "data": {
            "text/plain": [
              "<Figure size 1500x500 with 1 Axes>"
            ],
            "image/png": "[encoded data removed]"
          },
          "metadata": {}
        }
      ],
      "source": [
        "plt.figure(figsize=(15,5))\n",
        "\n",
        "train_data_index = pd.RangeIndex(start=0, stop=train_size, step=1)\n",
        "plt.plot(scaler.inverse_transform(train_data), c='b')\n",
        "\n",
        "test_data_index = pd.RangeIndex(start=train_size, stop=train_size+test_size, step=1)\n",
        "plt.plot(test_data_index, scaler.inverse_transform(test_data), 'orange')\n",
        "\n",
        "test_data_index = pd.RangeIndex(start=train_size + lags + 1, stop=train_size+test_size, step=1)\n",
        "plt.plot(test_data_index, (y_pred_test), 'green')\n",
        "\n",
        "val_data_index = pd.RangeIndex(start=train_size+test_size, stop=train_size+test_size+val_size, step=1)\n",
        "plt.plot(val_data_index, scaler.inverse_transform(val_data), 'gray')\n",
        "\n",
        "val_data_index = pd.RangeIndex(start=train_size+test_size + lags + 1, stop=train_size+test_size+val_size, step=1)\n",
        "plt.plot(val_data_index, y_pred_val, 'purple')\n",
        "\n",
        "prediect_data_index = pd.RangeIndex(start=len(df_price)-number_of_days_to_predict, stop=len(df_price), step=1)\n",
        "plt.plot(prediect_data_index, ndays_pred, 'red')\n",
        "\n",
        "plt.legend(['Train data', 'Test data', 'Test prediction', 'Val data', 'Val prediction', '{0} days prediction'.format(number_of_days_to_predict)], loc='upper left')\n",
        "plt.title('MWG - Prediction plotting')\n",
        "plt.show()"
      ]
    },
    {
      "cell_type": "markdown",
      "metadata": {
        "id": "_i2zfnydKoo7"
      },
      "source": [
        "- Prediction plotting:"
      ]
    },
    {
      "cell_type": "markdown",
      "metadata": {
        "id": "x0kC3pTAKoo8"
      },
      "source": [
        "### Dataset 3: VIC"
      ]
    },
    {
      "cell_type": "code",
      "execution_count": 82,
      "metadata": {
        "colab": {
          "base_uri": "https://localhost:8080/",
          "height": 206
        },
        "id": "AeQGWYjbKoo8",
        "outputId": "c417ad67-cc94-413f-9e2c-3d4b16be8061"
      },
      "outputs": [
        {
          "output_type": "execute_result",
          "data": {
            "text/plain": [
              "           Date  Price   Open   High    Low   Vol. Change %\n",
              "1359 2018-01-02  64628  64132  64876  63967  1.74M    1.16%\n",
              "1358 2018-01-03  66529  65702  68760  64959  6.07M    2.94%\n",
              "1357 2018-01-04  66942  67355  68678  66529  3.55M    0.62%\n",
              "1356 2018-01-05  66116  66942  66942  65289  3.42M   -1.23%\n",
              "1355 2018-01-08  66364  66116  67686  65372  4.81M    0.38%"
            ],
            "text/html": [
              "\n",
              "  <div id=\"df-3b4990e8-3edc-4c04-a513-ca933054d566\">\n",
              "    <div class=\"colab-df-container\">\n",
              "      <div>\n",
              "<style scoped>\n",
              "    .dataframe tbody tr th:only-of-type {\n",
              "        vertical-align: middle;\n",
              "    }\n",
              "\n",
              "    .dataframe tbody tr th {\n",
              "        vertical-align: top;\n",
              "    }\n",
              "\n",
              "    .dataframe thead th {\n",
              "        text-align: right;\n",
              "    }\n",
              "</style>\n",
              "<table border=\"1\" class=\"dataframe\">\n",
              "  <thead>\n",
              "    <tr style=\"text-align: right;\">\n",
              "      <th></th>\n",
              "      <th>Date</th>\n",
              "      <th>Price</th>\n",
              "      <th>Open</th>\n",
              "      <th>High</th>\n",
              "      <th>Low</th>\n",
              "      <th>Vol.</th>\n",
              "      <th>Change %</th>\n",
              "    </tr>\n",
              "  </thead>\n",
              "  <tbody>\n",
              "    <tr>\n",
              "      <th>1359</th>\n",
              "      <td>2018-01-02</td>\n",
              "      <td>64628</td>\n",
              "      <td>64132</td>\n",
              "      <td>64876</td>\n",
              "      <td>63967</td>\n",
              "      <td>1.74M</td>\n",
              "      <td>1.16%</td>\n",
              "    </tr>\n",
              "    <tr>\n",
              "      <th>1358</th>\n",
              "      <td>2018-01-03</td>\n",
              "      <td>66529</td>\n",
              "      <td>65702</td>\n",
              "      <td>68760</td>\n",
              "      <td>64959</td>\n",
              "      <td>6.07M</td>\n",
              "      <td>2.94%</td>\n",
              "    </tr>\n",
              "    <tr>\n",
              "      <th>1357</th>\n",
              "      <td>2018-01-04</td>\n",
              "      <td>66942</td>\n",
              "      <td>67355</td>\n",
              "      <td>68678</td>\n",
              "      <td>66529</td>\n",
              "      <td>3.55M</td>\n",
              "      <td>0.62%</td>\n",
              "    </tr>\n",
              "    <tr>\n",
              "      <th>1356</th>\n",
              "      <td>2018-01-05</td>\n",
              "      <td>66116</td>\n",
              "      <td>66942</td>\n",
              "      <td>66942</td>\n",
              "      <td>65289</td>\n",
              "      <td>3.42M</td>\n",
              "      <td>-1.23%</td>\n",
              "    </tr>\n",
              "    <tr>\n",
              "      <th>1355</th>\n",
              "      <td>2018-01-08</td>\n",
              "      <td>66364</td>\n",
              "      <td>66116</td>\n",
              "      <td>67686</td>\n",
              "      <td>65372</td>\n",
              "      <td>4.81M</td>\n",
              "      <td>0.38%</td>\n",
              "    </tr>\n",
              "  </tbody>\n",
              "</table>\n",
              "</div>\n",
              "      <button class=\"colab-df-convert\" onclick=\"convertToInteractive('df-3b4990e8-3edc-4c04-a513-ca933054d566')\"\n",
              "              title=\"Convert this dataframe to an interactive table.\"\n",
              "              style=\"display:none;\">\n",
              "        \n",
              "  <svg xmlns=\"http://www.w3.org/2000/svg\" height=\"24px\"viewBox=\"0 0 24 24\"\n",
              "       width=\"24px\">\n",
              "    <path d=\"M0 0h24v24H0V0z\" fill=\"none\"/>\n",
              "    <path d=\"M18.56 5.44l.94 2.06.94-2.06 2.06-.94-2.06-.94-.94-2.06-.94 2.06-2.06.94zm-11 1L8.5 8.5l.94-2.06 2.06-.94-2.06-.94L8.5 2.5l-.94 2.06-2.06.94zm10 10l.94 2.06.94-2.06 2.06-.94-2.06-.94-.94-2.06-.94 2.06-2.06.94z\"/><path d=\"M17.41 7.96l-1.37-1.37c-.4-.4-.92-.59-1.43-.59-.52 0-1.04.2-1.43.59L10.3 9.45l-7.72 7.72c-.78.78-.78 2.05 0 2.83L4 21.41c.39.39.9.59 1.41.59.51 0 1.02-.2 1.41-.59l7.78-7.78 2.81-2.81c.8-.78.8-2.07 0-2.86zM5.41 20L4 18.59l7.72-7.72 1.47 1.35L5.41 20z\"/>\n",
              "  </svg>\n",
              "      </button>\n",
              "      \n",
              "  <style>\n",
              "    .colab-df-container {\n",
              "      display:flex;\n",
              "      flex-wrap:wrap;\n",
              "      gap: 12px;\n",
              "    }\n",
              "\n",
              "    .colab-df-convert {\n",
              "      background-color: #E8F0FE;\n",
              "      border: none;\n",
              "      border-radius: 50%;\n",
              "      cursor: pointer;\n",
              "      display: none;\n",
              "      fill: #1967D2;\n",
              "      height: 32px;\n",
              "      padding: 0 0 0 0;\n",
              "      width: 32px;\n",
              "    }\n",
              "\n",
              "    .colab-df-convert:hover {\n",
              "      background-color: #E2EBFA;\n",
              "      box-shadow: 0px 1px 2px rgba(60, 64, 67, 0.3), 0px 1px 3px 1px rgba(60, 64, 67, 0.15);\n",
              "      fill: #174EA6;\n",
              "    }\n",
              "\n",
              "    [theme=dark] .colab-df-convert {\n",
              "      background-color: #3B4455;\n",
              "      fill: #D2E3FC;\n",
              "    }\n",
              "\n",
              "    [theme=dark] .colab-df-convert:hover {\n",
              "      background-color: #434B5C;\n",
              "      box-shadow: 0px 1px 3px 1px rgba(0, 0, 0, 0.15);\n",
              "      filter: drop-shadow(0px 1px 2px rgba(0, 0, 0, 0.3));\n",
              "      fill: #FFFFFF;\n",
              "    }\n",
              "  </style>\n",
              "\n",
              "      <script>\n",
              "        const buttonEl =\n",
              "          document.querySelector('#df-3b4990e8-3edc-4c04-a513-ca933054d566 button.colab-df-convert');\n",
              "        buttonEl.style.display =\n",
              "          google.colab.kernel.accessAllowed ? 'block' : 'none';\n",
              "\n",
              "        async function convertToInteractive(key) {\n",
              "          const element = document.querySelector('#df-3b4990e8-3edc-4c04-a513-ca933054d566');\n",
              "          const dataTable =\n",
              "            await google.colab.kernel.invokeFunction('convertToInteractive',\n",
              "                                                     [key], {});\n",
              "          if (!dataTable) return;\n",
              "\n",
              "          const docLinkHtml = 'Like what you see? Visit the ' +\n",
              "            '<a target=\"_blank\" href=https://colab.research.google.com/notebooks/data_table.ipynb>data table notebook</a>'\n",
              "            + ' to learn more about interactive tables.';\n",
              "          element.innerHTML = '';\n",
              "          dataTable['output_type'] = 'display_data';\n",
              "          await google.colab.output.renderOutput(dataTable, element);\n",
              "          const docLink = document.createElement('div');\n",
              "          docLink.innerHTML = docLinkHtml;\n",
              "          element.appendChild(docLink);\n",
              "        }\n",
              "      </script>\n",
              "    </div>\n",
              "  </div>\n",
              "  "
            ]
          },
          "metadata": {},
          "execution_count": 82
        }
      ],
      "source": [
        "df_vic['Date'] = pd.to_datetime(df_vic['Date'])\n",
        "df_vic = df_vic.sort_values(by='Date', ascending=True)\n",
        "df_vic.head(5)"
      ]
    },
    {
      "cell_type": "markdown",
      "metadata": {
        "id": "HATv0T9TKoo9"
      },
      "source": [
        "- Split Price data\n",
        "- Reset index"
      ]
    },
    {
      "cell_type": "code",
      "execution_count": 83,
      "metadata": {
        "colab": {
          "base_uri": "https://localhost:8080/",
          "height": 206
        },
        "id": "wKii_fOtKoo-",
        "outputId": "f2fccf90-befa-4cb0-b747-9f45f6e24e84"
      },
      "outputs": [
        {
          "output_type": "execute_result",
          "data": {
            "text/plain": [
              "   Price\n",
              "0  64628\n",
              "1  66529\n",
              "2  66942\n",
              "3  66116\n",
              "4  66364"
            ],
            "text/html": [
              "\n",
              "  <div id=\"df-d024f32d-e17d-4d86-9009-6f1c415eb0eb\">\n",
              "    <div class=\"colab-df-container\">\n",
              "      <div>\n",
              "<style scoped>\n",
              "    .dataframe tbody tr th:only-of-type {\n",
              "        vertical-align: middle;\n",
              "    }\n",
              "\n",
              "    .dataframe tbody tr th {\n",
              "        vertical-align: top;\n",
              "    }\n",
              "\n",
              "    .dataframe thead th {\n",
              "        text-align: right;\n",
              "    }\n",
              "</style>\n",
              "<table border=\"1\" class=\"dataframe\">\n",
              "  <thead>\n",
              "    <tr style=\"text-align: right;\">\n",
              "      <th></th>\n",
              "      <th>Price</th>\n",
              "    </tr>\n",
              "  </thead>\n",
              "  <tbody>\n",
              "    <tr>\n",
              "      <th>0</th>\n",
              "      <td>64628</td>\n",
              "    </tr>\n",
              "    <tr>\n",
              "      <th>1</th>\n",
              "      <td>66529</td>\n",
              "    </tr>\n",
              "    <tr>\n",
              "      <th>2</th>\n",
              "      <td>66942</td>\n",
              "    </tr>\n",
              "    <tr>\n",
              "      <th>3</th>\n",
              "      <td>66116</td>\n",
              "    </tr>\n",
              "    <tr>\n",
              "      <th>4</th>\n",
              "      <td>66364</td>\n",
              "    </tr>\n",
              "  </tbody>\n",
              "</table>\n",
              "</div>\n",
              "      <button class=\"colab-df-convert\" onclick=\"convertToInteractive('df-d024f32d-e17d-4d86-9009-6f1c415eb0eb')\"\n",
              "              title=\"Convert this dataframe to an interactive table.\"\n",
              "              style=\"display:none;\">\n",
              "        \n",
              "  <svg xmlns=\"http://www.w3.org/2000/svg\" height=\"24px\"viewBox=\"0 0 24 24\"\n",
              "       width=\"24px\">\n",
              "    <path d=\"M0 0h24v24H0V0z\" fill=\"none\"/>\n",
              "    <path d=\"M18.56 5.44l.94 2.06.94-2.06 2.06-.94-2.06-.94-.94-2.06-.94 2.06-2.06.94zm-11 1L8.5 8.5l.94-2.06 2.06-.94-2.06-.94L8.5 2.5l-.94 2.06-2.06.94zm10 10l.94 2.06.94-2.06 2.06-.94-2.06-.94-.94-2.06-.94 2.06-2.06.94z\"/><path d=\"M17.41 7.96l-1.37-1.37c-.4-.4-.92-.59-1.43-.59-.52 0-1.04.2-1.43.59L10.3 9.45l-7.72 7.72c-.78.78-.78 2.05 0 2.83L4 21.41c.39.39.9.59 1.41.59.51 0 1.02-.2 1.41-.59l7.78-7.78 2.81-2.81c.8-.78.8-2.07 0-2.86zM5.41 20L4 18.59l7.72-7.72 1.47 1.35L5.41 20z\"/>\n",
              "  </svg>\n",
              "      </button>\n",
              "      \n",
              "  <style>\n",
              "    .colab-df-container {\n",
              "      display:flex;\n",
              "      flex-wrap:wrap;\n",
              "      gap: 12px;\n",
              "    }\n",
              "\n",
              "    .colab-df-convert {\n",
              "      background-color: #E8F0FE;\n",
              "      border: none;\n",
              "      border-radius: 50%;\n",
              "      cursor: pointer;\n",
              "      display: none;\n",
              "      fill: #1967D2;\n",
              "      height: 32px;\n",
              "      padding: 0 0 0 0;\n",
              "      width: 32px;\n",
              "    }\n",
              "\n",
              "    .colab-df-convert:hover {\n",
              "      background-color: #E2EBFA;\n",
              "      box-shadow: 0px 1px 2px rgba(60, 64, 67, 0.3), 0px 1px 3px 1px rgba(60, 64, 67, 0.15);\n",
              "      fill: #174EA6;\n",
              "    }\n",
              "\n",
              "    [theme=dark] .colab-df-convert {\n",
              "      background-color: #3B4455;\n",
              "      fill: #D2E3FC;\n",
              "    }\n",
              "\n",
              "    [theme=dark] .colab-df-convert:hover {\n",
              "      background-color: #434B5C;\n",
              "      box-shadow: 0px 1px 3px 1px rgba(0, 0, 0, 0.15);\n",
              "      filter: drop-shadow(0px 1px 2px rgba(0, 0, 0, 0.3));\n",
              "      fill: #FFFFFF;\n",
              "    }\n",
              "  </style>\n",
              "\n",
              "      <script>\n",
              "        const buttonEl =\n",
              "          document.querySelector('#df-d024f32d-e17d-4d86-9009-6f1c415eb0eb button.colab-df-convert');\n",
              "        buttonEl.style.display =\n",
              "          google.colab.kernel.accessAllowed ? 'block' : 'none';\n",
              "\n",
              "        async function convertToInteractive(key) {\n",
              "          const element = document.querySelector('#df-d024f32d-e17d-4d86-9009-6f1c415eb0eb');\n",
              "          const dataTable =\n",
              "            await google.colab.kernel.invokeFunction('convertToInteractive',\n",
              "                                                     [key], {});\n",
              "          if (!dataTable) return;\n",
              "\n",
              "          const docLinkHtml = 'Like what you see? Visit the ' +\n",
              "            '<a target=\"_blank\" href=https://colab.research.google.com/notebooks/data_table.ipynb>data table notebook</a>'\n",
              "            + ' to learn more about interactive tables.';\n",
              "          element.innerHTML = '';\n",
              "          dataTable['output_type'] = 'display_data';\n",
              "          await google.colab.output.renderOutput(dataTable, element);\n",
              "          const docLink = document.createElement('div');\n",
              "          docLink.innerHTML = docLinkHtml;\n",
              "          element.appendChild(docLink);\n",
              "        }\n",
              "      </script>\n",
              "    </div>\n",
              "  </div>\n",
              "  "
            ]
          },
          "metadata": {},
          "execution_count": 83
        }
      ],
      "source": [
        "df_price = df_vic[['Price']]\n",
        "df_price = df_price.reset_index(drop=True)\n",
        "df_price.head(5)"
      ]
    },
    {
      "cell_type": "markdown",
      "metadata": {
        "id": "GBVbVGIQKoo-"
      },
      "source": [
        "- Scale data between 0 and 1:"
      ]
    },
    {
      "cell_type": "code",
      "execution_count": 84,
      "metadata": {
        "colab": {
          "base_uri": "https://localhost:8080/",
          "height": 206
        },
        "id": "snMD325iKoo_",
        "outputId": "afd9372b-37d1-44aa-99fc-bd4401ac69ac"
      },
      "outputs": [
        {
          "output_type": "execute_result",
          "data": {
            "text/plain": [
              "      Price\n",
              "0  0.182297\n",
              "1  0.206826\n",
              "2  0.212155\n",
              "3  0.201497\n",
              "4  0.204697"
            ],
            "text/html": [
              "\n",
              "  <div id=\"df-97bdb9c3-ad2a-4718-96ee-6f6459f27603\">\n",
              "    <div class=\"colab-df-container\">\n",
              "      <div>\n",
              "<style scoped>\n",
              "    .dataframe tbody tr th:only-of-type {\n",
              "        vertical-align: middle;\n",
              "    }\n",
              "\n",
              "    .dataframe tbody tr th {\n",
              "        vertical-align: top;\n",
              "    }\n",
              "\n",
              "    .dataframe thead th {\n",
              "        text-align: right;\n",
              "    }\n",
              "</style>\n",
              "<table border=\"1\" class=\"dataframe\">\n",
              "  <thead>\n",
              "    <tr style=\"text-align: right;\">\n",
              "      <th></th>\n",
              "      <th>Price</th>\n",
              "    </tr>\n",
              "  </thead>\n",
              "  <tbody>\n",
              "    <tr>\n",
              "      <th>0</th>\n",
              "      <td>0.182297</td>\n",
              "    </tr>\n",
              "    <tr>\n",
              "      <th>1</th>\n",
              "      <td>0.206826</td>\n",
              "    </tr>\n",
              "    <tr>\n",
              "      <th>2</th>\n",
              "      <td>0.212155</td>\n",
              "    </tr>\n",
              "    <tr>\n",
              "      <th>3</th>\n",
              "      <td>0.201497</td>\n",
              "    </tr>\n",
              "    <tr>\n",
              "      <th>4</th>\n",
              "      <td>0.204697</td>\n",
              "    </tr>\n",
              "  </tbody>\n",
              "</table>\n",
              "</div>\n",
              "      <button class=\"colab-df-convert\" onclick=\"convertToInteractive('df-97bdb9c3-ad2a-4718-96ee-6f6459f27603')\"\n",
              "              title=\"Convert this dataframe to an interactive table.\"\n",
              "              style=\"display:none;\">\n",
              "        \n",
              "  <svg xmlns=\"http://www.w3.org/2000/svg\" height=\"24px\"viewBox=\"0 0 24 24\"\n",
              "       width=\"24px\">\n",
              "    <path d=\"M0 0h24v24H0V0z\" fill=\"none\"/>\n",
              "    <path d=\"M18.56 5.44l.94 2.06.94-2.06 2.06-.94-2.06-.94-.94-2.06-.94 2.06-2.06.94zm-11 1L8.5 8.5l.94-2.06 2.06-.94-2.06-.94L8.5 2.5l-.94 2.06-2.06.94zm10 10l.94 2.06.94-2.06 2.06-.94-2.06-.94-.94-2.06-.94 2.06-2.06.94z\"/><path d=\"M17.41 7.96l-1.37-1.37c-.4-.4-.92-.59-1.43-.59-.52 0-1.04.2-1.43.59L10.3 9.45l-7.72 7.72c-.78.78-.78 2.05 0 2.83L4 21.41c.39.39.9.59 1.41.59.51 0 1.02-.2 1.41-.59l7.78-7.78 2.81-2.81c.8-.78.8-2.07 0-2.86zM5.41 20L4 18.59l7.72-7.72 1.47 1.35L5.41 20z\"/>\n",
              "  </svg>\n",
              "      </button>\n",
              "      \n",
              "  <style>\n",
              "    .colab-df-container {\n",
              "      display:flex;\n",
              "      flex-wrap:wrap;\n",
              "      gap: 12px;\n",
              "    }\n",
              "\n",
              "    .colab-df-convert {\n",
              "      background-color: #E8F0FE;\n",
              "      border: none;\n",
              "      border-radius: 50%;\n",
              "      cursor: pointer;\n",
              "      display: none;\n",
              "      fill: #1967D2;\n",
              "      height: 32px;\n",
              "      padding: 0 0 0 0;\n",
              "      width: 32px;\n",
              "    }\n",
              "\n",
              "    .colab-df-convert:hover {\n",
              "      background-color: #E2EBFA;\n",
              "      box-shadow: 0px 1px 2px rgba(60, 64, 67, 0.3), 0px 1px 3px 1px rgba(60, 64, 67, 0.15);\n",
              "      fill: #174EA6;\n",
              "    }\n",
              "\n",
              "    [theme=dark] .colab-df-convert {\n",
              "      background-color: #3B4455;\n",
              "      fill: #D2E3FC;\n",
              "    }\n",
              "\n",
              "    [theme=dark] .colab-df-convert:hover {\n",
              "      background-color: #434B5C;\n",
              "      box-shadow: 0px 1px 3px 1px rgba(0, 0, 0, 0.15);\n",
              "      filter: drop-shadow(0px 1px 2px rgba(0, 0, 0, 0.3));\n",
              "      fill: #FFFFFF;\n",
              "    }\n",
              "  </style>\n",
              "\n",
              "      <script>\n",
              "        const buttonEl =\n",
              "          document.querySelector('#df-97bdb9c3-ad2a-4718-96ee-6f6459f27603 button.colab-df-convert');\n",
              "        buttonEl.style.display =\n",
              "          google.colab.kernel.accessAllowed ? 'block' : 'none';\n",
              "\n",
              "        async function convertToInteractive(key) {\n",
              "          const element = document.querySelector('#df-97bdb9c3-ad2a-4718-96ee-6f6459f27603');\n",
              "          const dataTable =\n",
              "            await google.colab.kernel.invokeFunction('convertToInteractive',\n",
              "                                                     [key], {});\n",
              "          if (!dataTable) return;\n",
              "\n",
              "          const docLinkHtml = 'Like what you see? Visit the ' +\n",
              "            '<a target=\"_blank\" href=https://colab.research.google.com/notebooks/data_table.ipynb>data table notebook</a>'\n",
              "            + ' to learn more about interactive tables.';\n",
              "          element.innerHTML = '';\n",
              "          dataTable['output_type'] = 'display_data';\n",
              "          await google.colab.output.renderOutput(dataTable, element);\n",
              "          const docLink = document.createElement('div');\n",
              "          docLink.innerHTML = docLinkHtml;\n",
              "          element.appendChild(docLink);\n",
              "        }\n",
              "      </script>\n",
              "    </div>\n",
              "  </div>\n",
              "  "
            ]
          },
          "metadata": {},
          "execution_count": 84
        }
      ],
      "source": [
        "scaler = MinMaxScaler(feature_range=(0, 1))\n",
        "df_price['Price'] = scaler.fit_transform(np.array(df_price['Price']).reshape(-1,1))\n",
        "df_price.head(5)"
      ]
    },
    {
      "cell_type": "markdown",
      "metadata": {
        "id": "3iHv0Or1Koo_"
      },
      "source": [
        "- Split data into train, test, val (7 - 2 - 1):"
      ]
    },
    {
      "cell_type": "code",
      "execution_count": 85,
      "metadata": {
        "colab": {
          "base_uri": "https://localhost:8080/"
        },
        "id": "CiuoYkRRKopA",
        "outputId": "6ee007e4-126f-4515-acfa-a5c36d27fc09"
      },
      "outputs": [
        {
          "output_type": "stream",
          "name": "stdout",
          "text": [
            "(1088, 1)\n",
            "(136, 1)\n",
            "(136, 1)\n"
          ]
        }
      ],
      "source": [
        "train_size = int(0.8 * len(df_price))\n",
        "test_size = int(0.1 * len(df_price))\n",
        "val_size = len(df_price) - train_size - test_size\n",
        "\n",
        "train_data = df_price[:train_size]\n",
        "test_data = df_price[train_size:train_size+test_size]\n",
        "val_data = df_price[train_size+test_size:]\n",
        "\n",
        "print(train_data.shape)\n",
        "print(test_data.shape)\n",
        "print(val_data.shape)"
      ]
    },
    {
      "cell_type": "code",
      "execution_count": 86,
      "metadata": {
        "colab": {
          "base_uri": "https://localhost:8080/",
          "height": 468
        },
        "id": "42mI9CitKopB",
        "outputId": "b7dfda11-13bc-4b78-f5ec-986672313e33"
      },
      "outputs": [
        {
          "output_type": "display_data",
          "data": {
            "text/plain": [
              "<Figure size 1500x500 with 1 Axes>"
            ],
            "image/png": "[encoded data removed]"
          },
          "metadata": {}
        }
      ],
      "source": [
        "plt.figure(figsize=(15,5))\n",
        "plt.plot(train_data.index, train_data['Price'], 'b')\n",
        "plt.plot(test_data.index, test_data['Price'], 'orange')\n",
        "plt.plot(val_data.index, val_data['Price'], 'gray')\n",
        "plt.legend(['Train data', 'Test data', 'Val data'], loc='upper left')\n",
        "plt.title('VIC - Data after split into train, test, val')\n",
        "plt.show()"
      ]
    },
    {
      "cell_type": "markdown",
      "metadata": {
        "id": "fn6vqrhSKopC"
      },
      "source": [
        "- Prepare x, y data:"
      ]
    },
    {
      "cell_type": "code",
      "execution_count": 87,
      "metadata": {
        "id": "8NcgMXNMKopD"
      },
      "outputs": [],
      "source": [
        "def make_lags_data(dataset, lags=1):\n",
        "\tdataX, dataY = [], []\n",
        "\tfor i in range(len(dataset) - lags - 1):\n",
        "\t\ta = dataset[i:(i + lags)]\n",
        "\t\tdataX.append(a)\n",
        "\t\tdataY.append(dataset[i + lags])\n",
        "\treturn np.array(dataX), np.array(dataY)"
      ]
    },
    {
      "cell_type": "code",
      "execution_count": 88,
      "metadata": {
        "id": "poqM63boKopE"
      },
      "outputs": [],
      "source": [
        "lags = 30\n",
        "\n",
        "x_train, y_train = make_lags_data(train_data['Price'].values, lags=lags)\n",
        "\n",
        "x_test, y_test = make_lags_data(test_data['Price'].values, lags=lags)\n",
        "\n",
        "x_val, y_val = make_lags_data(val_data['Price'].values, lags=lags)"
      ]
    },
    {
      "cell_type": "markdown",
      "metadata": {
        "id": "q2oriatuKopE"
      },
      "source": [
        "- Model training:"
      ]
    },
    {
      "cell_type": "code",
      "execution_count": 89,
      "metadata": {
        "colab": {
          "base_uri": "https://localhost:8080/",
          "height": 75
        },
        "id": "qdTceWlgKopF",
        "outputId": "3d7ef13e-2019-465a-f586-bbcccf798713"
      },
      "outputs": [
        {
          "output_type": "execute_result",
          "data": {
            "text/plain": [
              "SVR()"
            ],
            "text/html": [
              "<style>#sk-container-id-6 {color: black;background-color: white;}#sk-container-id-6 pre{padding: 0;}#sk-container-id-6 div.sk-toggleable {background-color: white;}#sk-container-id-6 label.sk-toggleable__label {cursor: pointer;display: block;width: 100%;margin-bottom: 0;padding: 0.3em;box-sizing: border-box;text-align: center;}#sk-container-id-6 label.sk-toggleable__label-arrow:before {content: \"▸\";float: left;margin-right: 0.25em;color: #696969;}#sk-container-id-6 label.sk-toggleable__label-arrow:hover:before {color: black;}#sk-container-id-6 div.sk-estimator:hover label.sk-toggleable__label-arrow:before {color: black;}#sk-container-id-6 div.sk-toggleable__content {max-height: 0;max-width: 0;overflow: hidden;text-align: left;background-color: #f0f8ff;}#sk-container-id-6 div.sk-toggleable__content pre {margin: 0.2em;color: black;border-radius: 0.25em;background-color: #f0f8ff;}#sk-container-id-6 input.sk-toggleable__control:checked~div.sk-toggleable__content {max-height: 200px;max-width: 100%;overflow: auto;}#sk-container-id-6 input.sk-toggleable__control:checked~label.sk-toggleable__label-arrow:before {content: \"▾\";}#sk-container-id-6 div.sk-estimator input.sk-toggleable__control:checked~label.sk-toggleable__label {background-color: #d4ebff;}#sk-container-id-6 div.sk-label input.sk-toggleable__control:checked~label.sk-toggleable__label {background-color: #d4ebff;}#sk-container-id-6 input.sk-hidden--visually {border: 0;clip: rect(1px 1px 1px 1px);clip: rect(1px, 1px, 1px, 1px);height: 1px;margin: -1px;overflow: hidden;padding: 0;position: absolute;width: 1px;}#sk-container-id-6 div.sk-estimator {font-family: monospace;background-color: #f0f8ff;border: 1px dotted black;border-radius: 0.25em;box-sizing: border-box;margin-bottom: 0.5em;}#sk-container-id-6 div.sk-estimator:hover {background-color: #d4ebff;}#sk-container-id-6 div.sk-parallel-item::after {content: \"\";width: 100%;border-bottom: 1px solid gray;flex-grow: 1;}#sk-container-id-6 div.sk-label:hover label.sk-toggleable__label {background-color: #d4ebff;}#sk-container-id-6 div.sk-serial::before {content: \"\";position: absolute;border-left: 1px solid gray;box-sizing: border-box;top: 0;bottom: 0;left: 50%;z-index: 0;}#sk-container-id-6 div.sk-serial {display: flex;flex-direction: column;align-items: center;background-color: white;padding-right: 0.2em;padding-left: 0.2em;position: relative;}#sk-container-id-6 div.sk-item {position: relative;z-index: 1;}#sk-container-id-6 div.sk-parallel {display: flex;align-items: stretch;justify-content: center;background-color: white;position: relative;}#sk-container-id-6 div.sk-item::before, #sk-container-id-6 div.sk-parallel-item::before {content: \"\";position: absolute;border-left: 1px solid gray;box-sizing: border-box;top: 0;bottom: 0;left: 50%;z-index: -1;}#sk-container-id-6 div.sk-parallel-item {display: flex;flex-direction: column;z-index: 1;position: relative;background-color: white;}#sk-container-id-6 div.sk-parallel-item:first-child::after {align-self: flex-end;width: 50%;}#sk-container-id-6 div.sk-parallel-item:last-child::after {align-self: flex-start;width: 50%;}#sk-container-id-6 div.sk-parallel-item:only-child::after {width: 0;}#sk-container-id-6 div.sk-dashed-wrapped {border: 1px dashed gray;margin: 0 0.4em 0.5em 0.4em;box-sizing: border-box;padding-bottom: 0.4em;background-color: white;}#sk-container-id-6 div.sk-label label {font-family: monospace;font-weight: bold;display: inline-block;line-height: 1.2em;}#sk-container-id-6 div.sk-label-container {text-align: center;}#sk-container-id-6 div.sk-container {/* jupyter's `normalize.less` sets `[hidden] { display: none; }` but bootstrap.min.css set `[hidden] { display: none !important; }` so we also need the `!important` here to be able to override the default hidden behavior on the sphinx rendered scikit-learn.org. See: https://github.com/scikit-learn/scikit-learn/issues/21755 */display: inline-block !important;position: relative;}#sk-container-id-6 div.sk-text-repr-fallback {display: none;}</style><div id=\"sk-container-id-6\" class=\"sk-top-container\"><div class=\"sk-text-repr-fallback\"><pre>SVR()</pre><b>In a Jupyter environment, please rerun this cell to show the HTML representation or trust the notebook. <br />On GitHub, the HTML representation is unable to render, please try loading this page with nbviewer.org.</b></div><div class=\"sk-container\" hidden><div class=\"sk-item\"><div class=\"sk-estimator sk-toggleable\"><input class=\"sk-toggleable__control sk-hidden--visually\" id=\"sk-estimator-id-6\" type=\"checkbox\" checked><label for=\"sk-estimator-id-6\" class=\"sk-toggleable__label sk-toggleable__label-arrow\">SVR</label><div class=\"sk-toggleable__content\"><pre>SVR()</pre></div></div></div></div></div>"
            ]
          },
          "metadata": {},
          "execution_count": 89
        }
      ],
      "source": [
        "model_svr = SVR(kernel='rbf')\n",
        "model_svr.fit(x_train, y_train)"
      ]
    },
    {
      "cell_type": "markdown",
      "metadata": {
        "id": "sDnxlBH5KopG"
      },
      "source": [
        "- Model Prediction on test, val (one-step prediction):"
      ]
    },
    {
      "cell_type": "code",
      "execution_count": 90,
      "metadata": {
        "id": "bJ_JIC4lKopG"
      },
      "outputs": [],
      "source": [
        "y_pred_test = model_svr.predict(x_test)\n",
        "y_pred_val = model_svr.predict(x_val)\n",
        "\n",
        "y_pred_test = scaler.inverse_transform(y_pred_test.reshape(-1, 1))\n",
        "y_pred_val = scaler.inverse_transform(y_pred_val.reshape(-1, 1))"
      ]
    },
    {
      "cell_type": "markdown",
      "metadata": {
        "id": "xNeS6FhWKopH"
      },
      "source": [
        "- 30 days prediction:"
      ]
    },
    {
      "cell_type": "code",
      "execution_count": 91,
      "metadata": {
        "id": "L_ao2-t2KopH"
      },
      "outputs": [],
      "source": [
        "number_of_days_to_predict = 30\n",
        "n_steps = lags\n",
        "\n",
        "x_input = df_price[-number_of_days_to_predict-lags:-number_of_days_to_predict]['Price'].values\n",
        "temp_input = x_input.tolist()\n",
        "\n",
        "ndays_pred = []\n",
        "\n",
        "i = 0\n",
        "while(i < number_of_days_to_predict):\n",
        "    x_input = np.array(temp_input)\n",
        "    x_input = x_input.reshape(1, lags)\n",
        "    y_hat = model_svr.predict(x_input)\n",
        "    temp_input.append(y_hat[0])\n",
        "    temp_input = temp_input[1:]\n",
        "    ndays_pred.append(y_hat[0])\n",
        "    i += 1\n"
      ]
    },
    {
      "cell_type": "code",
      "execution_count": 92,
      "metadata": {
        "colab": {
          "base_uri": "https://localhost:8080/"
        },
        "id": "TPZGOcryKopI",
        "outputId": "e385c200-600f-40e7-b798-de182e3380c0"
      },
      "outputs": [
        {
          "output_type": "execute_result",
          "data": {
            "text/plain": [
              "array([[93799.56195704],\n",
              "       [93767.62086128],\n",
              "       [93861.79429118],\n",
              "       [94028.32847523],\n",
              "       [94328.79191489],\n",
              "       [94571.96950459],\n",
              "       [94737.99779033],\n",
              "       [94889.67581819],\n",
              "       [95034.44074686],\n",
              "       [95094.69121518],\n",
              "       [95160.63165006],\n",
              "       [95227.91975128],\n",
              "       [95300.97659537],\n",
              "       [95367.50309867],\n",
              "       [95426.89736574],\n",
              "       [95491.49514632],\n",
              "       [95548.81358701],\n",
              "       [95613.74829741],\n",
              "       [95681.35711472],\n",
              "       [95786.28426186],\n",
              "       [95888.7392543 ],\n",
              "       [96086.69756232],\n",
              "       [96404.55584258],\n",
              "       [96723.83192998],\n",
              "       [97097.22592058],\n",
              "       [97196.5508779 ],\n",
              "       [97322.6620112 ],\n",
              "       [97559.14500055],\n",
              "       [97799.61691394],\n",
              "       [98342.41760603]])"
            ]
          },
          "metadata": {},
          "execution_count": 92
        }
      ],
      "source": [
        "ndays_pred = scaler.inverse_transform(np.array(ndays_pred).reshape(-1, 1))\n",
        "ndays_pred"
      ]
    },
    {
      "cell_type": "markdown",
      "metadata": {
        "id": "ehmtDlN9KopI"
      },
      "source": [
        "- Model evaluating (RMSE - MAPE - MSLE):"
      ]
    },
    {
      "cell_type": "code",
      "execution_count": 93,
      "metadata": {
        "colab": {
          "base_uri": "https://localhost:8080/"
        },
        "id": "wmaLdCfEKopJ",
        "outputId": "f65f2000-5be7-4e1c-cd26-42a2ff647827"
      },
      "outputs": [
        {
          "output_type": "stream",
          "name": "stdout",
          "text": [
            "Testing RMSE: 86179.2407\n",
            "Validating RMSE: 93420.6501\n",
            "Predicting 30 days RMSE: 95645.5828\n",
            "\n",
            "Testing MAPE: 1.0\n",
            "Validating MAPE: 1.0\n",
            "Predicting 30 days MAPE: 1.0\n",
            "\n",
            "Testing MSLE: 125.8354\n",
            "Validating MSLE: 130.1371\n",
            "Predicting 30 days MSLE: 130.9428\n"
          ]
        }
      ],
      "source": [
        "last_ndays_data = df_price[-number_of_days_to_predict:]['Price'].values\n",
        "\n",
        "# RMSE\n",
        "test_rmse = mean_squared_error(y_pred_test, y_test, squared=False)\n",
        "val_rmse = mean_squared_error(y_pred_val, y_val, squared=False)\n",
        "ndays_rmse = mean_squared_error(ndays_pred, last_ndays_data, squared=False)\n",
        "print('Testing RMSE:', np.round(test_rmse, 4))\n",
        "print('Validating RMSE:', np.round(val_rmse, 4))\n",
        "print('Predicting {0} days RMSE:'.format(number_of_days_to_predict), np.round(ndays_rmse, 4))\n",
        "\n",
        "# MAPE\n",
        "test_mape = mean_absolute_percentage_error(y_pred_test, y_test)\n",
        "val_mape = mean_absolute_percentage_error(y_pred_val, y_val)\n",
        "ndays_mape = mean_absolute_percentage_error(ndays_pred, last_ndays_data)\n",
        "print('\\nTesting MAPE:', np.round(test_mape, 4))\n",
        "print('Validating MAPE:', np.round(val_mape, 4))\n",
        "print('Predicting {0} days MAPE:'.format(number_of_days_to_predict), np.round(ndays_mape, 4))\n",
        "\n",
        "# MSLE\n",
        "test_msle = mean_squared_log_error(y_pred_test, y_test)\n",
        "val_msle = mean_squared_log_error(y_pred_val, y_val)\n",
        "ndays_msle = mean_squared_log_error(ndays_pred, last_ndays_data)\n",
        "print('\\nTesting MSLE:', np.round(test_msle, 4))\n",
        "print('Validating MSLE:', np.round(val_msle, 4))\n",
        "print('Predicting {0} days MSLE:'.format(number_of_days_to_predict), np.round(ndays_msle, 4))\n"
      ]
    },
    {
      "cell_type": "markdown",
      "metadata": {
        "id": "BxoPEtdSKopJ"
      },
      "source": [
        "- Prediction plotting:"
      ]
    },
    {
      "cell_type": "code",
      "execution_count": 94,
      "metadata": {
        "colab": {
          "base_uri": "https://localhost:8080/",
          "height": 468
        },
        "id": "OeUy3je-KopK",
        "outputId": "7871b88c-ceac-44ce-c07f-e811bf7f390d"
      },
      "outputs": [
        {
          "output_type": "display_data",
          "data": {
            "text/plain": [
              "<Figure size 1500x500 with 1 Axes>"
            ],
            "image/png": "[encoded data removed]"
          },
          "metadata": {}
        }
      ],
      "source": [
        "plt.figure(figsize=(15,5))\n",
        "\n",
        "train_data_index = pd.RangeIndex(start=0, stop=train_size, step=1)\n",
        "plt.plot(scaler.inverse_transform(train_data), c='b')\n",
        "\n",
        "test_data_index = pd.RangeIndex(start=train_size, stop=train_size+test_size, step=1)\n",
        "plt.plot(test_data_index, scaler.inverse_transform(test_data), 'orange')\n",
        "\n",
        "test_data_index = pd.RangeIndex(start=train_size + lags + 1, stop=train_size+test_size, step=1)\n",
        "plt.plot(test_data_index, (y_pred_test), 'green')\n",
        "\n",
        "val_data_index = pd.RangeIndex(start=train_size+test_size, stop=train_size+test_size+val_size, step=1)\n",
        "plt.plot(val_data_index, scaler.inverse_transform(val_data), 'gray')\n",
        "\n",
        "val_data_index = pd.RangeIndex(start=train_size+test_size + lags + 1, stop=train_size+test_size+val_size, step=1)\n",
        "plt.plot(val_data_index, y_pred_val, 'purple')\n",
        "\n",
        "prediect_data_index = pd.RangeIndex(start=len(df_price)-number_of_days_to_predict, stop=len(df_price), step=1)\n",
        "plt.plot(prediect_data_index, ndays_pred, 'red')\n",
        "\n",
        "plt.legend(['Train data', 'Test data', 'Test prediction', 'Val data', 'Val prediction', '{0} days prediction'.format(number_of_days_to_predict)], loc='upper left')\n",
        "plt.title('VIC - Prediction plotting')\n",
        "plt.show()"
      ]
    }
  ],
  "metadata": {
    "kernelspec": {
      "display_name": "Python 3",
      "language": "python",
      "name": "python3"
    },
    "language_info": {
      "codemirror_mode": {
        "name": "ipython",
        "version": 3
      },
      "file_extension": ".py",
      "mimetype": "text/x-python",
      "name": "python",
      "nbconvert_exporter": "python",
      "pygments_lexer": "ipython3",
      "version": "3.9.4"
    },
    "orig_nbformat": 4,
    "colab": {
      "provenance": []
    }
  },
  "nbformat": 4,
  "nbformat_minor": 0
}